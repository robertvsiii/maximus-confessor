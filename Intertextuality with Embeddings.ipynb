{
 "cells": [
  {
   "cell_type": "markdown",
   "id": "9ede48a8-c03e-49b3-8845-3eaf25ce1ea4",
   "metadata": {},
   "source": [
    "The point of this notebook is to provide a relatively user-friendly interface for finding passages related to a given passage, via comparison of their OpenAI vector embeddings. I presume that the texts have already been loaded into the Tesserae database and vectorized, following the scripts in the Maximus-bioinformatics notebook. "
   ]
  },
  {
   "cell_type": "code",
   "execution_count": 7,
   "id": "3205bd7f-e944-4de0-aed5-3c77ec20fec5",
   "metadata": {},
   "outputs": [],
   "source": [
    "from bson import ObjectId\n",
    "import pandas as pd\n",
    "from tesserae.db import TessMongoConnection\n",
    "import numpy as np\n",
    "import matplotlib.pyplot as plt\n",
    "from sklearn.decomposition import PCA\n",
    "\n",
    "connection = TessMongoConnection('127.0.0.1', 27017, None, None, db='tesstest')\n",
    "\n",
    "def load_vectors_from_mongodb(title,unit_type='line'):\n",
    "    text_id = connection.find('texts',title=title)[0].id\n",
    "    vectors = pd.DataFrame(connection.aggregate('vectors',[{'$match': {'text': text_id, 'unit_type': unit_type}}, \n",
    "                                               {\"$project\": {\"_id\": 0, \"index\": 1, \"tags\": {\"$arrayElemAt\": [\"$tags\", 0]}, \"unit_type\": 1, \"vector\": 1}}],\n",
    "                                              encode=False))\n",
    "    vectors['title'] = title\n",
    "    data = np.array([np.array(vector) for vector in vectors['vector']])\n",
    "    metadata = vectors.T.drop('vector').T\n",
    "    return data, metadata\n",
    "\n",
    "def fit_and_transform_pca(data, n_components=50):\n",
    "    pca = PCA(n_components=n_components)\n",
    "    return pca.fit_transform(data)\n",
    "\n",
    "def find_related(passage,title,unit_type='line',n_components=500,N=15,plot=False):\n",
    "    if 'phrase' not in passage.keys():\n",
    "        passage['phrase']=0\n",
    "\n",
    "    #Load source and target data\n",
    "    data_s, metadata_s = load_vectors_from_mongodb(passage['title'],unit_type=passage['unit_type'])\n",
    "    data_t, metadata_t = load_vectors_from_mongodb(title,unit_type=unit_type)\n",
    "    data = np.vstack((data_s,data_t))\n",
    "\n",
    "    #Find text id's\n",
    "    text_s = connection.find('texts',title=passage['title'])[0].id\n",
    "    text_t = connection.find('texts',title=title)[0].id\n",
    "\n",
    "    #Reduce to relevant dimensions using PCA\n",
    "    pca_result = fit_and_transform_pca(data,n_components=n_components)\n",
    "    pca_result = (pca_result.T/np.linalg.norm(pca_result,axis=1)).T\n",
    "    N_s = len(data_s)\n",
    "    data_s = pca_result[:N_s]\n",
    "    data_t = pca_result[N_s:]\n",
    "\n",
    "    #Find the text of the source passage and its index, then compute distances\n",
    "    content = connection.find('units',tags=passage['tag'],text=text_s,unit_type=passage['unit_type'])[passage['phrase']]\n",
    "    idx = metadata_s.loc[metadata_s['index']==content.index].index[0]\n",
    "    metadata_t['distance'] = data_t.dot(data_s[idx,:])\n",
    "\n",
    "    #Plot all distances for reference\n",
    "    if plot:\n",
    "        plt.hist(metadata_t['distance'],bins=100)\n",
    "        plt.show()\n",
    "\n",
    "    print('Source passage:')\n",
    "    print(content.snippet)\n",
    "    print('-----------------')\n",
    "    print('-----------------')\n",
    "\n",
    "    #Sort by distance and print\n",
    "    metadata_sorted = metadata_t.sort_values('distance',ascending=False)\n",
    "    k = 0\n",
    "    while k <= N:\n",
    "        idx_k = metadata_sorted['index'].iloc[k]\n",
    "        tag_k = metadata_sorted['tags'].iloc[k]\n",
    "        dist_k = metadata_sorted['distance'].iloc[k]\n",
    "        text_k = connection.find('units',index=idx_k,text=text_t,unit_type=unit_type)[0].snippet\n",
    "    \n",
    "        print(str(k)+'. '+title+' '+tag_k+', distance = '+str(dist_k))\n",
    "        print(text_k)\n",
    "        print('-----------------')\n",
    "        k+=1\n",
    "\n",
    "    return metadata_sorted"
   ]
  },
  {
   "cell_type": "code",
   "execution_count": 5,
   "id": "8bca6959-815f-4c21-ba26-958d505d7055",
   "metadata": {},
   "outputs": [
    {
     "data": {
      "text/plain": [
       "'Ἐν ᾧ ἀγαλλιᾶσθε, ὀλίγον ἄρτι εἰ δέον ἐστὶ λυπηθέντας ἡμᾶς ἐν ποικίλοις πειρασμοῖς. Πῶς τις λυπούμενος ἐν πειρασμοῖς δύναται ἀγαλλιᾶσθαι ἐν ᾧ λυπεῖται;'"
      ]
     },
     "execution_count": 5,
     "metadata": {},
     "output_type": "execute_result"
    }
   ],
   "source": [
    "title_id = connection.find('texts',title='ΠΡΟΣ ΘΑΛΑΣΣΙΟΝ')[0].id\n",
    "content = connection.find('units',tags='58.2',text=title_id,unit_type='line')[0]\n",
    "content.snippet"
   ]
  },
  {
   "cell_type": "code",
   "execution_count": 8,
   "id": "a731dfa5-ddd2-4e70-af80-f12a8bc3d643",
   "metadata": {},
   "outputs": [
    {
     "data": {
      "image/png": "[encoded data removed]",
      "text/plain": [
       "<Figure size 640x480 with 1 Axes>"
      ]
     },
     "metadata": {},
     "output_type": "display_data"
    },
    {
     "name": "stdout",
     "output_type": "stream",
     "text": [
      "Source passage:\n",
      "Ἐν ᾧ ἀγαλλιᾶσθε, ὀλίγον ἄρτι εἰ δέον ἐστὶ λυπηθέντας ἡμᾶς ἐν ποικίλοις πειρασμοῖς. Πῶς τις λυπούμενος ἐν πειρασμοῖς δύναται ἀγαλλιᾶσθαι ἐν ᾧ λυπεῖται;\n",
      "-----------------\n",
      "-----------------\n",
      "0. New Testament Peter.1.6, distance = 0.5954413829484037\n",
      "ἐν ᾧ ἀγαλλιᾶσθε, ὀλίγον ἄρτι εἰ δέον λυπηθέντες ἐν ποικίλοις πειρασμοῖς,\n",
      "-----------------\n",
      "1. New Testament James.5.16, distance = 0.2877209460033131\n",
      "ἐξομολογεῖσθε οὖν ἀλλήλοις τὰς ἁμαρτίας καὶ προσεύχεσθε ὑπὲρ ἀλλήλων, ὅπως ἰαθῆτε.\n",
      "-----------------\n",
      "2. New Testament Romans.4.10, distance = 0.26938019620017634\n",
      "πῶς οὖν ἐλογίσθη; ἐν περιτομῇ ὄντι ἢ ἐν ἀκροβυστίᾳ; οὐκ ἐν περιτομῇ ἀλλ' ἐν ἀκροβυστίᾳ:\n",
      "-----------------\n",
      "3. New Testament Mark.9.50, distance = 0.2620908525099227\n",
      "Καλὸν τὸ ἅλας: ἐὰν δὲ τὸ ἅλας ἄναλον γένηται, ἐν τίνι αὐτὸ ἀρτύσετε; ἔχετε ἐν ἑαυτοῖς ἅλα, καὶ εἰρηνεύετε ἐν ἀλλήλοις.\n",
      "-----------------\n",
      "4. New Testament Corinthians.9.10, distance = 0.25663538453379964\n",
      "δι' ἡμᾶς γὰρ ἐγράφη, ὅτι ὀφείλει ἐπ' ἐλπίδι ὁ ἀροτριῶν ἀροτριᾷν, καὶ ὁ ἀλοῶν ἐπ' ἐλπίδι τοῦ μετέχειν.\n",
      "-----------------\n",
      "5. New Testament Acts.21.34, distance = 0.2506937250977289\n",
      "ἄλλοι δὲ ἄλλο τι ἐπεφώνουν ἐν τῷ ὄχλῳ: μὴ δυναμένου δὲ αὐτοῦ γνῶναι τὸ ἀσφαλὲς διὰ τὸν θόρυβον ἐκέλευσεν ἄγεσθαι αὐτὸν εἰς τὴν παρεμβολήν.\n",
      "-----------------\n",
      "6. New Testament Corinthians.2.2, distance = 0.24416105041119024\n",
      "εἰ γὰρ ἐγὼ λυπῶ ὑμᾶς, καὶ τίς ὁ εὐφραίνων με εἰ μὴ ὁ λυπούμενος ἐξ ἐμοῦ;\n",
      "-----------------\n",
      "7. New Testament John.16.6, distance = 0.23992269719012482\n",
      "ἀλλ' ὅτι ταῦτα λελάληκα ὑμῖν ἡ λύπη πεπλήρωκεν ὑμῶν τὴν καρδίαν.\n",
      "-----------------\n",
      "8. New Testament Luke.14.34, distance = 0.23818569709679294\n",
      "Καλὸν οὖν τὸ ἅλας: ἐὰν δὲ καὶ τὸ ἅλας μωρανθῇ, ἐν τίνι ἀρτυθήσεται;\n",
      "-----------------\n",
      "9. New Testament Corinthians.8.7, distance = 0.22555469879140821\n",
      "ἀλλ' ὥσπερ ἐν παντὶ περισσεύετε, πίστει καὶ λόγῳ καὶ γνώσει καὶ πάσῃ σπουδῇ καὶ τῇ ἐξ ἡμῶν ἐν ὑμῖν ἀγάπῃ, ἵνα καὶ ἐν ταύτῃ τῇ χάριτι περισσεύητε.\n",
      "-----------------\n",
      "10. New Testament Mark.6.15, distance = 0.2247257832487476\n",
      "ἄλλοι δὲ ἔλεγον ὅτι ̓Ηλείας ἐστίν: ἄλλοι δὲ ἔλεγον ὅτι προφήτης ὡς εἷς τῶν προφητῶν.\n",
      "-----------------\n",
      "11. New Testament Hebrews.10.3, distance = 0.22429974476049613\n",
      "ἀλλ' ἐν αὐταῖς ἀνάμνησις ἁμαρτιῶν κατ' ἐνι αυτόν,\n",
      "-----------------\n",
      "12. New Testament John.3.8, distance = 0.2205867552258377\n",
      "ὁ ποιῶν τὴν ἁμαρτίαν ἐκ τοῦ διαβόλου ἐστίν, ὅτι ἀπ' ἀρχῆς ὁ διάβολος ἁμαρτάνει. εἰς τοῦτο ἐφανερώθη ὁ υἱὸς τοῦ θεοῦ ἵνα λύσῃ τὰ ἔργα τοῦ διαβόλου.\n",
      "-----------------\n",
      "13. New Testament Peter.2.7, distance = 0.21773125502047036\n",
      "καὶ δίκαιον Λὼτ καταπονούμενον ὑπὸ τῆς τῶν ἀθέσμων ἐν ἀσελγείᾳ ἀναστροφῆς ἐρύσατο,—\n",
      "-----------------\n",
      "14. New Testament John.9.25, distance = 0.21762225320897488\n",
      "ἀπεκρίθη οὖν ἐκεῖνος Εἰ ἁμαρτωλός ἐστιν οὐκ οἶδα: ἓν οἶδα ὅτι τυφλὸς ὢν ἄρτι βλέπω.\n",
      "-----------------\n",
      "15. New Testament Corinthians.13.12, distance = 0.2171186943877079\n",
      "̓Ασπάσασθε ἀλλήλους ἐν ἁγίῳ φιλήματι. ̓Ασπάζονται ὑμᾶς οἱ ἅγιοι πάντες.\n",
      "-----------------\n"
     ]
    }
   ],
   "source": [
    "passage = {'title': 'ΠΡΟΣ ΘΑΛΑΣΣΙΟΝ', 'tag': '58.2', 'phrase': 0, 'unit_type':'line'}\n",
    "metadata = find_related(passage,'New Testament',unit_type='line',plot=True)"
   ]
  },
  {
   "cell_type": "markdown",
   "id": "3f6fec9f-e1b3-483c-8c8c-e3076bc18ef1",
   "metadata": {},
   "source": [
    "It seems to work, but it's extremely slow"
   ]
  },
  {
   "cell_type": "code",
   "execution_count": null,
   "id": "8bc41160-d9b6-442c-887c-24eeec3a72d1",
   "metadata": {},
   "outputs": [],
   "source": []
  }
 ],
 "metadata": {
  "kernelspec": {
   "display_name": "Python 3 (ipykernel)",
   "language": "python",
   "name": "python3"
  },
  "language_info": {
   "codemirror_mode": {
    "name": "ipython",
    "version": 3
   },
   "file_extension": ".py",
   "mimetype": "text/x-python",
   "name": "python",
   "nbconvert_exporter": "python",
   "pygments_lexer": "ipython3",
   "version": "3.8.18"
  }
 },
 "nbformat": 4,
 "nbformat_minor": 5
}
