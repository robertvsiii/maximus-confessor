{
 "cells": [
  {
   "cell_type": "markdown",
   "id": "9ede48a8-c03e-49b3-8845-3eaf25ce1ea4",
   "metadata": {},
   "source": [
    "The point of this notebook is to provide a relatively user-friendly interface for finding passages related to a given passage, via comparison of their OpenAI vector embeddings. I presume that the texts have already been loaded into the Tesserae database and vectorized, following the scripts in the Maximus-bioinformatics notebook. "
   ]
  },
  {
   "cell_type": "code",
   "execution_count": 1,
   "id": "3205bd7f-e944-4de0-aed5-3c77ec20fec5",
   "metadata": {},
   "outputs": [],
   "source": [
    "from bson import ObjectId\n",
    "import pandas as pd\n",
    "from tesserae.db import TessMongoConnection\n",
    "import numpy as np\n",
    "import matplotlib.pyplot as plt\n",
    "from sklearn.decomposition import PCA\n",
    "\n",
    "connection = TessMongoConnection('127.0.0.1', 27017, None, None, db='maximus')\n",
    "\n",
    "def load_vectors_from_mongodb(title,unit_type='line'):\n",
    "    text_id = connection.find('texts',title=title)[0].id\n",
    "    vectors = pd.DataFrame(connection.aggregate('vectors',[{'$match': {'text': text_id, 'unit_type': unit_type}}, \n",
    "                                               {\"$project\": {\"_id\": 0, \"index\": 1, \"tags\": {\"$arrayElemAt\": [\"$tags\", 0]}, \"unit_type\": 1, \"vector\": 1}}],\n",
    "                                              encode=False))\n",
    "    vectors['title'] = title\n",
    "    data = np.array([np.array(vector) for vector in vectors['vector']])\n",
    "    metadata = vectors.T.drop('vector').T\n",
    "    return data, metadata\n",
    "\n",
    "def fit_and_transform_pca(data, n_components=50):\n",
    "    pca = PCA(n_components=n_components)\n",
    "    return pca.fit_transform(data)\n",
    "\n",
    "def find_related(passage,title,unit_type='line',n_components=500,N=15,plot=False):\n",
    "    if 'phrase' not in passage.keys():\n",
    "        passage['phrase']=0\n",
    "\n",
    "    #Load source and target data\n",
    "    data_s, metadata_s = load_vectors_from_mongodb(passage['title'],unit_type=passage['unit_type'])\n",
    "    data_t, metadata_t = load_vectors_from_mongodb(title,unit_type=unit_type)\n",
    "    data = np.vstack((data_s,data_t))\n",
    "\n",
    "    #Find text id's\n",
    "    text_s = connection.find('texts',title=passage['title'])[0].id\n",
    "    text_t = connection.find('texts',title=title)[0].id\n",
    "\n",
    "    #Reduce to relevant dimensions using PCA\n",
    "    pca_result = fit_and_transform_pca(data,n_components=n_components)\n",
    "    pca_result = (pca_result.T/np.linalg.norm(pca_result,axis=1)).T\n",
    "    N_s = len(data_s)\n",
    "    data_s = pca_result[:N_s]\n",
    "    data_t = pca_result[N_s:]\n",
    "\n",
    "    #Find the text of the source passage and its index, then compute distances\n",
    "    content = connection.find('units',tags=passage['tag'],text=text_s,unit_type=passage['unit_type'])[passage['phrase']]\n",
    "    idx = metadata_s.loc[metadata_s['index']==content.index].index[0]\n",
    "    metadata_t['distance'] = data_t.dot(data_s[idx,:])\n",
    "\n",
    "    #Plot all distances for reference\n",
    "    if plot:\n",
    "        plt.hist(metadata_t['distance'],bins=100)\n",
    "        plt.show()\n",
    "\n",
    "    print('Source passage:')\n",
    "    print(content.snippet)\n",
    "    print('-----------------')\n",
    "    print('-----------------')\n",
    "\n",
    "    #Sort by distance and print\n",
    "    metadata_sorted = metadata_t.sort_values('distance',ascending=False)\n",
    "    k = 0\n",
    "    while k <= N:\n",
    "        idx_k = metadata_sorted['index'].iloc[k]\n",
    "        tag_k = metadata_sorted['tags'].iloc[k]\n",
    "        dist_k = metadata_sorted['distance'].iloc[k]\n",
    "        text_k = connection.find('units',index=idx_k,text=text_t,unit_type=unit_type)[0].snippet\n",
    "    \n",
    "        print(str(k)+'. '+title+' '+tag_k+', distance = '+str(dist_k))\n",
    "        print(text_k)\n",
    "        print('-----------------')\n",
    "        k+=1\n",
    "\n",
    "    return metadata_sorted"
   ]
  },
  {
   "cell_type": "code",
   "execution_count": 11,
   "id": "8bca6959-815f-4c21-ba26-958d505d7055",
   "metadata": {},
   "outputs": [
    {
     "data": {
      "text/plain": [
       "'Ἐν τῷ αὐτῷ προφήτῃ γέγραπται πάλιν· «καὶ εἶπε πρός με· Τί σὺ βλέπεις; καὶ εἶπα· Ἑώρακα καὶ ἰδοὺ λυχνία χρυσῆ ὅλη, καὶ τὸ λαμπάδιον ἐπάνω αὐτῆς, καὶ ἑπτὰ λύχνοι ἐπάνω αὐτῆς, καὶ ἑπτὰ ἐπαρυστρίδες τοῖς λύχνοις τοῖς ἐπάνω αὐτῆς· καὶ δύο ἐλαῖαι ἐπάνω αὐτῆς, μία ἐκ δεξιῶν τοῦ λαμπαδίου αὐτῆς καὶ μία ἐξ εὐωνύμων». Τίς ἡ λυχνία; καὶ διὰ τί χρυσῆ; καὶ τί τὸ λαμπάδιον τὸ ἐπάνω αὐτῆς; τίνες οἱ ἑπτὰ λύχνοι καὶ τίνες αἱ ἑπτὰ ἐπαρυστρίδες τῶν ἑπτὰ λύχνων καὶ τίνες αἱ δύο ἐλαῖαι; καὶ διὰ τί ἐκ δεξιῶν καὶ ἐξ εὐωνύμων του λαμπαδίου;'"
      ]
     },
     "execution_count": 11,
     "metadata": {},
     "output_type": "execute_result"
    }
   ],
   "source": [
    "title_id = connection.find('texts',title='Quaestiones ad Thalassium')[0].id\n",
    "content = connection.find('units',tags='63.2',text=title_id,unit_type='line')[0]\n",
    "content.snippet"
   ]
  },
  {
   "cell_type": "code",
   "execution_count": 12,
   "id": "a731dfa5-ddd2-4e70-af80-f12a8bc3d643",
   "metadata": {
    "scrolled": true
   },
   "outputs": [
    {
     "data": {
      "image/png": "[encoded data removed]",
      "text/plain": [
       "<Figure size 640x480 with 1 Axes>"
      ]
     },
     "metadata": {},
     "output_type": "display_data"
    },
    {
     "name": "stdout",
     "output_type": "stream",
     "text": [
      "Source passage:\n",
      "Ἐν τῷ αὐτῷ προφήτῃ γέγραπται πάλιν· «καὶ εἶπε πρός με· Τί σὺ βλέπεις; καὶ εἶπα· Ἑώρακα καὶ ἰδοὺ λυχνία χρυσῆ ὅλη, καὶ τὸ λαμπάδιον ἐπάνω αὐτῆς, καὶ ἑπτὰ λύχνοι ἐπάνω αὐτῆς, καὶ ἑπτὰ ἐπαρυστρίδες τοῖς λύχνοις τοῖς ἐπάνω αὐτῆς· καὶ δύο ἐλαῖαι ἐπάνω αὐτῆς, μία ἐκ δεξιῶν τοῦ λαμπαδίου αὐτῆς καὶ μία ἐξ εὐωνύμων». Τίς ἡ λυχνία; καὶ διὰ τί χρυσῆ; καὶ τί τὸ λαμπάδιον τὸ ἐπάνω αὐτῆς; τίνες οἱ ἑπτὰ λύχνοι καὶ τίνες αἱ ἑπτὰ ἐπαρυστρίδες τῶν ἑπτὰ λύχνων καὶ τίνες αἱ δύο ἐλαῖαι; καὶ διὰ τί ἐκ δεξιῶν καὶ ἐξ εὐωνύμων του λαμπαδίου;\n",
      "-----------------\n",
      "-----------------\n",
      "0. Old Testament Zach.4.2, distance = 0.6290804527779634\n",
      "καὶ εἶπεν πρός με Τί σύ βλέπεις; καὶ εἶπα Ἑώρακα καὶ ἰδοὺ λυχνία χρυσῆ ὅλη, καὶ τὸ λαμπάδιον ἐπάνω αὐτῆς, καὶ ἑπτὰ λύχνοι ἐπάνω αὐτῆς, καὶ ἑπτὰ ἐπαρυστρίδες τοῖς λύχνοις τοῖς ἐπάνω αὐτῆς·\n",
      "-----------------\n",
      "1. Old Testament 3Rg.7.35, distance = 0.5474222177202362\n",
      "καὶ τὰς λυχνίας, πέντε ἐκ δεξιῶν καὶ πέντε ἐξ ἀριστερῶν κατὰ πρόσωπον τοῦ δαβιρ, χρυσᾶς συγκλειομένας, καὶ τὰ λαμπάδια καὶ τοὺς λύχνους καὶ τὰς ἐπαρυστρίδας χρυσᾶς\n",
      "-----------------\n",
      "2. Old Testament Ex.38.17, distance = 0.5377321360528233\n",
      "καὶ ἑπτὰ λύχνους ἐπ’ αὐτῆς χρυσοῦς καὶ τὰς λαβίδας αὐτῆς χρυσᾶς καὶ τὰς ἐπαρυστρίδας αὐτῶν χρυσᾶς.\n",
      "-----------------\n",
      "3. Old Testament Num.8.4, distance = 0.47442285576821364\n",
      "καὶ αὕτη ἡ κατασκευὴ τῆς λυχνίας· στερεὰ χρυσῆ, ὁ καυλὸς αὐτῆς καὶ τὰ κρίνα αὐτῆς, στερεὰ ὅλη· κατὰ τὸ εἶδος, ὃ ἔδειξεν κύριος τῷ Μωυσῇ, οὕτως ἐποίησεν τὴν λυχνίαν.\n",
      "-----------------\n",
      "4. Old Testament Ex.38.16, distance = 0.444033391246718\n",
      "καὶ τὰ λαμπάδια αὐτῶν, ἅ ἐστιν ἐπὶ τῶν ἄκρων, καρυωτὰ ἐξ αὐτῶν· καὶ τὰ ἐνθέμια ἐξ αὐτῶν, ἵνα ὦσιν ἐπ’ αὐτῶν οἱ λύχνοι, καὶ τὸ ἐνθέμιον τὸ ἕβδομον ἀπ’ ἄκρου τοῦ λαμπαδίου ἐπὶ τῆς κορυφῆς ἄνωθεν, στερεὸν ὅλον χρυσοῦν·\n",
      "-----------------\n",
      "5. Old Testament Ex.30.4, distance = 0.4368963399401863\n",
      "καὶ δύο δακτυλίους χρυσοῦς καθαροὺς ποιήσεις ὑπὸ τὴν στρεπτὴν στεφάνην αὐτοῦ, εἰς τὰ δύο κλίτη ποιήσεις ἐν τοῖς δυσὶ πλευροῖς· καὶ ἔσονται ψαλίδες ταῖς σκυτάλαις ὥστε αἴρειν αὐτὸ ἐν αὐταῖς.\n",
      "-----------------\n",
      "6. Old Testament Ex.26.37, distance = 0.42698138936367624\n",
      "καὶ ποιήσεις τῷ καταπετάσματι πέντε στύλους καὶ χρυσώσεις αὐτοὺς χρυσίῳ, καὶ αἱ κεφαλίδες αὐτῶν χρυσαῖ, καὶ χωνεύσεις αὐτοῖς πέντε βάσεις χαλκᾶς.\n",
      "-----------------\n",
      "7. Old Testament Ex.25.31, distance = 0.4152694139091281\n",
      "Καὶ ποιήσεις λυχνίαν ἐκ χρυσίου καθαροῦ, τορευτὴν ποιήσεις τὴν λυχνίαν· ὁ καυλὸς αὐτῆς καὶ οἱ καλαμίσκοι καὶ οἱ κρατῆρες καὶ οἱ σφαιρωτῆρες καὶ τὰ κρίνα ἐξ αὐτῆς ἔσται.\n",
      "-----------------\n",
      "8. Old Testament Esd.8.56, distance = 0.40552613319662845\n",
      "καὶ στήσας παρέδωκα αὐτοῖς ἀργυρίου τάλαντα ἑξακόσια πεντήκοντα καὶ σκεύη ἀργυρᾶ ταλάντων ἑκατὸν καὶ χρυσίου τάλαντα ἑκατὸν καὶ χρυσώματα εἴκοσι καὶ σκεύη χαλκᾶ ἀπὸ χρηστοῦ χαλκοῦ στίλβοντα χρυσοειδῆ σκεύη δώδεκα.\n",
      "-----------------\n",
      "9. Old Testament 2Par.4.21, distance = 0.4028064920832821\n",
      "καὶ λαβίδες αὐτῶν καὶ οἱ λύχνοι αὐτῶν καὶ τὰς φιάλας καὶ τὰς θυίσκας καὶ τὰ πυρεῖα χρυσίου καθαροῦ·\n",
      "-----------------\n",
      "10. Old Testament Ex.28.34, distance = 0.39812427829287\n",
      "παρὰ ῥοίσκον χρυσοῦν κώδωνα καὶ ἄνθινον ἐπὶ τοῦ λώματος τοῦ ὑποδύτου κύκλῳ.\n",
      "-----------------\n",
      "11. Old Testament Num.31.52, distance = 0.3943649255873549\n",
      "καὶ ἐγένετο πᾶν τὸ χρυσίον, τὸ ἀφαίρεμα, ὃ ἀφεῖλον κυρίῳ, ἓξ καὶ δέκα χιλιάδες καὶ ἑπτακόσιοι καὶ πεντήκοντα σίκλοι παρὰ τῶν χιλιάρχων καὶ παρὰ τῶν ἑκατοντάρχων.\n",
      "-----------------\n",
      "12. Old Testament Ex.25.12, distance = 0.3939834847907113\n",
      "καὶ ἐλάσεις αὐτῇ τέσσαρας δακτυλίους χρυσοῦς καὶ ἐπιθήσεις ἐπὶ τὰ τέσσαρα κλίτη, δύο δακτυλίους ἐπὶ τὸ κλίτος τὸ ἓν καὶ δύο δακτυλίους ἐπὶ τὸ κλίτος τὸ δεύτερον.\n",
      "-----------------\n",
      "13. Old Testament 1Par.29.2, distance = 0.39377224946587486\n",
      "κατὰ πᾶσαν τὴν δύναμιν ἡτοίμακα εἰς οἶκον θεοῦ μου χρυσίον, ἀργύριον, χαλκόν, σίδηρον, ξύλα, λίθους σοομ καὶ πληρώσεως καὶ λίθους πολυτελεῖς καὶ ποικίλους καὶ πάντα λίθον τίμιον καὶ πάριον πολύν.\n",
      "-----------------\n",
      "14. Old Testament Ex.26.32, distance = 0.3925426184659616\n",
      "καὶ ἐπιθήσεις αὐτὸ ἐπὶ τεσσάρων στύλων ἀσήπτων κεχρυσωμένων χρυσίῳ· καὶ αἱ κεφαλίδες αὐτῶν χρυσαῖ, καὶ αἱ βάσεις αὐτῶν τέσσαρες ἀργυραῖ.\n",
      "-----------------\n",
      "15. Old Testament Ier.1.8, distance = 0.39036785489910353\n",
      "καὶ ὥσπερ παρθένῳ φιλοκόσμῳ λαμβάνοντες χρυσίον κατασκευάζουσιν στεφάνους ἐπὶ τὰς κεφαλὰς τῶν θεῶν αὐτῶν·\n",
      "-----------------\n"
     ]
    }
   ],
   "source": [
    "passage = {'title': 'Quaestiones ad Thalassium', 'tag': '63.2', 'phrase': 0, 'unit_type':'line'}\n",
    "metadata = find_related(passage,'Old Testament',unit_type='line',plot=True)"
   ]
  },
  {
   "cell_type": "markdown",
   "id": "3f6fec9f-e1b3-483c-8c8c-e3076bc18ef1",
   "metadata": {},
   "source": [
    "It seems to work, but it's extremely slow"
   ]
  },
  {
   "cell_type": "code",
   "execution_count": null,
   "id": "8bc41160-d9b6-442c-887c-24eeec3a72d1",
   "metadata": {},
   "outputs": [],
   "source": []
  }
 ],
 "metadata": {
  "kernelspec": {
   "display_name": "Python 3 (ipykernel)",
   "language": "python",
   "name": "python3"
  },
  "language_info": {
   "codemirror_mode": {
    "name": "ipython",
    "version": 3
   },
   "file_extension": ".py",
   "mimetype": "text/x-python",
   "name": "python",
   "nbconvert_exporter": "python",
   "pygments_lexer": "ipython3",
   "version": "3.8.18"
  }
 },
 "nbformat": 4,
 "nbformat_minor": 5
}
