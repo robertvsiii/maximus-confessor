{
 "cells": [
  {
   "cell_type": "markdown",
   "metadata": {},
   "source": [
    "The point of this notebook is to provide a relatively user-friendly interface for finding passages related to a given passage, via comparison of their OpenAI vector embeddings. I presume that the texts have already been loaded into the Tesserae database and vectorized, following the scripts in the Maximus-bioinformatics notebook. "
   ]
  },
  {
   "cell_type": "code",
   "execution_count": 1,
   "metadata": {},
   "outputs": [],
   "source": [
    "from bson import ObjectId\n",
    "import pandas as pd\n",
    "from tesserae.db import TessMongoConnection\n",
    "import numpy as np\n",
    "import matplotlib.pyplot as plt\n",
    "from sklearn.decomposition import PCA\n",
    "\n",
    "connection = TessMongoConnection('127.0.0.1', 27017, None, None, db='maximus')\n",
    "\n",
    "def load_vectors_from_mongodb(title,unit_type='line'):\n",
    "    text_id = connection.find('texts',title=title)[0].id\n",
    "    vectors = pd.DataFrame(connection.aggregate('vectors',[{'$match': {'text': text_id, 'unit_type': unit_type}}, \n",
    "                                               {\"$project\": {\"_id\": 0, \"index\": 1, \"tags\": {\"$arrayElemAt\": [\"$tags\", 0]}, \"unit_type\": 1, \"vector\": 1}}],\n",
    "                                              encode=False))\n",
    "    vectors['title'] = title\n",
    "    data = np.array([np.array(vector) for vector in vectors['vector']])\n",
    "    metadata = vectors.T.drop('vector').T\n",
    "    return data, metadata\n",
    "\n",
    "def fit_and_transform_pca(data, n_components=50):\n",
    "    pca = PCA(n_components=n_components)\n",
    "    return pca.fit_transform(data)\n",
    "\n",
    "def find_related(passage,title,unit_type='line',n_components=500,N=15,plot=False):\n",
    "    if 'phrase' not in passage.keys():\n",
    "        passage['phrase']=0\n",
    "\n",
    "    #Load source and target data\n",
    "    data_s, metadata_s = load_vectors_from_mongodb(passage['title'],unit_type=passage['unit_type'])\n",
    "    data_t, metadata_t = load_vectors_from_mongodb(title,unit_type=unit_type)\n",
    "    data = np.vstack((data_s,data_t))\n",
    "\n",
    "    #Find text id's\n",
    "    text_s = connection.find('texts',title=passage['title'])[0].id\n",
    "    text_t = connection.find('texts',title=title)[0].id\n",
    "\n",
    "    #Reduce to relevant dimensions using PCA\n",
    "    pca_result = fit_and_transform_pca(data,n_components=n_components)\n",
    "    pca_result = (pca_result.T/np.linalg.norm(pca_result,axis=1)).T\n",
    "    N_s = len(data_s)\n",
    "    data_s = pca_result[:N_s]\n",
    "    data_t = pca_result[N_s:]\n",
    "\n",
    "    #Find the text of the source passage and its index, then compute distances\n",
    "    content = connection.find('units',tags=passage['tag'],text=text_s,unit_type=passage['unit_type'])[passage['phrase']]\n",
    "    idx = metadata_s.loc[metadata_s['index']==content.index].index[0]\n",
    "    metadata_t['distance'] = data_t.dot(data_s[idx,:])\n",
    "\n",
    "    #Plot all distances for reference\n",
    "    if plot:\n",
    "        plt.hist(metadata_t['distance'],bins=100)\n",
    "        plt.show()\n",
    "\n",
    "    print('Source passage:')\n",
    "    print(content.snippet)\n",
    "    print('-----------------')\n",
    "    print('-----------------')\n",
    "\n",
    "    #Sort by distance and print\n",
    "    metadata_sorted = metadata_t.sort_values('distance',ascending=False)\n",
    "    k = 0\n",
    "    while k <= N:\n",
    "        idx_k = metadata_sorted['index'].iloc[k]\n",
    "        tag_k = metadata_sorted['tags'].iloc[k]\n",
    "        dist_k = metadata_sorted['distance'].iloc[k]\n",
    "        text_k = connection.find('units',index=idx_k,text=text_t,unit_type=unit_type)[0].snippet\n",
    "    \n",
    "        print(str(k)+'. '+title+' '+tag_k+', distance = '+str(dist_k))\n",
    "        print(text_k)\n",
    "        print('-----------------')\n",
    "        k+=1\n",
    "\n",
    "    return metadata_sorted"
   ]
  },
  {
   "cell_type": "code",
   "execution_count": 5,
   "metadata": {},
   "outputs": [
    {
     "data": {
      "text/plain": [
       "'Πῶς σοφώτερος γίνεται λαβὼν ἀφορμὴν ὁ σοφός, καὶ δίκαιος γνοὺς προσθήσει τοῦ δέχεσθαι, κατὰ τὴν θείαν παροιμίαν, σαφῶς αὐτός, πάντων μοι τιμιώτατε, κατ᾽ αὐτὴν ἔδειξας τὴν πεῖραν, ἔργῳ διδάξας ὅπερ ὁ θεῖος σοφῶς ὑπαινίσσεται λόγος.'"
      ]
     },
     "execution_count": 5,
     "metadata": {},
     "output_type": "execute_result"
    }
   ],
   "source": [
    "title_id = connection.find('texts',title='Mystagogia')[0].id\n",
    "content = connection.find('units',tags='prol.1',text=title_id,unit_type='phrase')[0]\n",
    "content.snippet"
   ]
  },
  {
   "cell_type": "code",
   "execution_count": 6,
   "metadata": {
    "scrolled": true
   },
   "outputs": [
    {
     "data": {
      "image/png": "[encoded data removed]",
      "text/plain": [
       "<Figure size 432x288 with 1 Axes>"
      ]
     },
     "metadata": {
      "needs_background": "light"
     },
     "output_type": "display_data"
    },
    {
     "name": "stdout",
     "output_type": "stream",
     "text": [
      "Source passage:\n",
      "Πῶς σοφώτερος γίνεται λαβὼν ἀφορμὴν ὁ σοφός, καὶ δίκαιος γνοὺς προσθήσει τοῦ δέχεσθαι, κατὰ τὴν θείαν παροιμίαν, σαφῶς αὐτός, πάντων μοι τιμιώτατε, κατ᾽ αὐτὴν ἔδειξας τὴν πεῖραν, ἔργῳ διδάξας ὅπερ ὁ θεῖος σοφῶς ὑπαινίσσεται λόγος.\n",
      "-----------------\n",
      "-----------------\n",
      "0. Old Testament Pro.17.28, distance = 0.5919312333871828\n",
      "ἀνοήτῳ ἐπερωτήσαντι σοφίαν σοφία λογισθήσεται, ἐνεὸν δέ τις ἑαυτὸν ποιήσας δόξει φρόνιμος εἶναι.\n",
      "-----------------\n",
      "1. Old Testament Pro.13.20, distance = 0.5850904263459417\n",
      "ὁ συμπορευόμενος σοφοῖς σοφὸς ἔσται, ὁ δὲ συμπορευόμενος ἄφροσι γνωσθήσεται.\n",
      "-----------------\n",
      "2. Old Testament Sir.20.27, distance = 0.5771541678836838\n",
      "Ὁ σοφὸς ἐν λόγοις προάξει ἑαυτόν, καὶ ἄνθρωπος φρόνιμος ἀρέσει μεγιστᾶσιν.\n",
      "-----------------\n",
      "3. Old Testament Pro.1.5, distance = 0.5467186250932692\n",
      "τῶνδε γὰρ ἀκούσας σοφὸς σοφώτερος ἔσται, ὁ δὲ νοήμων κυβέρνησιν κτήσεται\n",
      "-----------------\n",
      "4. Old Testament Pro.9.9, distance = 0.5460799785125077\n",
      "δίδου σοφῷ ἀφορμήν, καὶ σοφώτερος ἔσται· γνώριζε δικαίῳ, καὶ προσθήσει τοῦ δέχεσθαι.\n",
      "-----------------\n",
      "5. Old Testament Sir.27.11, distance = 0.5388299745113829\n",
      "διήγησις εὐσεβοῦς διὰ παντὸς σοφία, ὁ δὲ ἄφρων ὡς σελήνη ἀλλοιοῦται.\n",
      "-----------------\n",
      "6. Old Testament Sir.20.7, distance = 0.5358148133224909\n",
      "ἄνθρωπος σοφὸς σιγήσει ἕως καιροῦ, ὁ δὲ λαπιστὴς καὶ ἄφρων ὑπερβήσεται καιρόν.\n",
      "-----------------\n",
      "7. Old Testament Iob.38.36, distance = 0.5340512887186863\n",
      "τίς δὲ ἔδωκεν γυναιξὶν ὑφάσματος σοφίαν ἢ ποικιλτικὴν ἐπιστήμην;\n",
      "-----------------\n",
      "8. Old Testament Sir.33.2, distance = 0.528687064893592\n",
      "ἀνὴρ σοφὸς οὐ μισήσει νόμον, ὁ δὲ ὑποκρινόμενος ἐν αὐτῷ ὡς ἐν καταιγίδι πλοῖον.\n",
      "-----------------\n",
      "9. Old Testament Pro.2.6, distance = 0.528309004988849\n",
      "ὅτι κύριος δίδωσιν σοφίαν, καὶ ἀπὸ προσώπου αὐτοῦ γνῶσις καὶ σύνεσις·\n",
      "-----------------\n",
      "10. Old Testament Ecl.1.18, distance = 0.5266528869532964\n",
      "ὅτι ἐν πλήθει σοφίας πλῆθος γνώσεως, καὶ ὁ προστιθεὶς γνῶσιν προσθήσει ἄλγημα.\n",
      "-----------------\n",
      "11. Old Testament Sir.21.13, distance = 0.5179912813833845\n",
      "γνῶσις σοφοῦ ὡς κατακλυσμὸς πληθυνθήσεται καὶ ἡ βουλὴ αὐτοῦ ὡς πηγὴ ζωῆς.\n",
      "-----------------\n",
      "12. Old Testament Sir.8.8, distance = 0.5172620004838507\n",
      "μὴ παρίδῃς διήγημα σοφῶν καὶ ἐν ταῖς παροιμίαις αὐτῶν ἀναστρέφου· ὅτι παρ’ αὐτῶν μαθήσῃ παιδείαν καὶ λειτουργῆσαι μεγιστᾶσιν.\n",
      "-----------------\n",
      "13. Old Testament Pro.22.17, distance = 0.517136206598225\n",
      "Λόγοις σοφῶν παράβαλλε σὸν οὖς καὶ ἄκουε ἐμὸν λόγον, τὴν δὲ σὴν καρδίαν ἐπίστησον, ἵνα γνῷς ὅτι καλοί εἰσιν·\n",
      "-----------------\n",
      "14. Old Testament Pro.1.2, distance = 0.5168626097531113\n",
      "γνῶναι σοφίαν καὶ παιδείαν νοῆσαί τε λόγους φρονήσεως\n",
      "-----------------\n",
      "15. Old Testament Pro.16.21, distance = 0.516638259663434\n",
      "τοὺς σοφοὺς καὶ συνετοὺς φαύλους καλοῦσιν, οἱ δὲ γλυκεῖς ἐν λόγῳ πλείονα ἀκούσονται.\n",
      "-----------------\n"
     ]
    }
   ],
   "source": [
    "passage = {'title': 'Mystagogia', 'tag': 'prol.1', 'phrase': 0, 'unit_type':'phrase'}\n",
    "metadata = find_related(passage,'Old Testament',unit_type='line',plot=True)"
   ]
  },
  {
   "cell_type": "markdown",
   "metadata": {},
   "source": [
    "It seems to work, but it's extremely slow"
   ]
  },
  {
   "cell_type": "code",
   "execution_count": null,
   "metadata": {},
   "outputs": [],
   "source": []
  }
 ],
 "metadata": {
  "kernelspec": {
   "display_name": "Python 3",
   "language": "python",
   "name": "python3"
  },
  "language_info": {
   "codemirror_mode": {
    "name": "ipython",
    "version": 3
   },
   "file_extension": ".py",
   "mimetype": "text/x-python",
   "name": "python",
   "nbconvert_exporter": "python",
   "pygments_lexer": "ipython3",
   "version": "3.8.3"
  }
 },
 "nbformat": 4,
 "nbformat_minor": 5
}
