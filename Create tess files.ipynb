{
 "cells": [
  {
   "cell_type": "markdown",
   "id": "43d0ea40-43a3-4f19-91e0-f860387ec2db",
   "metadata": {},
   "source": [
    "In this notebook, I collect the code I have written for converting the raw texts I have acquired into properly formatted .tess files."
   ]
  },
  {
   "cell_type": "markdown",
   "id": "9a5cfb6f-79b4-40d2-a288-3719be646dc6",
   "metadata": {},
   "source": [
    "Pending items to load:\n",
    "- Augustine De Trinitate\n",
    "- Aristotle Physics, Organon\n",
    "- Gregory of Nyssa\n",
    "- Gregory of Nazianzen\n",
    "- Evagrius"
   ]
  },
  {
   "cell_type": "markdown",
   "id": "6bf0d2c2-ce29-4461-8c51-94ca7d680653",
   "metadata": {},
   "source": [
    "# Maximus opera omnia (Word)"
   ]
  },
  {
   "cell_type": "markdown",
   "id": "2e8d5cc5-391d-4695-9ddd-e0054757b25d",
   "metadata": {},
   "source": [
    "This version starts from a single document containing the whole opera omnia, and includes a clunky method for ensuring that the Ad Thalassium is formatted correctly. This is still pretty buggy, since it relies on the Word styles to assign the tags, and these are not always used consistently in the source file. I've tried to clean up the file and render it consistent, but can't guarantee that it's perfect yet. The .tess files currently included in the maximus-confessor package have been corrected by hand, and include all of Maximus' works with the exception of the Scholia on Pseudo-Dionysius (which are mostly by John of Scythopolis anyway, and are very complicated to format well). The only major outstanding problem is that the Opuscula have a non-standard numbering."
   ]
  },
  {
   "cell_type": "markdown",
   "id": "77b3c17b-f1d0-4c10-a883-6d8506c44b05",
   "metadata": {},
   "source": [
    "Note that the last two lines of the script were added to verify that no styles have been used that fall outside of the \"if\" statements. In fact, Heading 5 is frequently used, but only (or mostly) in headings added by the editor that I want to skip anyway."
   ]
  },
  {
   "cell_type": "code",
   "execution_count": 2,
   "id": "7063a490-da83-4553-9a0b-d29db892d0b2",
   "metadata": {},
   "outputs": [
    {
     "name": "stdout",
     "output_type": "stream",
     "text": [
      "ΠΕ\n",
      "Body Text Indent 3\n",
      "ΠΕ\n",
      "Body Text Indent 3\n",
      "ΣΧ\n",
      "Heading 6\n",
      "ΕΠ\n",
      "Body Text Indent 3\n",
      "ΕΠ\n",
      "Body Text Indent 3\n",
      "ΕΠ\n",
      "Body Text Indent 3\n",
      "ΚΕ\n",
      "Body Text Indent 3\n",
      "ΠΡ\n",
      "Heading 2\n"
     ]
    }
   ],
   "source": [
    "from docx import Document\n",
    "\n",
    "folder = \"/home/administrador/maximus-confessor/texts/maximus/\"\n",
    "document = Document(folder+\"Agios Maximos.docx\")\n",
    "titles = []\n",
    "f = open('test.tess','w')\n",
    "is_thal = 0\n",
    "for paragraph in document.paragraphs:\n",
    "    if paragraph.style.name == \"Heading 3\":\n",
    "        f.close()\n",
    "        f = open(folder+'maximus_confessor.'+paragraph.text+'.tess','w')\n",
    "        titles.append(paragraph.text)\n",
    "        title = titles[-1][:2]\n",
    "        if paragraph.text == 'ΠΡΟΣ ΘΑΛΑΣΣΙΟΝ':\n",
    "            is_thal = 1\n",
    "            title = 'ad. thal.'\n",
    "        elif paragraph.text == 'ΠΕΡΙ ΔΙΑΦΟΡΩΝ ΑΠΟΡΙΩΝ ':\n",
    "            is_thal = 0\n",
    "        part = 0\n",
    "        line = 0\n",
    "    elif paragraph.style.name == \"Heading 4\":\n",
    "        part += 1\n",
    "        line = 0\n",
    "    elif paragraph.style.name == \"Normal\":\n",
    "        if len(paragraph.text)>1:\n",
    "            line +=1\n",
    "        if is_thal and part == 1:\n",
    "            part_name = 'prol'\n",
    "        elif is_thal and part == 2:\n",
    "            part_name = 'epist'\n",
    "        elif is_thal and part > 2:\n",
    "            part_name = part-2\n",
    "        else:\n",
    "            part_name = part\n",
    "        if part != 0 and len(paragraph.text)>1:\n",
    "            f.write('<'+title+' '+str(part_name)+'.'+str(line)+'> '+paragraph.text+'\\n')\n",
    "        elif part == 0:\n",
    "            f.write('<'+title+' '+str(line)+'> '+paragraph.text+'\\n')\n",
    "    elif paragraph.style.name != \"Heading 5\":\n",
    "        print(title)\n",
    "        print(paragraph.style.name)\n",
    "f.close()"
   ]
  },
  {
   "cell_type": "markdown",
   "id": "f0efb348-4401-4c94-ae95-93c48976ab31",
   "metadata": {},
   "source": [
    "# Corpus Corporum"
   ]
  },
  {
   "cell_type": "markdown",
   "id": "54a4be89-85f1-45a1-9d5a-9eed6e1cf578",
   "metadata": {},
   "source": [
    "This script is designed to import the Septuagint, but can easily be modified to load other texts from Corpus Corporum."
   ]
  },
  {
   "cell_type": "code",
   "execution_count": 41,
   "id": "2dfcebda-ac8e-450c-8995-64381671e3c7",
   "metadata": {},
   "outputs": [
    {
     "name": "stdout",
     "output_type": "stream",
     "text": [
      "Conversion completed. Output saved to /home/administrador/maximus-confessor/texts/grc/LXX.tess\n"
     ]
    }
   ],
   "source": [
    "import xml.etree.ElementTree as ET\n",
    "\n",
    "folder = \"/home/administrador/maximus-confessor/texts/grc/\"\n",
    "\n",
    "def convert_xml_to_tess(xml_file):\n",
    "    tree = ET.parse(xml_file)\n",
    "    root = tree.getroot()\n",
    "    namespace = {\"tei\": \"http://www.tei-c.org/ns/1.0\"}\n",
    "\n",
    "    tess_output = \"\"\n",
    "\n",
    "    for div1 in root.findall(\".//tei:body/tei:div1\", namespace):\n",
    "        div1_id = div1.get(\"id\")\n",
    "        for div2 in div1.findall(\".//tei:div2\", namespace):\n",
    "            chap_number = div2.get(\"n\")\n",
    "            for p in div2.findall(\".//tei:p\", namespace):\n",
    "                for milestone in p.findall(\".//tei:milestone[@unit='verse']\", namespace):\n",
    "                    verse_number = milestone.get(\"n\")\n",
    "                    text = ET.tostring(milestone, encoding=\"unicode\", method=\"xml\").split('>')[1].strip()\n",
    "                    tess_line = f\"<old_test. {div1_id}.{chap_number}.{verse_number}> {text}\\n\"\n",
    "                    tess_output += tess_line\n",
    "\n",
    "    return tess_output\n",
    "\n",
    "if __name__ == \"__main__\":\n",
    "    input_xml_file = folder+\"LXX.xml\"  # Replace with your input XML file\n",
    "    output_tess_file = folder+\"LXX.tess\"  # Replace with your desired output file name\n",
    "\n",
    "    tess_output = convert_xml_to_tess(input_xml_file)\n",
    "\n",
    "    with open(output_tess_file, \"w\", encoding=\"utf-8\") as output_file:\n",
    "        output_file.write(tess_output)\n",
    "\n",
    "    print(f\"Conversion completed. Output saved to {output_tess_file}\")\n"
   ]
  },
  {
   "cell_type": "markdown",
   "id": "c34c624c-aea4-473b-bc19-7ae3a6d64408",
   "metadata": {},
   "source": [
    "# Perseus"
   ]
  },
  {
   "cell_type": "code",
   "execution_count": 122,
   "id": "28313bae-6eeb-4db1-8a55-87f4806f909d",
   "metadata": {},
   "outputs": [],
   "source": [
    "import requests\n",
    "import re\n",
    "import xml.etree.ElementTree as ET\n",
    "\n",
    "folder = \"/home/administrador/maximus-confessor/texts/grc/\"\n",
    "\n",
    "def download_xml(urn_id):\n",
    "    url = f\"https://scaife.perseus.org/library/{urn_id}/cts-api-xml/\"\n",
    "    response = requests.get(url)\n",
    "\n",
    "    if response.status_code == 200:\n",
    "        return response.text\n",
    "    else:\n",
    "        print(f\"Failed to download XML. HTTP Status Code: {response.status_code}\")\n",
    "        return None\n",
    "\n",
    "def clean_xml(xml_string):\n",
    "    # Remove <lb n=\"15\"/> and <note type=\"marginal\">...</note> patterns\n",
    "    cleaned_xml = re.sub(r'<lb[^>]+/>|<pb[^>]+/>|<milestone[^>]+/>|<note[^>]+>[\\s\\S]*?</note>', '', xml_string)\n",
    "    cleaned_xml = re.sub(r'\\t\\t\\t\\t\\t\\t', ' ', cleaned_xml)\n",
    "    return cleaned_xml\n",
    "\n",
    "def convert_perseus_xml_to_tess(perseus_xml,title_id='GRC'):\n",
    "    root = ET.fromstring(perseus_xml)\n",
    "    namespace = {\"tei\": \"http://www.tei-c.org/ns/1.0\"}\n",
    "\n",
    "    tess_output = \"\"\n",
    "    verse_number = 1\n",
    "\n",
    "    for chapter in root.findall(\".//tei:div[@subtype='chapter']\",namespace):\n",
    "        chap_number = chapter.get(\"n\")\n",
    "        for p in chapter.findall(\".//tei:p\",namespace):\n",
    "            text = ''.join(p.text.strip().split('\\n'))\n",
    "            tess_line = f\"<{title_id} {chap_number}.{verse_number}> {text}\\n\"\n",
    "            tess_output += tess_line\n",
    "            verse_number += 1\n",
    "\n",
    "    return tess_output\n",
    "\n",
    "\n"
   ]
  },
  {
   "cell_type": "code",
   "execution_count": 123,
   "id": "7f9e5a45-a332-410d-a154-a59ddffdee86",
   "metadata": {},
   "outputs": [
    {
     "name": "stdout",
     "output_type": "stream",
     "text": [
      "Conversion completed. Output saved to /home/administrador/maximus-confessor/texts/grc/aristotle.categories.tess\n"
     ]
    }
   ],
   "source": [
    "if __name__ == \"__main__\":\n",
    "    urn_id = \"urn:cts:greekLit:tlg0086.tlg006.1st1K-grc1\"\n",
    "    #urn_id = \"urn:cts:greekLit:tlg2034.tlg006.opp-grc1:1\"  # Replace with the desired urn id\n",
    "    perseus_xml = download_xml(urn_id)\n",
    "\n",
    "    if perseus_xml is not None:\n",
    "        cleaned_xml = clean_xml(perseus_xml)\n",
    "        tess_output = convert_perseus_xml_to_tess(cleaned_xml,title_id='categories')\n",
    "\n",
    "        output_tess_file = folder+\"aristotle.categories.tess\"\n",
    "        #output_tess_file = folder+\"porphyry.isagoge.tess\"  # Replace with your desired output file name\n",
    "\n",
    "        with open(output_tess_file, \"w\", encoding=\"utf-8\") as output_file:\n",
    "            output_file.write(tess_output)\n",
    "\n",
    "        print(f\"Conversion completed. Output saved to {output_tess_file}\")"
   ]
  }
 ],
 "metadata": {
  "kernelspec": {
   "display_name": "Python 3 (ipykernel)",
   "language": "python",
   "name": "python3"
  },
  "language_info": {
   "codemirror_mode": {
    "name": "ipython",
    "version": 3
   },
   "file_extension": ".py",
   "mimetype": "text/x-python",
   "name": "python",
   "nbconvert_exporter": "python",
   "pygments_lexer": "ipython3",
   "version": "3.8.18"
  }
 },
 "nbformat": 4,
 "nbformat_minor": 5
}
