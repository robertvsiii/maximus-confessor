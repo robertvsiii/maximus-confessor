{
 "cells": [
  {
   "cell_type": "markdown",
   "metadata": {},
   "source": [
    "# Plan"
   ]
  },
  {
   "cell_type": "markdown",
   "metadata": {},
   "source": [
    "1. Fix insert so that it correctly updates existing entries (workaround for now by updating after inserting)\n",
    "2. Update get_text_frequencies to extract existing frequencies data (two lines of code, in LAP section of other notebook)\n",
    "3. See how hard it is to use visualization tools from https://github.com/vierth/chinesetextreuse (and maybe his algorithm too, if it's faster than Smith-Waterman)\n",
    "4. Fix formatting of Maximus texts (the tags are all messed up, maybe because they include Greek characters)"
   ]
  },
  {
   "cell_type": "markdown",
   "metadata": {},
   "source": [
    "# Import and connect"
   ]
  },
  {
   "cell_type": "code",
   "execution_count": 1,
   "metadata": {},
   "outputs": [],
   "source": [
    "import json\n",
    "from bson import ObjectId\n",
    "import pandas as pd\n",
    "\n",
    "from tesserae.db import TessMongoConnection\n",
    "from tesserae.db.entities import Match, Text, Token, Unit\n",
    "from tesserae.utils import TessFile\n",
    "from tesserae.tokenizers import GreekTokenizer, LatinTokenizer\n",
    "from tesserae.unitizer import Unitizer\n",
    "from tesserae.matchers.sparse_encoding import SparseMatrixSearch\n",
    "from tesserae.utils.calculations import get_text_frequencies\n",
    "\n",
    "# Set up the connection and clean up the database\n",
    "connection = TessMongoConnection('127.0.0.1', 27017, None, None, db='tesstest')\n",
    "connection_cb = TessMongoConnection('127.0.0.1', 27017, None, None, db='tesserae_cb')"
   ]
  },
  {
   "cell_type": "markdown",
   "metadata": {},
   "source": [
    "# Load texts"
   ]
  },
  {
   "cell_type": "markdown",
   "metadata": {},
   "source": [
    "Create metadata file"
   ]
  },
  {
   "cell_type": "code",
   "execution_count": 2,
   "metadata": {},
   "outputs": [
    {
     "name": "stdout",
     "output_type": "stream",
     "text": [
      "Metadata file 'data/text_metadata_greek.json' has been created.\n"
     ]
    }
   ],
   "source": [
    "import os\n",
    "import json\n",
    "\n",
    "# Replace 'your_directory' with the path to your main directory containing .tess files\n",
    "lang = 'greek'\n",
    "main_directory = '/home/administrador/maximus-confessor/texts/grc'\n",
    "\n",
    "# Initialize an empty list to store metadata\n",
    "metadata = []\n",
    "\n",
    "# Iterate through all subdirectories and files\n",
    "for filename in os.scandir(main_directory):\n",
    "    if filename.is_file():\n",
    "        if filename.path.endswith(\".tess\"):\n",
    "            # Split the filename into parts based on a delimiter (.)\n",
    "            parts = filename.name.split('.')\n",
    "\n",
    "            # Extract metadata information based on the filename structure\n",
    "            if len(parts) == 3:\n",
    "                author = parts[0]\n",
    "                title = ' '.join(parts[1].split('_'))\n",
    "                file_path = os.path.join(main_directory, filename)\n",
    "\n",
    "                # Add the metadata to the list\n",
    "                metadata.append({'author': author, 'title': title, 'path': file_path, 'language':lang, 'year':0})\n",
    "\n",
    "# Define the output metadata file\n",
    "metadata_file = 'data/text_metadata_'+lang+'.json'\n",
    "\n",
    "# Write the metadata to a JSON file\n",
    "with open(metadata_file, 'w') as file:\n",
    "    json.dump(metadata, file, indent=4)\n",
    "\n",
    "print(f\"Metadata file '{metadata_file}' has been created.\")\n"
   ]
  },
  {
   "cell_type": "markdown",
   "metadata": {},
   "source": [
    "Insert metadata into database"
   ]
  },
  {
   "cell_type": "code",
   "execution_count": 13,
   "metadata": {
    "scrolled": true
   },
   "outputs": [
    {
     "name": "stdout",
     "output_type": "stream",
     "text": [
      "Title          Author         Language       Year\n",
      "-----          ------         --------       ----\n",
      "seven against thebesaeschylus      greek          0              \n",
      "oedipus tyrannussophocles      greek          0              \n",
      "bacchae        euripides      greek          0              \n",
      "epitome        apollodorus    greek          0              \n",
      "for phormio    demosthenes    greek          0              \n",
      "consolatio ad apolloniumplutarch       greek          0              \n",
      "hymns          callimachus    greek          0              \n",
      "epistulae      basil_of_caesareagreek          0              \n",
      "euthyphro      plato          greek          0              \n",
      "de mirabilibus phlegon        greek          0              \n",
      "clouds         aristophanes   greek          0              \n",
      "olynthiac 3    demosthenes    greek          0              \n",
      "on the embassy aeschines      greek          0              \n",
      "de iside et osirideplutarch       greek          0              \n",
      "against eubulidesdemosthenes    greek          0              \n",
      "de chaerea     chariton       greek          0              \n",
      "against leocharesdemosthenes    greek          0              \n",
      "de fortuna     plutarch       greek          0              \n",
      "quaestiones romanaeplutarch       greek          0              \n",
      "electra        euripides      greek          0              \n",
      "library        apollodorus    greek          0              \n",
      "iuppiter confuatuslucian         greek          0              \n",
      "vitarum auctio lucian         greek          0              \n",
      "de pythiae oraculisplutarch       greek          0              \n",
      "hippias maior  plato          greek          0              \n",
      "against olympiodorusdemosthenes    greek          0              \n",
      "symposium      plato          greek          0              \n",
      "de demosthene  dionysius_halicarnassensisgreek          0              \n",
      "reply to philipdemosthenes    greek          0              \n",
      "philippic 3    demosthenes    greek          0              \n",
      "frag           sappho         greek          0              \n",
      "timon          lucian         greek          0              \n",
      "galba          plutarch       greek          0              \n",
      "against phormiodemosthenes    greek          0              \n",
      "de superstitioneplutarch       greek          0              \n",
      "ajax           sophocles      greek          0              \n",
      "cyclops        euripides      greek          0              \n",
      "libri secundi de antiquis oratoribus reliquiaedionysius_halicarnassensisgreek          0              \n",
      "de esu carnium plutarch       greek          0              \n",
      "caius gracchus plutarch       greek          0              \n",
      "orationes      aelius_aristidesgreek          0              \n",
      "against boeotus 2demosthenes    greek          0              \n",
      "comparison of theseus and romulusplutarch       greek          0              \n",
      "titus flamininusplutarch       greek          0              \n",
      "antiquitates judaicaeflavius_josephusgreek          0              \n",
      "lexiphanes     lucian         greek          0              \n",
      "against timocratesdemosthenes    greek          0              \n",
      "de morbis popularibushippocrates    greek          0              \n",
      "de communibus notitiis adversus stoicosplutarch       greek          0              \n",
      "nicias         plutarch       greek          0              \n",
      "caesar         plutarch       greek          0              \n",
      "lysistrata     aristophanes   greek          0              \n",
      "alcibiades 1   plato          greek          0              \n",
      "ecclesiazusae  aristophanes   greek          0              \n",
      "signorum acutorum morbumaretaeus       greek          0              \n",
      "christus patiensgregory_of_nazianzusgreek          0              \n",
      "against apatouriusdemosthenes    greek          0              \n",
      "epithalamium   bion_of_phlossagreek          0              \n",
      "civil wars     appian         greek          0              \n",
      "de antiquis oratoribusdionysius_halicarnassensisgreek          0              \n",
      "thesmophoriazusaearistophanes   greek          0              \n",
      "philippic 1    demosthenes    greek          0              \n",
      "contra apionem flavius_josephusgreek          0              \n",
      "on the liberty of the rhodiansdemosthenes    greek          0              \n",
      "epinicians     bacchylides    greek          0              \n",
      "eunuchus       lucian         greek          0              \n",
      "de defectu oraculorumplutarch       greek          0              \n",
      "alcibiades     plutarch       greek          0              \n",
      "comparison of lucullus and cimonplutarch       greek          0              \n",
      "comparison demetrius antonyplutarch       greek          0              \n",
      "de luctu       lucian         greek          0              \n",
      "muscae encomiumlucian         greek          0              \n",
      "amatoriae narrationesplutarch       greek          0              \n",
      "iphigenia auliseuripides      greek          0              \n",
      "phaedrus       plato          greek          0              \n",
      "meno           plato          greek          0              \n",
      "camillus       plutarch       greek          0              \n",
      "speeches       isocrates      greek          0              \n",
      "epigrams       theocritus     greek          0              \n",
      "theological orationsgregory_of_nazianzusgreek          0              \n",
      "aratus         plutarch       greek          0              \n",
      "on the accession of alexanderdemosthenes    greek          0              \n",
      "barnabae epistulaebarnabas       greek          0              \n",
      "antony         plutarch       greek          0              \n",
      "theages        plato          greek          0              \n",
      "soleocista     lucian         greek          0              \n",
      "metaphysics    aristotle      greek          0              \n",
      "funeral speech demosthenes    greek          0              \n",
      "against dionysodorusdemosthenes    greek          0              \n",
      "on the mysteriesandocides      greek          0              \n",
      "comparison of philopoemen and titusplutarch       greek          0              \n",
      "comparationis aristophanes et menandri compendiumplutarch       greek          0              \n",
      "mulierum virtutesplutarch       greek          0              \n",
      "dipsades       lucian         greek          0              \n",
      "de primo frigidoplutarch       greek          0              \n",
      "an vitiositas ad infelicitatem sufficiaplutarch       greek          0              \n",
      "pyrrhus        plutarch       greek          0              \n",
      "histories      polybius       greek          0              \n",
      "on the peace   demosthenes    greek          0              \n",
      "eumenides      aeschylus      greek          0              \n",
      "adversus indoctum et libros multos ementemlucian         greek          0              \n",
      "rape of helen  colluthus      greek          0              \n",
      "alexandra      lycophron      greek          0              \n",
      "varia historia aelian         greek          0              \n",
      "virtues and vicesaristotle      greek          0              \n",
      "otho           plutarch       greek          0              \n",
      "persians       aeschylus      greek          0              \n",
      "epitome argumenti stoicosplutarch       greek          0              \n",
      "pro imaginibus lucian         greek          0              \n",
      "epistles       plato          greek          0              \n",
      "dialogi marini lucian         greek          0              \n",
      "against midias demosthenes    greek          0              \n",
      "iphigenia tauriseuripides      greek          0              \n",
      "quomodo historia conscribenda sitlucian         greek          0              \n",
      "against macartatusdemosthenes    greek          0              \n",
      "ars rhetorica  aelius_aristidesgreek          0              \n",
      "de animae procreatione in timaeoplutarch       greek          0              \n",
      "lacaenarum apophthegmataplutarch       greek          0              \n",
      "against stephanus 2demosthenes    greek          0              \n",
      "protagoras     plato          greek          0              \n",
      "lysis          plato          greek          0              \n",
      "quis dis salveturclement        greek          0              \n",
      "cato minor     plutarch       greek          0              \n",
      "poetics        aristotle      greek          0              \n",
      "de alimento    hippocrates    greek          0              \n",
      "de alexandri magni fortuna aut virtuteplutarch       greek          0              \n",
      "imagines       lucian         greek          0              \n",
      "phaedo         plato          greek          0              \n",
      "epistulae et dialexeisphilostratus_the_atheniangreek          0              \n",
      "lovers         plato          greek          0              \n",
      "fall of troy   quintus_smyrnaeusgreek          0              \n",
      "laches         plato          greek          0              \n",
      "exhortation    clement        greek          0              \n",
      "enchiridion    epictetus      greek          0              \n",
      "against aristocratesdemosthenes    greek          0              \n",
      "cynegeticus    arrian         greek          0              \n",
      "orestes        euripides      greek          0              \n",
      "comparison of lysander sullaplutarch       greek          0              \n",
      "aemilius paulusplutarch       greek          0              \n",
      "de capienda ex inimicis utilitateplutarch       greek          0              \n",
      "statesman      plato          greek          0              \n",
      "gorgias        plato          greek          0              \n",
      "marcrobii      lucian         greek          0              \n",
      "animine an corporis affectiones sint pioresplutarch       greek          0              \n",
      "gallus         lucian         greek          0              \n",
      "podagra        lucian         greek          0              \n",
      "against conon  demosthenes    greek          0              \n",
      "agesilaus      plutarch       greek          0              \n",
      "tyrannicida    lucian         greek          0              \n",
      "olynthiac 1    demosthenes    greek          0              \n",
      "demetrius      plutarch       greek          0              \n",
      "septem sapientium conviviumplutarch       greek          0              \n",
      "dithyrambs     bacchylides    greek          0              \n",
      "works and days hesiod         greek          0              \n",
      "against aphobus 2demosthenes    greek          0              \n",
      "against nausimachus and xenopeithesdemosthenes    greek          0              \n",
      "de dinarcho    dionysius_halicarnassensisgreek          0              \n",
      "apologia       lucian         greek          0              \n",
      "de sera numinis vindictaplutarch       greek          0              \n",
      "iudicium vocaliumlucian         greek          0              \n",
      "navigium       lucian         greek          0              \n",
      "economics      aristotle      greek          0              \n",
      "iliad          homer          greek          0              \n",
      "de fortuna romanorumplutarch       greek          0              \n",
      "hermotimus     lucian         greek          0              \n",
      "foreign wars   appian         greek          0              \n",
      "sophista       plato          greek          0              \n",
      "epigrams       callimachus    greek          0              \n",
      "de syria dea   lucian         greek          0              \n",
      "against leocrateslycurgus       greek          0              \n",
      "phocion        plutarch       greek          0              \n",
      "comparison of lycurgus and numaplutarch       greek          0              \n",
      "comparison alcibiades coriolanusplutarch       greek          0              \n",
      "de isaeo       dionysius_halicarnassensisgreek          0              \n",
      "on his return  andocides      greek          0              \n",
      "comparison agis cleomenes gracchiplutarch       greek          0              \n",
      "oedipus at colonussophocles      greek          0              \n",
      "de thucydidis idiomatibusdionysius_halicarnassensisgreek          0              \n",
      "against boeotus 1demosthenes    greek          0              \n",
      "theaetetus     plato          greek          0              \n",
      "ad ammaeum     dionysius_halicarnassensisgreek          0              \n",
      "minos          plato          greek          0              \n",
      "histories      herodotus      greek          0              \n",
      "jusjurandum    hippocrates    greek          0              \n",
      "deorum consiliumlucian         greek          0              \n",
      "quomodo adolescens poetas audire debeatplutarch       greek          0              \n",
      "de bello judaico libri viiflavius_josephusgreek          0              \n",
      "alexander      lucian         greek          0              \n",
      "andromache     euripides      greek          0              \n",
      "imagines       philostratus_the_lemniangreek          0              \n",
      "odyssey        homer          greek          0              \n",
      "hippias minor  plato          greek          0              \n",
      "argonautica    apollonius     greek          0              \n",
      "iuppiter tragoeduslucian         greek          0              \n",
      "phoenissae     euripides      greek          0              \n",
      "conjugalia praeceptaplutarch       greek          0              \n",
      "pro lapsu inter salutandumlucian         greek          0              \n",
      "helen          euripides      greek          0              \n",
      "quomodo adulator ab amico internoscaturplutarch       greek          0              \n",
      "brutus         plutarch       greek          0              \n",
      "cratylus       plato          greek          0              \n",
      "an seni respublica gerenda sitplutarch       greek          0              \n",
      "against aristogiton 2demosthenes    greek          0              \n",
      "cataplus       lucian         greek          0              \n",
      "de recta ratione audiendiplutarch       greek          0              \n",
      "scytha         lucian         greek          0              \n",
      "against theocrinesdemosthenes    greek          0              \n",
      "letters        isocrates      greek          0              \n",
      "parallela minoraplutarch       greek          0              \n",
      "saturnalia     lucian         greek          0              \n",
      "peleponnesian warthucydides     greek          0              \n",
      "de stoicorum repugnantisplutarch       greek          0              \n",
      "rhesus         euripides      greek          0              \n",
      "de liberis educandisplutarch       greek          0              \n",
      "antiquitates romanaedionysius_halicarnassensisgreek          0              \n",
      "herodotus      lucian         greek          0              \n",
      "for the megalopitansdemosthenes    greek          0              \n",
      "hippias        lucian         greek          0              \n",
      "cynegetica     oppian_of_apameagreek          0              \n",
      "against spudiasdemosthenes    greek          0              \n",
      "epitaphius     bion_of_phlossagreek          0              \n",
      "on the trierarchic crowndemosthenes    greek          0              \n",
      "fugitivi       lucian         greek          0              \n",
      "hesiod         lucian         greek          0              \n",
      "against onetor 31demosthenes    greek          0              \n",
      "abdicatus      lucian         greek          0              \n",
      "comparison of dion and brutusplutarch       greek          0              \n",
      "de fraterno amoreplutarch       greek          0              \n",
      "fragments      epictetus      greek          0              \n",
      "maxime cum princibus philsopho esse diserendumplutarch       greek          0              \n",
      "medea          euripides      greek          0              \n",
      "constitution   aristotle      greek          0              \n",
      "amatorius      plutarch       greek          0              \n",
      "de compositione verborumdionysius_halicarnassensisgreek          0              \n",
      "bacchus        lucian         greek          0              \n",
      "de cohibenda iraplutarch       greek          0              \n",
      "de esu carnium 2plutarch       greek          0              \n",
      "against androtiondemosthenes    greek          0              \n",
      "on the navy    demosthenes    greek          0              \n",
      "philopseudes   lucian         greek          0              \n",
      "toxaris vel amicitialucian         greek          0              \n",
      "philippic 4    demosthenes    greek          0              \n",
      "marcellus      plutarch       greek          0              \n",
      "de cupiditate divitiarumplutarch       greek          0              \n",
      "against stephanus 1demosthenes    greek          0              \n",
      "comparison aristides catoplutarch       greek          0              \n",
      "on the peace   andocides      greek          0              \n",
      "olynthiac 2    demosthenes    greek          0              \n",
      "contemplantes  lucian         greek          0              \n",
      "vita apollonii philostratus_the_atheniangreek          0              \n",
      "non posse suaviter vivi secundum epicurumplutarch       greek          0              \n",
      "comparison aegisalius pompeyplutarch       greek          0              \n",
      "ad principem ineruditumplutarch       greek          0              \n",
      "birds          aristophanes   greek          0              \n",
      "peace          aristophanes   greek          0              \n",
      "de garrulitate plutarch       greek          0              \n",
      "de sollertia animaliumplutarch       greek          0              \n",
      "against philoclesdinarchus      greek          0              \n",
      "adversus colotemplutarch       greek          0              \n",
      "dearum iudiciumlucian         greek          0              \n",
      "speeches       antiphon       greek          0              \n",
      "comparison of solon and publicolaplutarch       greek          0              \n",
      "prometheus boundaeschylus      greek          0              \n",
      "alcestis       euripides      greek          0              \n",
      "de exilio      plutarch       greek          0              \n",
      "de fato        plutarch       greek          0              \n",
      "halieutica     oppian         greek          0              \n",
      "politics       aristotle      greek          0              \n",
      "agamemnon      aeschylus      greek          0              \n",
      "heroicus       philostratus_the_atheniangreek          0              \n",
      "pericles       plutarch       greek          0              \n",
      "plutus         aristophanes   greek          0              \n",
      "prometheus     lucian         greek          0              \n",
      "pelopidas      plutarch       greek          0              \n",
      "philip         demosthenes    greek          0              \n",
      "fragmenta      bion_of_phlossagreek          0              \n",
      "suppliant womenaeschylus      greek          0              \n",
      "de legendis    basil_of_caesareagreek          0              \n",
      "epinomis       plato          greek          0              \n",
      "josephi vita   flavius_josephusgreek          0              \n",
      "ion            euripides      greek          0              \n",
      "regum et imperatorum apophthegmataplutarch       greek          0              \n",
      "parmenides     plato          greek          0              \n",
      "timaeus        plato          greek          0              \n",
      "de invidia et odioplutarch       greek          0              \n",
      "platonicae quaestionesplutarch       greek          0              \n",
      "historia ecclesiasticaeusebius_caesareagreek          0              \n",
      "de mercede     lucian         greek          0              \n",
      "sertorius      plutarch       greek          0              \n",
      "vitae sophistarumphilostratus_the_atheniangreek          0              \n",
      "patriae encomiumlucian         greek          0              \n",
      "heracleidae    euripides      greek          0              \n",
      "discourses     epictetus      greek          0              \n",
      "on the halonnesusdemosthenes    greek          0              \n",
      "leges          plato          greek          0              \n",
      "dialogi mortuorumlucian         greek          0              \n",
      "against demosthenesdinarchus      greek          0              \n",
      "deipnosophists athenaeus      greek          0              \n",
      "against polyclesdemosthenes    greek          0              \n",
      "comparison of demosthenes with ciceroplutarch       greek          0              \n",
      "curatione acutorum morbumaretaeus       greek          0              \n",
      "characters     theophrastus   greek          0              \n",
      "natural facultiesgalen          greek          0              \n",
      "icaromenippus  lucian         greek          0              \n",
      "rhetoric       aristotle      greek          0              \n",
      "speeches       lysias         greek          0              \n",
      "libation bearersaeschylus      greek          0              \n",
      "themistocles   plutarch       greek          0              \n",
      "speeches       hyperides      greek          0              \n",
      "philippic 2    demosthenes    greek          0              \n",
      "leucippe et clitophonachilles_tatiusgreek          0              \n",
      "bruta animalia ratione utiplutarch       greek          0              \n",
      "de saltatione  lucian         greek          0              \n",
      "de tranquilitate animiplutarch       greek          0              \n",
      "hercules       lucian         greek          0              \n",
      "theseus        plutarch       greek          0              \n",
      "calumniae non temere credundumlucian         greek          0              \n",
      "rhetorum praeceptorlucian         greek          0              \n",
      "de genio socratisplutarch       greek          0              \n",
      "frogs          aristophanes   greek          0              \n",
      "pompey         plutarch       greek          0              \n",
      "against pantaenetusdemosthenes    greek          0              \n",
      "de gloria atheniensiumplutarch       greek          0              \n",
      "necyomantia    lucian         greek          0              \n",
      "against timarchusaeschines      greek          0              \n",
      "antigone       sophocles      greek          0              \n",
      "anacharsis     lucian         greek          0              \n",
      "zeuxis         lucian         greek          0              \n",
      "orations       libanius       greek          0              \n",
      "quaestiones naturalesplutarch       greek          0              \n",
      "against aphobus 3demosthenes    greek          0              \n",
      "apophthegmata laconicaplutarch       greek          0              \n",
      "artaxerxes     plutarch       greek          0              \n",
      "de amore prolisplutarch       greek          0              \n",
      "romulus        plutarch       greek          0              \n",
      "caius marius   plutarch       greek          0              \n",
      "the taking of iliostryphiodorus   greek          0              \n",
      "de domo        lucian         greek          0              \n",
      "wasps          aristophanes   greek          0              \n",
      "de e delphos   plutarch       greek          0              \n",
      "quaestiones convivalesplutarch       greek          0              \n",
      "nigrinus       lucian         greek          0              \n",
      "solon          plutarch       greek          0              \n",
      "trachiniae     sophocles      greek          0              \n",
      "critias        plato          greek          0              \n",
      "crito          plato          greek          0              \n",
      "quaestiones graecaeplutarch       greek          0              \n",
      "de aere aquis et locishippocrates    greek          0              \n",
      "alexander      plutarch       greek          0              \n",
      "against phaenippusdemosthenes    greek          0              \n",
      "prometheus es in verbislucian         greek          0              \n",
      "idylls         theocritus     greek          0              \n",
      "elements       euclid         greek          0              \n",
      "de prisca medicinahippocrates    greek          0              \n",
      "philopoemen    plutarch       greek          0              \n",
      "speeches       isaeus         greek          0              \n",
      "charmides      plato          greek          0              \n",
      "against aphobus 1demosthenes    greek          0              \n",
      "lycurgus       plutarch       greek          0              \n",
      "description of greecepausanias      greek          0              \n",
      "elocutione     demetrius      greek          0              \n",
      "against calliclesdemosthenes    greek          0              \n",
      "crassus        plutarch       greek          0              \n",
      "theogony       hesiod         greek          0              \n",
      "phalaris       lucian         greek          0              \n",
      "harmonides     lucian         greek          0              \n",
      "against aristogiton 1demosthenes    greek          0              \n",
      "odes           pindar         greek          0              \n",
      "against nicostratusdemosthenes    greek          0              \n",
      "pseudologista  lucian         greek          0              \n",
      "demonax        lucian         greek          0              \n",
      "cicero         plutarch       greek          0              \n",
      "de natura animaliumaelian         greek          0              \n",
      "aquane an ignis sit utiliorplutarch       greek          0              \n",
      "anabasis       arrian         greek          0              \n",
      "marcus cato    plutarch       greek          0              \n",
      "publicola      plutarch       greek          0              \n",
      "verae historiaelucian         greek          0              \n",
      "on organizationdemosthenes    greek          0              \n",
      "euthydemus     plato          greek          0              \n",
      "timoleon       plutarch       greek          0              \n",
      "hecuba         euripides      greek          0              \n",
      "on the crown   demosthenes    greek          0              \n",
      "against aristogitondinarchus      greek          0              \n",
      "aristides      plutarch       greek          0              \n",
      "erotic essay   demosthenes    greek          0              \n",
      "comparison of pericles and fabius maximusplutarch       greek          0              \n",
      "de astrologia  lucian         greek          0              \n",
      "comparison of nicias and crassusplutarch       greek          0              \n",
      "somnium        lucian         greek          0              \n",
      "de faciae quae in orbe lunae apparetplutarch       greek          0              \n",
      "lucullus       plutarch       greek          0              \n",
      "against alcibiadesandocides      greek          0              \n",
      "de se ipsum citra invidiam laudandoplutarch       greek          0              \n",
      "statuarum descriptionescallistratus   greek          0              \n",
      "against neaera demosthenes    greek          0              \n",
      "cleomenes      plutarch       greek          0              \n",
      "against zenothemisdemosthenes    greek          0              \n",
      "cimon          plutarch       greek          0              \n",
      "declamations   libanius       greek          0              \n",
      "letters        demosthenes    greek          0              \n",
      "epitome libri de animae procreationeplutarch       greek          0              \n",
      "protrepticus   clement        greek          0              \n",
      "numa           plutarch       greek          0              \n",
      "exordia        demosthenes    greek          0              \n",
      "on the twelve yearsdemades        greek          0              \n",
      "electrum       lucian         greek          0              \n",
      "de lysia       dionysius_halicarnassensisgreek          0              \n",
      "hippolytus     euripides      greek          0              \n",
      "ion            plato          greek          0              \n",
      "caius marcius coriolanusplutarch       greek          0              \n",
      "tiberius gracchusplutarch       greek          0              \n",
      "against onetor 30demosthenes    greek          0              \n",
      "dialogi meretriciilucian         greek          0              \n",
      "dionysiaca     nonnus_of_panopolisgreek          0              \n",
      "piscator       lucian         greek          0              \n",
      "acharnians     aristophanes   greek          0              \n",
      "against callippusdemosthenes    greek          0              \n",
      "heracles       euripides      greek          0              \n",
      "fabius maximus plutarch       greek          0              \n",
      "philebus       plato          greek          0              \n",
      "de isocrate    dionysius_halicarnassensisgreek          0              \n",
      "dialogi deorum lucian         greek          0              \n",
      "de curiositate plutarch       greek          0              \n",
      "praecepta gerendae reipublicaeplutarch       greek          0              \n",
      "on the chersonesedemosthenes    greek          0              \n",
      "comparison of pelopidas and marcellusplutarch       greek          0              \n",
      "epistulae rusticaeaelian         greek          0              \n",
      "de gymnastica  philostratus_the_atheniangreek          0              \n",
      "against timotheusdemosthenes    greek          0              \n",
      "geography      strabo         greek          0              \n",
      "quomodo quis suos in virtute sentiat profectusplutarch       greek          0              \n",
      "apologia       plato          greek          0              \n",
      "an virtus doceri possitplutarch       greek          0              \n",
      "de herodoti malignitateplutarch       greek          0              \n",
      "de musica      plutarch_pseudogreek          0              \n",
      "on the false embassydemosthenes    greek          0              \n",
      "praeceptiones  hippocrates    greek          0              \n",
      "consolatio ad uxoremplutarch       greek          0              \n",
      "electra        sophocles      greek          0              \n",
      "de parasito sive artem esse parasiticamlucian         greek          0              \n",
      "against leptinesdemosthenes    greek          0              \n",
      "sulla          plutarch       greek          0              \n",
      "an recte dictum sit latenter esse vivendumplutarch       greek          0              \n",
      "trojan women   euripides      greek          0              \n",
      "knights        aristophanes   greek          0              \n",
      "symposium      lucian         greek          0              \n",
      "alcibiades 2   plato          greek          0              \n",
      "agis           plutarch       greek          0              \n",
      "ichneutae      sophocles      greek          0              \n",
      "suppliants     euripides      greek          0              \n",
      "de sacrificiis lucian         greek          0              \n",
      "against ctesiphonaeschines      greek          0              \n",
      "placita philosophorumplutarch_pseudogreek          0              \n",
      "nicomachean ethicsaristotle      greek          0              \n",
      "de amicorum multitudineplutarch       greek          0              \n",
      "bis accusatus sive tribunalialucian         greek          0              \n",
      "philoctetes    sophocles      greek          0              \n",
      "against evergus and mnesibulusdemosthenes    greek          0              \n",
      "comparison of timoleon and aemiliusplutarch       greek          0              \n",
      "de morte peregrinilucian         greek          0              \n",
      "against lacritusdemosthenes    greek          0              \n",
      "comparison of sertorius and eumenesplutarch       greek          0              \n",
      "respublica     plato          greek          0              \n",
      "instituta laconicaplutarch       greek          0              \n",
      "vitae decem oratorumplutarch       greek          0              \n",
      "hipparchus     plato          greek          0              \n",
      "anabasis       xenophon       greek          0              \n",
      "epistula ad pompeiumdionysius_halicarnassensisgreek          0              \n",
      "de thucydide   dionysius_halicarnassensisgreek          0              \n",
      "menexenus      plato          greek          0              \n",
      "cleitophon     plato          greek          0              \n",
      "eudemian ethicsaristotle      greek          0              \n"
     ]
    }
   ],
   "source": [
    "with open('data/text_metadata_greek.json', 'r') as f:\n",
    "    text_meta = json.load(f)\n",
    "\n",
    "print('{}{}{}{}'.format('Title'.ljust(15), 'Author'.ljust(15), 'Language'.ljust(15), 'Year'))\n",
    "print('{}{}{}{}'.format('-----'.ljust(15), '------'.ljust(15), '--------'.ljust(15), '----'))\n",
    "for t in text_meta:\n",
    "    print('{}{}{}{}'.format(t['title'].ljust(15), t['author'].ljust(15), t['language'].ljust(15), str(t['year']).ljust(15)))\n",
    "\n",
    "texts = []\n",
    "for t in text_meta:\n",
    "    texts.append(Text.json_decode(t))\n",
    "result = connection.insert(texts)\n",
    "print('Inserted {} texts.'.format(len(result.inserted_ids)))"
   ]
  },
  {
   "cell_type": "markdown",
   "metadata": {},
   "source": [
    "Tokenize the texts"
   ]
  },
  {
   "cell_type": "code",
   "execution_count": 12,
   "metadata": {},
   "outputs": [
    {
     "name": "stdout",
     "output_type": "stream",
     "text": [
      "seven against thebes\n",
      "oedipus tyrannus\n",
      "bacchae\n"
     ]
    }
   ],
   "source": [
    "for text in texts[:3]:\n",
    "    tessfile = TessFile(text.path, metadata=text)\n",
    "    tokenizer = GreekTokenizer(connection) if tessfile.metadata.language == 'greek' else LatinTokenizer(connection)\n",
    "    tokens, tags, features = tokenizer.tokenize(tessfile.read(), text=tessfile.metadata)    \n",
    "    result = connection.insert(features)\n",
    "    result = connection.insert(tokens)\n",
    "\n",
    "    #unitizer = Unitizer()\n",
    "    #lines, phrases = unitizer.unitize(tokens, tags, tessfile.metadata)\n",
    "    #result = connection.insert(lines + phrases)    \n",
    "    print(text.title)"
   ]
  },
  {
   "cell_type": "markdown",
   "metadata": {},
   "source": [
    "Remove failed texts:"
   ]
  },
  {
   "cell_type": "code",
   "execution_count": 17,
   "metadata": {},
   "outputs": [
    {
     "data": {
      "text/plain": [
       "<pymongo.results.DeleteResult at 0x7f2816a75310>"
      ]
     },
     "execution_count": 17,
     "metadata": {},
     "output_type": "execute_result"
    }
   ],
   "source": [
    "connection_cb = TessMongoConnection('127.0.0.1', 27017, None, None, db='tesserae_cb')\n",
    "\n",
    "failed = ['orationes',\n",
    "'antiquitates judaicae',\n",
    "'iphigenia aulis',\n",
    "'histories',\n",
    "'antiquitates romanae',\n",
    "'deipnosophists',\n",
    "'geography']\n",
    "\n",
    "connection_cb.connection['texts'].delete_many({'title': {'$in':failed}})"
   ]
  },
  {
   "cell_type": "markdown",
   "metadata": {},
   "source": [
    "Update paths"
   ]
  },
  {
   "cell_type": "code",
   "execution_count": 35,
   "metadata": {},
   "outputs": [],
   "source": [
    "texts = connection_cb.find('texts')\n",
    "for t in texts:\n",
    "    p_old = t.path.split('/')\n",
    "    p_new = '/'.join(p_old[:3]+['maximus-confessor']+p_old[4:])\n",
    "    t.path = p_new\n",
    "result = connection_cb.update(texts)"
   ]
  },
  {
   "cell_type": "markdown",
   "metadata": {},
   "source": [
    "# Test lemmatization"
   ]
  },
  {
   "cell_type": "markdown",
   "metadata": {},
   "source": [
    "Load the list of texts"
   ]
  },
  {
   "cell_type": "code",
   "execution_count": 142,
   "metadata": {
    "scrolled": true
   },
   "outputs": [],
   "source": [
    "texts = connection.find('texts')"
   ]
  },
  {
   "cell_type": "markdown",
   "metadata": {},
   "source": [
    "Load the tokens from one of the texts"
   ]
  },
  {
   "cell_type": "code",
   "execution_count": 272,
   "metadata": {},
   "outputs": [],
   "source": [
    "tokens = connection.find('tokens',text=texts[0].id)"
   ]
  },
  {
   "cell_type": "code",
   "execution_count": 273,
   "metadata": {},
   "outputs": [
    {
     "data": {
      "text/plain": [
       "11896"
      ]
     },
     "execution_count": 273,
     "metadata": {},
     "output_type": "execute_result"
    }
   ],
   "source": [
    "len(tokens)"
   ]
  },
  {
   "cell_type": "markdown",
   "metadata": {},
   "source": [
    "Look up the lemma for the token:"
   ]
  },
  {
   "cell_type": "code",
   "execution_count": 121,
   "metadata": {},
   "outputs": [
    {
     "name": "stdout",
     "output_type": "stream",
     "text": [
      "ἥκω\n",
      "ἥκω\n"
     ]
    }
   ],
   "source": [
    "print(tokens[0].display)\n",
    "lem = connection.find('features',_id=tokens[0].features['lemmata'][0])\n",
    "print(lem[0].token)"
   ]
  },
  {
   "cell_type": "markdown",
   "metadata": {},
   "source": [
    "Look at some lemmas"
   ]
  },
  {
   "cell_type": "code",
   "execution_count": 15,
   "metadata": {},
   "outputs": [
    {
     "data": {
      "text/plain": [
       "[Feature(language=greek, feature=lemmata, token=ὄρνυμι, index=411, frequencies={'6509797141de82c578e8fd64': 4}),\n",
       " Feature(language=greek, feature=lemmata, token=σας, index=2065, frequencies={'6509797141de82c578e8fd64': 1}),\n",
       " Feature(language=greek, feature=lemmata, token=τέχνη, index=162, frequencies={'6509797141de82c578e8fd64': 1}),\n",
       " Feature(language=greek, feature=lemmata, token=κλαυστός, index=978, frequencies={'6509797141de82c578e8fd64': 1}),\n",
       " Feature(language=greek, feature=lemmata, token=τώς, index=1310, frequencies={'6509797141de82c578e8fd64': 2})]"
      ]
     },
     "execution_count": 15,
     "metadata": {},
     "output_type": "execute_result"
    }
   ],
   "source": [
    "connection.find('features',feature='lemmata')[:5]"
   ]
  },
  {
   "cell_type": "markdown",
   "metadata": {},
   "source": [
    "Find the corresponding text"
   ]
  },
  {
   "cell_type": "code",
   "execution_count": 97,
   "metadata": {},
   "outputs": [
    {
     "data": {
      "text/plain": [
       "[Text(language=greek, title=seven against thebes, author=aeschylus, year=0, ingestion_status=['Initialized', ''], ingestion_details={}, path=/home/administrador/tesserae/texts/grc/aeschylus.seven_against_thebes.tess, is_prose=False)]"
      ]
     },
     "execution_count": 97,
     "metadata": {},
     "output_type": "execute_result"
    }
   ],
   "source": [
    "connection.find('texts',_id=ObjectId('6509797141de82c578e8fd64'))"
   ]
  },
  {
   "cell_type": "markdown",
   "metadata": {},
   "source": [
    "# Frequencies"
   ]
  },
  {
   "cell_type": "markdown",
   "metadata": {},
   "source": [
    "Now implemented in my branch of tesserae-v5, in utils.calculations"
   ]
  },
  {
   "cell_type": "code",
   "execution_count": 143,
   "metadata": {},
   "outputs": [],
   "source": [
    "def get_text_frequencies(connection,text,feature='lemmata'):\n",
    "    result = connection.aggregate('tokens',[{'$match': {'text': ObjectId(text)}}, \n",
    "                                            {\"$project\": {\"_id\": 0, \"features\": 1}},\n",
    "                                            {\"$unwind\": \"$features.\"+feature},\n",
    "                                            {'$group' : {\"_id\" : \"$features.\"+feature , text : {\"$sum\": 1}}}],\n",
    "                                  encode=False)\n",
    "    freqs = pd.DataFrame(list(result)).set_index(\"_id\")\n",
    "\n",
    "    return freqs"
   ]
  },
  {
   "cell_type": "code",
   "execution_count": 133,
   "metadata": {},
   "outputs": [],
   "source": [
    "text = '6509797141de82c578e8fd64'\n",
    "freqs = get_text_frequencies(connection,text)"
   ]
  },
  {
   "cell_type": "markdown",
   "metadata": {},
   "source": [
    "## Extract frequencies from \"lemmata\" entities"
   ]
  },
  {
   "cell_type": "code",
   "execution_count": 9,
   "metadata": {},
   "outputs": [],
   "source": [
    "result = connection.aggregate('features',[ {'$match': { 'feature': 'lemmata' }}, \n",
    "                                          { \"$project\": {\"data\": { \"$objectToArray\": \"$frequencies\" }}},\n",
    "                                          {'$unwind': '$data'}],\n",
    "                     encode=False)"
   ]
  },
  {
   "cell_type": "code",
   "execution_count": 10,
   "metadata": {},
   "outputs": [],
   "source": [
    "freqs = pd.DataFrame()\n",
    "for element in result:\n",
    "    freqs.loc[element['_id'],element['data']['k']] = element['data']['v']\n",
    "freqs.fillna(value=0).min(axis=1).sort_values(ascending=False).iloc[:50]"
   ]
  },
  {
   "cell_type": "markdown",
   "metadata": {},
   "source": [
    "@ "
   ]
  },
  {
   "cell_type": "markdown",
   "metadata": {},
   "source": [
    "# Try LAP"
   ]
  },
  {
   "cell_type": "markdown",
   "metadata": {},
   "source": [
    "Import frequencies"
   ]
  },
  {
   "cell_type": "code",
   "execution_count": 22,
   "metadata": {},
   "outputs": [],
   "source": [
    "authors = ['plato', 'aristotle', 'gregory_of_nazianzus', 'basil_of_caesarea']"
   ]
  },
  {
   "cell_type": "code",
   "execution_count": 23,
   "metadata": {},
   "outputs": [
    {
     "ename": "NameError",
     "evalue": "name 'text' is not defined",
     "output_type": "error",
     "traceback": [
      "\u001b[0;31m---------------------------------------------------------------------------\u001b[0m",
      "\u001b[0;31mNameError\u001b[0m                                 Traceback (most recent call last)",
      "Cell \u001b[0;32mIn[23], line 4\u001b[0m\n\u001b[1;32m      2\u001b[0m freqs \u001b[38;5;241m=\u001b[39m pd\u001b[38;5;241m.\u001b[39mDataFrame(get_text_frequencies(connection_cb,\u001b[38;5;28mstr\u001b[39m(texts[\u001b[38;5;241m0\u001b[39m]\u001b[38;5;241m.\u001b[39mid)))\n\u001b[1;32m      3\u001b[0m texts \u001b[38;5;241m=\u001b[39m connection_cb\u001b[38;5;241m.\u001b[39mfind(\u001b[38;5;124m'\u001b[39m\u001b[38;5;124mtexts\u001b[39m\u001b[38;5;124m'\u001b[39m,author\u001b[38;5;241m=\u001b[39mauthors[\u001b[38;5;241m1\u001b[39m])\n\u001b[0;32m----> 4\u001b[0m freqs\u001b[38;5;241m=\u001b[39mfreqs\u001b[38;5;241m.\u001b[39mjoin(get_text_frequencies(connection_cb,\u001b[38;5;28mstr\u001b[39m(\u001b[43mtext\u001b[49m\u001b[38;5;241m.\u001b[39mid)),how\u001b[38;5;241m=\u001b[39m\u001b[38;5;124m'\u001b[39m\u001b[38;5;124minner\u001b[39m\u001b[38;5;124m'\u001b[39m)\n\u001b[1;32m      6\u001b[0m \u001b[38;5;28;01mfor\u001b[39;00m author \u001b[38;5;129;01min\u001b[39;00m authors[\u001b[38;5;241m2\u001b[39m:]:\n\u001b[1;32m      7\u001b[0m     texts \u001b[38;5;241m=\u001b[39m connection_cb\u001b[38;5;241m.\u001b[39mfind(\u001b[38;5;124m'\u001b[39m\u001b[38;5;124mtexts\u001b[39m\u001b[38;5;124m'\u001b[39m,author\u001b[38;5;241m=\u001b[39mauthors[\u001b[38;5;241m0\u001b[39m])\n",
      "\u001b[0;31mNameError\u001b[0m: name 'text' is not defined"
     ]
    }
   ],
   "source": [
    "texts = connection_cb.find('texts',author=authors[0])\n",
    "freqs = pd.DataFrame(get_text_frequencies(connection_cb,str(texts[0].id)))\n",
    "texts = connection_cb.find('texts',author=authors[1])\n",
    "freqs=freqs.join(get_text_frequencies(connection_cb,str(texts[0].id)),how='inner')\n",
    "\n",
    "for author in authors[2:]:\n",
    "    texts = connection_cb.find('texts',author=authors[0])\n",
    "    for text in texts:\n",
    "        freqs=freqs.join(get_text_frequencies(connection_cb,str(text.id)),how='inner')\n",
    "freqs = freqs.fillna(value=0).astype('int64')"
   ]
  },
  {
   "cell_type": "code",
   "execution_count": 8,
   "metadata": {},
   "outputs": [
    {
     "data": {
      "text/html": [
       "<div>\n",
       "<style scoped>\n",
       "    .dataframe tbody tr th:only-of-type {\n",
       "        vertical-align: middle;\n",
       "    }\n",
       "\n",
       "    .dataframe tbody tr th {\n",
       "        vertical-align: top;\n",
       "    }\n",
       "\n",
       "    .dataframe thead th {\n",
       "        text-align: right;\n",
       "    }\n",
       "</style>\n",
       "<table border=\"1\" class=\"dataframe\">\n",
       "  <thead>\n",
       "    <tr style=\"text-align: right;\">\n",
       "      <th></th>\n",
       "      <th>euthyphro</th>\n",
       "      <th>metaphysics</th>\n",
       "    </tr>\n",
       "  </thead>\n",
       "  <tbody>\n",
       "    <tr>\n",
       "      <th>πλήν</th>\n",
       "      <td>1</td>\n",
       "      <td>32</td>\n",
       "    </tr>\n",
       "    <tr>\n",
       "      <th>δεσμός</th>\n",
       "      <td>2</td>\n",
       "      <td>4</td>\n",
       "    </tr>\n",
       "    <tr>\n",
       "      <th>πάν</th>\n",
       "      <td>6</td>\n",
       "      <td>66</td>\n",
       "    </tr>\n",
       "    <tr>\n",
       "      <th>διδασκαλικός</th>\n",
       "      <td>1</td>\n",
       "      <td>2</td>\n",
       "    </tr>\n",
       "    <tr>\n",
       "      <th>νυνί</th>\n",
       "      <td>2</td>\n",
       "      <td>1</td>\n",
       "    </tr>\n",
       "    <tr>\n",
       "      <th>...</th>\n",
       "      <td>...</td>\n",
       "      <td>...</td>\n",
       "    </tr>\n",
       "    <tr>\n",
       "      <th>οὐδείς</th>\n",
       "      <td>14</td>\n",
       "      <td>346</td>\n",
       "    </tr>\n",
       "    <tr>\n",
       "      <th>βελτίων</th>\n",
       "      <td>6</td>\n",
       "      <td>17</td>\n",
       "    </tr>\n",
       "    <tr>\n",
       "      <th>ἀκίνητος</th>\n",
       "      <td>1</td>\n",
       "      <td>49</td>\n",
       "    </tr>\n",
       "    <tr>\n",
       "      <th>ἄδηλος</th>\n",
       "      <td>1</td>\n",
       "      <td>14</td>\n",
       "    </tr>\n",
       "    <tr>\n",
       "      <th>ὅστις</th>\n",
       "      <td>71</td>\n",
       "      <td>573</td>\n",
       "    </tr>\n",
       "  </tbody>\n",
       "</table>\n",
       "<p>567 rows × 2 columns</p>\n",
       "</div>"
      ],
      "text/plain": [
       "               euthyphro  metaphysics\n",
       "πλήν                  1           32\n",
       "δεσμός                2            4\n",
       "πάν                   6           66\n",
       "διδασκαλικός          1            2\n",
       "νυνί                  2            1\n",
       "...                  ...          ...\n",
       "οὐδείς              14          346\n",
       "βελτίων               6           17\n",
       "ἀκίνητος             1           49\n",
       "ἄδηλος               1           14\n",
       "ὅστις               71          573\n",
       "\n",
       "[567 rows x 2 columns]"
      ]
     },
     "execution_count": 8,
     "metadata": {},
     "output_type": "execute_result"
    }
   ],
   "source": [
    "freqs"
   ]
  },
  {
   "cell_type": "code",
   "execution_count": 19,
   "metadata": {},
   "outputs": [],
   "source": [
    "freqs.to_excel('frequencies.xlsx')"
   ]
  },
  {
   "cell_type": "markdown",
   "metadata": {},
   "source": [
    "Add labels"
   ]
  },
  {
   "cell_type": "code",
   "execution_count": 7,
   "metadata": {},
   "outputs": [],
   "source": [
    "lemma_labels=[]\n",
    "for idx in freqs.index:\n",
    "    lemma_labels.append(connection_cb.find('features',_id=idx)[0].token)\n",
    "freqs.index = lemma_labels\n",
    "\n",
    "text_labels=[]\n",
    "for t in freqs.keys():\n",
    "    text_labels.append(connection_cb.find('texts',_id=ObjectId(t))[0].title)\n",
    "freqs.columns = text_labels"
   ]
  },
  {
   "cell_type": "code",
   "execution_count": 32,
   "metadata": {},
   "outputs": [],
   "source": [
    "import scripts.lap_v2_py3 as lap_v2\n",
    "import numpy as np\n",
    "\n",
    "names = ['meno']\n",
    "\n",
    "freqs_norm = freqs.copy()\n",
    "N = np.shape(freqs)[0]\n",
    "for item in freqs:\n",
    "    freqs_norm[item] = lap_v2.rank_norm(np.asarray(freqs[item]), dist='normal',norm=N)\n",
    "\n",
    "data = freqs_norm[names]\n",
    "basis = freqs_norm.T.drop(names).T\n",
    "\n",
    "[a, A, eta] = lap_v2.lap(basis.values, data.values, full_output=True)\n",
    "\n",
    "projections = pd.DataFrame(data = a, index = basis.keys(), columns = names)\n",
    "eta = pd.DataFrame(data = eta.T, index = data.index, columns = basis.keys())"
   ]
  },
  {
   "cell_type": "code",
   "execution_count": null,
   "metadata": {},
   "outputs": [],
   "source": [
    "eta.sort_values(by='alcibiades 1',ascending=False).iloc[:30]"
   ]
  },
  {
   "cell_type": "code",
   "execution_count": 34,
   "metadata": {},
   "outputs": [
    {
     "data": {
      "text/html": [
       "<div>\n",
       "<style scoped>\n",
       "    .dataframe tbody tr th:only-of-type {\n",
       "        vertical-align: middle;\n",
       "    }\n",
       "\n",
       "    .dataframe tbody tr th {\n",
       "        vertical-align: top;\n",
       "    }\n",
       "\n",
       "    .dataframe thead th {\n",
       "        text-align: right;\n",
       "    }\n",
       "</style>\n",
       "<table border=\"1\" class=\"dataframe\">\n",
       "  <thead>\n",
       "    <tr style=\"text-align: right;\">\n",
       "      <th></th>\n",
       "      <th>meno</th>\n",
       "    </tr>\n",
       "  </thead>\n",
       "  <tbody>\n",
       "    <tr>\n",
       "      <th>on the accession of alexander</th>\n",
       "      <td>-0.039028</td>\n",
       "    </tr>\n",
       "    <tr>\n",
       "      <th>titus flamininus</th>\n",
       "      <td>-0.026018</td>\n",
       "    </tr>\n",
       "    <tr>\n",
       "      <th>seven against thebes</th>\n",
       "      <td>-0.018808</td>\n",
       "    </tr>\n",
       "    <tr>\n",
       "      <th>de esu carnium</th>\n",
       "      <td>-0.018371</td>\n",
       "    </tr>\n",
       "    <tr>\n",
       "      <th>caesar</th>\n",
       "      <td>-0.017959</td>\n",
       "    </tr>\n",
       "    <tr>\n",
       "      <th>...</th>\n",
       "      <td>...</td>\n",
       "    </tr>\n",
       "    <tr>\n",
       "      <th>euthyphro</th>\n",
       "      <td>0.089123</td>\n",
       "    </tr>\n",
       "    <tr>\n",
       "      <th>symposium</th>\n",
       "      <td>0.098149</td>\n",
       "    </tr>\n",
       "    <tr>\n",
       "      <th>hippias maior</th>\n",
       "      <td>0.110177</td>\n",
       "    </tr>\n",
       "    <tr>\n",
       "      <th>theages</th>\n",
       "      <td>0.114719</td>\n",
       "    </tr>\n",
       "    <tr>\n",
       "      <th>alcibiades 1</th>\n",
       "      <td>0.129299</td>\n",
       "    </tr>\n",
       "  </tbody>\n",
       "</table>\n",
       "<p>85 rows × 1 columns</p>\n",
       "</div>"
      ],
      "text/plain": [
       "                                   meno\n",
       "on the accession of alexander -0.039028\n",
       "titus flamininus              -0.026018\n",
       "seven against thebes          -0.018808\n",
       "de esu carnium                -0.018371\n",
       "caesar                        -0.017959\n",
       "...                                 ...\n",
       "euthyphro                      0.089123\n",
       "symposium                      0.098149\n",
       "hippias maior                  0.110177\n",
       "theages                        0.114719\n",
       "alcibiades 1                   0.129299\n",
       "\n",
       "[85 rows x 1 columns]"
      ]
     },
     "execution_count": 34,
     "metadata": {},
     "output_type": "execute_result"
    }
   ],
   "source": [
    "projections.sort_values(by = names[0])"
   ]
  },
  {
   "cell_type": "markdown",
   "metadata": {},
   "source": [
    "# Read Maximus files"
   ]
  },
  {
   "cell_type": "code",
   "execution_count": 1,
   "metadata": {},
   "outputs": [],
   "source": [
    "from docx import Document\n",
    "\n",
    "folder = \"/home/administrador/maximus-confessor/texts/maximus/\"\n",
    "document = Document(folder+\"Agios Maximos.docx\")\n",
    "titles = []\n",
    "f = open('test.tess','w')\n",
    "for paragraph in document.paragraphs:\n",
    "    if paragraph.style.name == \"Heading 3\":\n",
    "        f.close()\n",
    "        f = open(folder+'maximus_confessor.'+paragraph.text+'.tess','w')\n",
    "        titles.append(paragraph.text)\n",
    "        part = 0\n",
    "        line = 0\n",
    "    elif paragraph.style.name == \"Heading 4\":\n",
    "        part += 1\n",
    "        line = 0\n",
    "    elif paragraph.style.name == \"Normal\":\n",
    "        line +=1\n",
    "        if part != 0:\n",
    "            f.write('<'+titles[-1][:2]+' '+str(part)+'.'+str(line)+'> '+paragraph.text+'\\n')\n",
    "        else:\n",
    "            f.write('<'+titles[-1][:2]+' '+str(line)+'> '+paragraph.text+'\\n')\n",
    "f.close()"
   ]
  },
  {
   "cell_type": "markdown",
   "metadata": {},
   "source": [
    "Special treatment for Ad Thalassium:"
   ]
  },
  {
   "cell_type": "code",
   "execution_count": 40,
   "metadata": {},
   "outputs": [
    {
     "name": "stdout",
     "output_type": "stream",
     "text": [
      "ad. thal.\n",
      "Body Text Indent 3\n",
      "ΠΕ\n",
      "Body Text Indent 3\n",
      "ΠΕ\n",
      "Body Text Indent 3\n",
      "ΣΧ\n",
      "Heading 6\n",
      "ΕΠ\n",
      "Body Text Indent 3\n",
      "ΕΠ\n",
      "Body Text Indent 3\n",
      "ΕΠ\n",
      "Body Text Indent 3\n",
      "ΚΕ\n",
      "Body Text Indent 3\n",
      "ΚΕ\n",
      "Body Text Indent 3\n",
      "ΠΡ\n",
      "Heading 2\n"
     ]
    }
   ],
   "source": [
    "from docx import Document\n",
    "\n",
    "folder = \"/home/administrador/maximus-confessor/texts/maximus/\"\n",
    "document = Document(folder+\"Agios Maximos.docx\")\n",
    "titles = []\n",
    "f = open('test.tess','w')\n",
    "is_thal = 0\n",
    "for paragraph in document.paragraphs:\n",
    "    if paragraph.style.name == \"Heading 3\":\n",
    "        f.close()\n",
    "        f = open(folder+'maximus_confessor.'+paragraph.text+'.tess','w')\n",
    "        titles.append(paragraph.text)\n",
    "        title = titles[-1][:2]\n",
    "        if paragraph.text == 'ΠΡΟΣ ΘΑΛΑΣΣΙΟΝ':\n",
    "            is_thal = 1\n",
    "            title = 'ad. thal.'\n",
    "        elif paragraph.text == 'ΠΕΡΙ ΔΙΑΦΟΡΩΝ ΑΠΟΡΙΩΝ ':\n",
    "            is_thal = 0\n",
    "        part = 0\n",
    "        line = 0\n",
    "    elif paragraph.style.name == \"Heading 4\":\n",
    "        part += 1\n",
    "        line = 0\n",
    "    elif paragraph.style.name == \"Normal\":\n",
    "        if len(paragraph.text)>1:\n",
    "            line +=1\n",
    "        if is_thal and part == 1:\n",
    "            part_name = 'prol'\n",
    "        elif is_thal and part == 2:\n",
    "            part_name = 'epist'\n",
    "        elif is_thal and part > 2:\n",
    "            part_name = part-2\n",
    "        else:\n",
    "            part_name = part\n",
    "        if part != 0 and len(paragraph.text)>1:\n",
    "            f.write('<'+title+' '+str(part_name)+'.'+str(line)+'> '+paragraph.text+'\\n')\n",
    "        elif part == 0:\n",
    "            f.write('<'+title+' '+str(line)+'> '+paragraph.text+'\\n')\n",
    "    elif paragraph.style.name != \"Heading 5\":\n",
    "        print(title)\n",
    "        print(paragraph.style.name)\n",
    "f.close()"
   ]
  },
  {
   "cell_type": "code",
   "execution_count": 5,
   "metadata": {},
   "outputs": [],
   "source": [
    "from docx import Document\n",
    "\n",
    "folder = \"/home/administrador/maximus-confessor/texts/maximus/\"\n",
    "document = Document(folder+\"Mystagogy.docx\")\n",
    "titles = []\n",
    "f = open('test.tess','w')\n",
    "for paragraph in document.paragraphs:\n",
    "    if paragraph.style.name == \"Heading 3\":\n",
    "        f.close()\n",
    "        f = open(folder+'maximus_confessor.'+paragraph.text+'.tess','w')\n",
    "        titles.append(paragraph.text)\n",
    "        title = titles[-1][:2]\n",
    "        part = 0\n",
    "        line = 0\n",
    "    elif paragraph.style.name == \"Heading 4\":\n",
    "        part += 1\n",
    "        line = 0\n",
    "    elif paragraph.style.name == \"Normal\":\n",
    "        if len(paragraph.text)>1:\n",
    "            line +=1\n",
    "        if part == 1:\n",
    "            part_name = 'prol'\n",
    "        elif part > 1:\n",
    "            part_name = part-1\n",
    "        if part != 0 and len(paragraph.text)>1:\n",
    "            f.write('<'+title+' '+str(part_name)+'.'+str(line)+'> '+paragraph.text+'\\n')\n",
    "        elif part == 0:\n",
    "            f.write('<'+title+' '+str(line)+'> '+paragraph.text+'\\n')\n",
    "    else:\n",
    "        print(paragraph.style.name)\n",
    "f.close()"
   ]
  },
  {
   "cell_type": "markdown",
   "metadata": {},
   "source": [
    "Import into database"
   ]
  },
  {
   "cell_type": "code",
   "execution_count": 8,
   "metadata": {},
   "outputs": [
    {
     "name": "stdout",
     "output_type": "stream",
     "text": [
      "Metadata file 'data/maximus_texts.json' has been created.\n"
     ]
    }
   ],
   "source": [
    "import os\n",
    "import json\n",
    "\n",
    "# Replace 'your_directory' with the path to your main directory containing .tess files\n",
    "lang = 'greek'\n",
    "main_directory = '/home/administrador/maximus-confessor/texts/maximus'\n",
    "\n",
    "# Initialize an empty list to store metadata\n",
    "metadata = []\n",
    "\n",
    "# Iterate through all subdirectories and files\n",
    "for filename in os.scandir(main_directory):\n",
    "    if filename.is_file():\n",
    "        if filename.path.endswith(\".tess\"):\n",
    "            # Split the filename into parts based on a delimiter (.)\n",
    "            parts = filename.name.split('.')\n",
    "\n",
    "            # Extract metadata information based on the filename structure\n",
    "            if len(parts) == 3:\n",
    "                author = parts[0]\n",
    "                title = ' '.join(parts[1].split('_'))\n",
    "                file_path = os.path.join(main_directory, filename)\n",
    "\n",
    "                # Add the metadata to the list\n",
    "                metadata.append({'author': 'Maximus Confessor', 'title': title, 'path': file_path, 'language':lang, 'year':640})\n",
    "\n",
    "# Define the output metadata file\n",
    "metadata_file = 'data/maximus_texts.json'\n",
    "\n",
    "# Write the metadata to a JSON file\n",
    "with open(metadata_file, 'w') as file:\n",
    "    json.dump(metadata, file, indent=4)\n",
    "\n",
    "print(f\"Metadata file '{metadata_file}' has been created.\")\n"
   ]
  },
  {
   "cell_type": "markdown",
   "metadata": {},
   "source": [
    "# Reset database"
   ]
  },
  {
   "cell_type": "code",
   "execution_count": 69,
   "metadata": {},
   "outputs": [
    {
     "data": {
      "text/plain": [
       "<pymongo.results.DeleteResult at 0x7f859b89de50>"
      ]
     },
     "execution_count": 69,
     "metadata": {},
     "output_type": "execute_result"
    }
   ],
   "source": [
    "connection.connection['feature_sets'].delete_many({})\n",
    "connection.connection['features'].delete_many({})\n",
    "connection.connection['frequencies'].delete_many({})\n",
    "connection.connection['matches'].delete_many({})\n",
    "connection.connection['match_sets'].delete_many({})\n",
    "connection.connection['texts'].delete_many({})\n",
    "connection.connection['tokens'].delete_many({})\n",
    "connection.connection['units'].delete_many({})"
   ]
  },
  {
   "cell_type": "markdown",
   "metadata": {},
   "source": [
    "# Create metadata file"
   ]
  },
  {
   "cell_type": "markdown",
   "metadata": {},
   "source": [
    "See process_texts.py"
   ]
  }
 ],
 "metadata": {
  "kernelspec": {
   "display_name": "Python 3",
   "language": "python",
   "name": "python3"
  },
  "language_info": {
   "codemirror_mode": {
    "name": "ipython",
    "version": 3
   },
   "file_extension": ".py",
   "mimetype": "text/x-python",
   "name": "python",
   "nbconvert_exporter": "python",
   "pygments_lexer": "ipython3",
   "version": "3.8.3"
  }
 },
 "nbformat": 4,
 "nbformat_minor": 5
}
