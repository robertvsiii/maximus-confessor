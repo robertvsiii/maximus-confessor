{
 "cells": [
  {
   "cell_type": "markdown",
   "id": "7f757742-b4e2-42fd-839c-7c2084bd9809",
   "metadata": {},
   "source": [
    "The goal of this notebook is to illustrate the possibilities of the tesserae package in combination with various bioinformatics tools in identifying intertextual references in Maximus the Confessors's _Quaestiones ad Thalassium_. "
   ]
  },
  {
   "cell_type": "code",
   "execution_count": 1,
   "id": "b0e4620c-8b69-4c1c-868f-e5b6c27152eb",
   "metadata": {},
   "outputs": [],
   "source": [
    "import json\n",
    "from bson import ObjectId\n",
    "import pandas as pd\n",
    "\n",
    "from tesserae.db import TessMongoConnection\n",
    "from tesserae.db.entities import Match, Text, Token, Unit, Vector\n",
    "from tesserae.utils import TessFile\n",
    "from tesserae.tokenizers import GreekTokenizer, LatinTokenizer\n",
    "from tesserae.unitizer import Unitizer\n",
    "from tesserae.matchers.sparse_encoding import SparseMatrixSearch\n",
    "from tesserae.utils.calculations import get_text_frequencies\n",
    "\n",
    "connection = TessMongoConnection('127.0.0.1', 27017, None, None, db='tesstest')"
   ]
  },
  {
   "cell_type": "markdown",
   "id": "d639b8d0-e695-4355-af46-15fc397a512a",
   "metadata": {},
   "source": [
    "# Reset and load texts"
   ]
  },
  {
   "cell_type": "code",
   "execution_count": 29,
   "id": "f15088f6-65e5-4fb7-98d5-f034fb070071",
   "metadata": {},
   "outputs": [
    {
     "name": "stdout",
     "output_type": "stream",
     "text": [
      "Inserted 4 texts.\n",
      "ΠΡΟΣ ΘΑΛΑΣΣΙΟΝ\n",
      "New Testament\n",
      "Historia Ecclesiastica\n",
      "Metaphysics\n"
     ]
    }
   ],
   "source": [
    "connection.connection['features'].delete_many({})\n",
    "connection.connection['frequencies'].delete_many({})\n",
    "connection.connection['matches'].delete_many({})\n",
    "connection.connection['texts'].delete_many({})\n",
    "connection.connection['tokens'].delete_many({})\n",
    "connection.connection['units'].delete_many({})\n",
    "connection.connection['translations'].delete_many({})\n",
    "\n",
    "with open('data/maximus_comp_test.json', 'r') as f:\n",
    "    text_meta = json.load(f)\n",
    "\n",
    "texts = []\n",
    "for t in text_meta:\n",
    "    texts.append(Text.json_decode(t))\n",
    "result = connection.insert(texts)\n",
    "print('Inserted {} texts.'.format(len(result.inserted_ids)))\n",
    "\n",
    "for text in texts:\n",
    "    tessfile = TessFile(text.path, metadata=text)\n",
    "\n",
    "    tokenizer = GreekTokenizer(connection)\n",
    "    tokens, tags, features = tokenizer.tokenize(tessfile.read(), text=tessfile.metadata)    \n",
    "    result = connection.insert(features)\n",
    "    result = connection.update(features)\n",
    "\n",
    "    unitizer = Unitizer()\n",
    "    lines, phrases = unitizer.unitize(tokens, tags, tessfile.metadata)\n",
    "    result = connection.insert(lines + phrases)    \n",
    "\n",
    "    result = connection.insert(tokens)\n",
    "    \n",
    "    print(text.title)"
   ]
  },
  {
   "cell_type": "markdown",
   "id": "56fbbec8-f42d-4a96-a44e-5e1f10ca5c61",
   "metadata": {},
   "source": [
    "# Linear Algebra Projections"
   ]
  },
  {
   "cell_type": "markdown",
   "id": "7837415f-08ad-4156-86dc-e0b7a0e9a357",
   "metadata": {},
   "source": [
    "Load frequencies. "
   ]
  },
  {
   "cell_type": "code",
   "execution_count": 104,
   "id": "c3e8e8be-336c-46c4-a41e-947353d5cc71",
   "metadata": {},
   "outputs": [],
   "source": [
    "result = connection.aggregate('features',[ {'$match': { 'feature': 'lemmata' }}, \n",
    "                                          { \"$project\": {\"data\": { \"$objectToArray\": \"$frequencies\" }}},\n",
    "                                          {'$unwind': '$data'},\n",
    "                                          {'$project' : {\n",
    "                                                '_id':1,\n",
    "                                                'text' : '$data.k',\n",
    "                                                'freq' : '$data.v' }}],\n",
    "                     encode=False)\n",
    "freqs = pd.DataFrame.from_dict(list(result)).pivot_table(values='freq',index=['_id'],columns=['text'],fill_value=0)"
   ]
  },
  {
   "cell_type": "markdown",
   "id": "682a6d13-0c88-4368-bbc1-b2353ec4fbb7",
   "metadata": {},
   "source": [
    "Load the labels. (lemma labels are slow -- should implement directly in mongodb query)"
   ]
  },
  {
   "cell_type": "code",
   "execution_count": 105,
   "id": "e8cecb8a-d457-4325-a220-e85f654ea4ed",
   "metadata": {},
   "outputs": [],
   "source": [
    "#lemma_labels=[]\n",
    "#for idx in freqs.index:\n",
    "#    lemma_labels.append(connection.find('features',_id=idx)[0].token)\n",
    "#freqs.index = lemma_labels\n",
    "\n",
    "text_labels=[]\n",
    "for t in freqs.keys():\n",
    "    text_labels.append(connection.find('texts',_id=ObjectId(t))[0].title)\n",
    "freqs.columns = text_labels"
   ]
  },
  {
   "cell_type": "markdown",
   "id": "2ea754e3-6981-4706-a842-e1a895d3e9e1",
   "metadata": {},
   "source": [
    "Make projections"
   ]
  },
  {
   "cell_type": "code",
   "execution_count": 107,
   "id": "fc1ab870-e5d4-4fc5-b955-4c5d30e8a0ca",
   "metadata": {},
   "outputs": [],
   "source": [
    "import scripts.lap_v2_py3 as lap_v2\n",
    "import numpy as np\n",
    "\n",
    "names = ['ΠΡΟΣ ΘΑΛΑΣΣΙΟΝ']\n",
    "\n",
    "freqs_norm = freqs.copy()\n",
    "N = np.shape(freqs)[0]\n",
    "for item in freqs:\n",
    "    freqs_norm[item] = lap_v2.rank_norm(np.asarray(freqs[item]), dist='normal',norm=N)\n",
    "\n",
    "data = freqs_norm[names]\n",
    "basis = freqs_norm.T.drop(names).T\n",
    "\n",
    "[a, A, eta] = lap_v2.lap(basis.values, data.values, full_output=True)\n",
    "\n",
    "projections = pd.DataFrame(data = a, index = basis.keys(), columns = names)\n",
    "eta = pd.DataFrame(data = eta.T, index = data.index, columns = basis.keys())"
   ]
  },
  {
   "cell_type": "code",
   "execution_count": 108,
   "id": "9b8bfc44-e83c-4f03-9e4b-7e82edca6f58",
   "metadata": {},
   "outputs": [
    {
     "data": {
      "text/html": [
       "<div>\n",
       "<style scoped>\n",
       "    .dataframe tbody tr th:only-of-type {\n",
       "        vertical-align: middle;\n",
       "    }\n",
       "\n",
       "    .dataframe tbody tr th {\n",
       "        vertical-align: top;\n",
       "    }\n",
       "\n",
       "    .dataframe thead th {\n",
       "        text-align: right;\n",
       "    }\n",
       "</style>\n",
       "<table border=\"1\" class=\"dataframe\">\n",
       "  <thead>\n",
       "    <tr style=\"text-align: right;\">\n",
       "      <th></th>\n",
       "      <th>ΠΡΟΣ ΘΑΛΑΣΣΙΟΝ</th>\n",
       "    </tr>\n",
       "  </thead>\n",
       "  <tbody>\n",
       "    <tr>\n",
       "      <th>New Testament</th>\n",
       "      <td>0.253213</td>\n",
       "    </tr>\n",
       "    <tr>\n",
       "      <th>Historia Ecclesiastica</th>\n",
       "      <td>0.075002</td>\n",
       "    </tr>\n",
       "    <tr>\n",
       "      <th>Metaphysics</th>\n",
       "      <td>0.197027</td>\n",
       "    </tr>\n",
       "  </tbody>\n",
       "</table>\n",
       "</div>"
      ],
      "text/plain": [
       "                        ΠΡΟΣ ΘΑΛΑΣΣΙΟΝ\n",
       "New Testament                 0.253213\n",
       "Historia Ecclesiastica        0.075002\n",
       "Metaphysics                   0.197027"
      ]
     },
     "execution_count": 108,
     "metadata": {},
     "output_type": "execute_result"
    }
   ],
   "source": [
    "projections"
   ]
  },
  {
   "cell_type": "markdown",
   "id": "208bd09a-2855-4069-aead-f162f787a182",
   "metadata": {},
   "source": [
    "# Sequence Alignment"
   ]
  },
  {
   "cell_type": "markdown",
   "id": "12a69dcb-2193-4454-86cd-6ee46df0b9b5",
   "metadata": {},
   "source": [
    "Get list of lemmas from unit"
   ]
  },
  {
   "cell_type": "code",
   "execution_count": 2,
   "id": "6562a3e4-9693-4779-ac4b-51e9eb1a70e6",
   "metadata": {},
   "outputs": [],
   "source": [
    "def get_lemma_seq(title,**kwargs):\n",
    "    #possible kwargs: tags, index, unit_type\n",
    "    text = connection.find('texts',title = title)[0].id\n",
    "    kwargs['text'] = text\n",
    "    result = connection.aggregate('units',[{'$match': kwargs}, \n",
    "                                       {\"$project\": {\"_id\": 0, \"tokens.display\": 1, \"tokens.features.lemmata\": 1}},\n",
    "                                       {\"$unwind\": \"$tokens\"},\n",
    "                                       {\"$project\": {\"token\": '$tokens.display', \"lemma\" : { \"$arrayElemAt\" : [\"$tokens.features.lemmata\", 0]}}}],\n",
    "                                  encode=False)\n",
    "    return pd.DataFrame.from_dict(result).set_index('token').squeeze()"
   ]
  },
  {
   "cell_type": "markdown",
   "id": "be2b7110-0a64-4ac2-b309-b3a8fe4a5a75",
   "metadata": {},
   "source": [
    "A simple Smith-Waterman implementation, courtesy of ChatGPT. Extremely inefficient, could be sped up significantly."
   ]
  },
  {
   "cell_type": "code",
   "execution_count": 3,
   "id": "f5892c46-3ae1-4756-af13-13a863f0a158",
   "metadata": {},
   "outputs": [
    {
     "name": "stdout",
     "output_type": "stream",
     "text": [
      "Aligned Sequence 1: Πατήρ μου ἕως ἄρτι ἐργάζεται κἀγὼ ἐργάζομαι\n",
      "Aligned Sequence 2: πατήρ μου ἕως ἄρτι ἐργάζεται κἀγὼ ἐργάζομαι\n",
      "Alignment Score: 14\n"
     ]
    }
   ],
   "source": [
    "def smith_waterman(seq1_ser, seq2_ser, match=2, mismatch=-1, gap_penalty=-1, traceback = True):\n",
    "    seq1 = list(seq1_ser.values)\n",
    "    seq2 = list(seq2_ser.values)\n",
    "    idx1 = list(seq1_ser.keys())\n",
    "    idx2 = list(seq2_ser.keys())\n",
    "    \n",
    "    # Create a matrix to store the scores for each position in the sequences\n",
    "    rows, cols = len(seq1) + 1, len(seq2) + 1\n",
    "    score_matrix = [[0 for _ in range(cols)] for _ in range(rows)]\n",
    "\n",
    "    # Initialize the maximum score and its position\n",
    "    max_score = 0\n",
    "    max_i, max_j = 0, 0\n",
    "\n",
    "    # Fill in the score matrix\n",
    "    for i in range(1, rows):\n",
    "        for j in range(1, cols):\n",
    "            if seq1[i - 1] == seq2[j - 1]:\n",
    "                match_score = score_matrix[i - 1][j - 1] + match\n",
    "            else:\n",
    "                match_score = score_matrix[i - 1][j - 1] + mismatch\n",
    "\n",
    "            delete_score = score_matrix[i - 1][j] + gap_penalty\n",
    "            insert_score = score_matrix[i][j - 1] + gap_penalty\n",
    "\n",
    "            score_matrix[i][j] = max(0, match_score, delete_score, insert_score)\n",
    "\n",
    "            if score_matrix[i][j] > max_score:\n",
    "                max_score = score_matrix[i][j]\n",
    "                max_i, max_j = i, j\n",
    "\n",
    "    if traceback:\n",
    "        # Traceback to find the aligned sequences\n",
    "        aligned_seq1, aligned_seq2 = [], []\n",
    "        i, j = max_i, max_j\n",
    "    \n",
    "        while score_matrix[i][j] > 0:\n",
    "            if score_matrix[i][j] == score_matrix[i - 1][j - 1] + (match if seq1[i - 1] == seq2[j - 1] else mismatch):\n",
    "                aligned_seq1.insert(0, idx1[i - 1])\n",
    "                aligned_seq2.insert(0, idx2[j - 1])\n",
    "                i -= 1\n",
    "                j -= 1\n",
    "            elif score_matrix[i][j] == score_matrix[i - 1][j] + gap_penalty:\n",
    "                aligned_seq1.insert(0, idx1[i - 1])\n",
    "                aligned_seq2.insert(0, \"-\")\n",
    "                i -= 1\n",
    "            else:\n",
    "                aligned_seq1.insert(0, \"-\")\n",
    "                aligned_seq2.insert(0, idx2[j - 1])\n",
    "                j -= 1\n",
    "\n",
    "        aligned_seq1 = ' '.join(aligned_seq1)\n",
    "        aligned_seq2 = ' '.join(aligned_seq2)\n",
    "        return aligned_seq1, aligned_seq2, max_score\n",
    "    else:\n",
    "        return max_score\n",
    "\n",
    "# Example usage:\n",
    "seq1 = get_lemma_seq('ΠΡΟΣ ΘΑΛΑΣΣΙΟΝ',tags='2.2',unit_type='phrase')\n",
    "seq2 = get_lemma_seq('New Testament',tags='John.5.17',unit_type='phrase')\n",
    "aligned_seq1, aligned_seq2, score = smith_waterman(seq1, seq2, match=2, mismatch=-1, gap_penalty=-1)\n",
    "print(\"Aligned Sequence 1:\", aligned_seq1)\n",
    "print(\"Aligned Sequence 2:\", aligned_seq2)\n",
    "print(\"Alignment Score:\", score)"
   ]
  },
  {
   "cell_type": "markdown",
   "id": "39bf1521-150c-4b37-bceb-77e171f76326",
   "metadata": {},
   "source": [
    "Basic strategy for searching for vocab overlap: \n",
    "1. Starting from lemma sequence function, unwind one more time to get list of lemma-tag pairs.\n",
    "2. Use these pairs to build a binary sparse matrix, with 1 where a lemma exists within a tag and 0 otherwise.\n",
    "3. Multiply these matrices to get the overlaps between units.\n",
    "\n",
    "I've implemented this, but now I need to add the stoplist to avoid getting nonsense results. New to do list:\n",
    "1. Implement query to return frequency counts for whole corpus, keeping display and index, to make stop list\n",
    "2. Redo matrix multiplication: Save dimensions, then append second to first and square it. This allows generalization to arbitrary number of texts.\n",
    "3. Extract values and indices from resulting matrix\n",
    "4. Select from the array of indices based on score threshold and generate graph (using text title as node label)\n",
    "5. Test plotting, coloring by node label\n",
    "\n",
    "*The above list is all done now too.* Subsequent refinements:\n",
    "1. Run sequence alignment on pairs over certain threshold, and re-threshold with alignment score\n",
    "2. Add aligned texts to edge data, for easy lookup\n",
    "3. Extract chapter number from tags and add this to the node data"
   ]
  },
  {
   "cell_type": "code",
   "execution_count": 4,
   "id": "76f93e47-3337-48e4-85c1-261a1e55cddc",
   "metadata": {},
   "outputs": [],
   "source": [
    "n_stop = 100\n",
    "result = connection.aggregate('features',[ {'$match': { 'feature': 'lemmata' }}, \n",
    "                                          { \"$project\": {\"data\": { \"$objectToArray\": \"$frequencies\" }}},\n",
    "                                          {'$unwind': '$data'},\n",
    "                                          {'$project' : {\n",
    "                                                '_id':1,\n",
    "                                                'text' : '$data.k',\n",
    "                                                'freq' : '$data.v' }}],\n",
    "                     encode=False)\n",
    "freqs = pd.DataFrame.from_dict(list(result)).pivot_table(values='freq',index=['_id'],columns=['text'],fill_value=0)\n",
    "stoplist = freqs.sum(axis=1).sort_values(ascending=False).iloc[:n_stop].values"
   ]
  },
  {
   "cell_type": "code",
   "execution_count": 5,
   "id": "0aa1335a-7924-4fff-8df7-3c0c2071a9d1",
   "metadata": {},
   "outputs": [],
   "source": [
    "from scipy.sparse import csr_array\n",
    "import numpy as  np\n",
    "\n",
    "def get_unit_lemma_matrix(title,unit_type='line',stoplist=[]):\n",
    "    text = connection.find('texts',title = title)[0].id\n",
    "    result = connection.aggregate('units',[{'$match': {'text': text, 'unit_type': unit_type}}, \n",
    "                                       {\"$project\": {\"_id\": 0, \"index\": 1, \"tokens.features.lemmata\": 1}},\n",
    "                                       {\"$unwind\": \"$tokens\"},\n",
    "                                       {\"$project\": {\"index\": 1, \"lemmata\" : { \"$arrayElemAt\" : [\"$tokens.features.lemmata\", 0]}}}],\n",
    "                                  encode=False)\n",
    "    sp = pd.DataFrame.from_dict(result) \n",
    "    sp = sp[~sp['lemmata'].isin(list(stoplist)+[-1])].values\n",
    "    #sp = sp[np.where(np.min(sp,axis=1)>=0),:].squeeze()\n",
    "    M = np.max(sp[:,0])+1\n",
    "    N = np.max(pd.DataFrame.from_dict(connection.aggregate('features',[{'$match': {'feature': 'lemmata'}},{'$project': {'_id':0, 'index':1}}],encode=False)).squeeze().values)+1\n",
    "    sp = csr_array((np.ones(len(sp)),(sp[:,0],sp[:,1])),shape=[M,N])\n",
    "    sp.sum_duplicates()\n",
    "    return sp.sign()"
   ]
  },
  {
   "cell_type": "code",
   "execution_count": 47,
   "id": "8a42edc8-0654-408d-9a96-8a0e6e5bd16b",
   "metadata": {},
   "outputs": [],
   "source": [
    "titles = ['ΠΡΟΣ ΘΑΛΑΣΣΙΟΝ','New Testament']\n",
    "sp1 = get_unit_lemma_matrix(titles[0],stoplist=stoplist,unit_type='phrase')\n",
    "sp2 = get_unit_lemma_matrix(titles[1],stoplist=stoplist,unit_type='phrase')"
   ]
  },
  {
   "cell_type": "markdown",
   "id": "98534b78-5bd6-48d1-a99f-07e4a867a679",
   "metadata": {},
   "source": [
    "# Arc Diagram and Chord Diagram"
   ]
  },
  {
   "cell_type": "markdown",
   "id": "5d146526-3f3a-4257-bb6c-c21ef7ff0a24",
   "metadata": {},
   "source": [
    "Both of these can be easily constructed using networkx, based on a graph object (https://ericmjl.github.io/Network-Analysis-Made-Simple/01-introduction/03-viz/). "
   ]
  },
  {
   "cell_type": "code",
   "execution_count": 48,
   "id": "5ee3a3b2-dd11-43fc-bf24-b0043fc31e85",
   "metadata": {},
   "outputs": [
    {
     "name": "stderr",
     "output_type": "stream",
     "text": [
      "/home/administrador/virtual_env/py38/lib/python3.8/site-packages/scipy/sparse/_index.py:146: SparseEfficiencyWarning: Changing the sparsity structure of a csr_matrix is expensive. lil_matrix is more efficient.\n",
      "  self._set_arrayXarray(i, j, x)\n"
     ]
    }
   ],
   "source": [
    "import networkx as nx\n",
    "import numpy as np\n",
    "from scipy.sparse import issparse, vstack\n",
    "\n",
    "def create_graph_from_entity_matrices(matrices, titles, n):\n",
    "    # Concatenate matrices vertically\n",
    "    concatenated_matrix = vstack(matrices, format='csr')\n",
    "\n",
    "    # Calculate the overlap matrix by squaring the concatenated matrix\n",
    "    overlap_matrix = concatenated_matrix.dot(concatenated_matrix.T)\n",
    "    overlap_matrix.setdiag(0)\n",
    "\n",
    "    # Binarize the overlap matrix based on the threshold n\n",
    "    binarized_matrix = (overlap_matrix >= n).astype(int)\n",
    "\n",
    "    # Create a graph from the binarized matrix\n",
    "    G = nx.from_scipy_sparse_array(binarized_matrix)\n",
    "\n",
    "    node_data = {}\n",
    "    for k in range(len(matrices)):\n",
    "        node_data.update({node_id: {'title': titles[k]} for node_id in range(len(node_data),len(node_data)+matrices[k].shape[0])})\n",
    "    nx.set_node_attributes(G,node_data)\n",
    "    \n",
    "    return G\n",
    "\n",
    "# Example usage:\n",
    "# matrices is a list of sparse matrices\n",
    "# n is the minimum number of nonzero features to create an edge\n",
    "matrices = [sp1,sp2]  # Replace [...] with your list of sparse matrices\n",
    "titles = ['ΠΡΟΣ ΘΑΛΑΣΣΙΟΝ','New Testament']\n",
    "n = 4  # Replace 2 with your desired threshold\n",
    "\n",
    "graph = create_graph_from_entity_matrices(matrices, titles, n)\n",
    "\n",
    "# Now you can use the graph for various network analysis tasks with NetworkX\n"
   ]
  },
  {
   "cell_type": "code",
   "execution_count": 49,
   "id": "9eda48b2-4022-471f-8530-0a60d5c77275",
   "metadata": {},
   "outputs": [
    {
     "data": {
      "image/png": "[encoded data removed]",
      "text/plain": [
       "<Figure size 640x480 with 1 Axes>"
      ]
     },
     "metadata": {},
     "output_type": "display_data"
    }
   ],
   "source": [
    "import nxviz as nv \n",
    "from nxviz import annotate\n",
    "\n",
    "nv.circos(graph,group_by='title',node_color_by='title')\n",
    "annotate.circos_group(graph, group_by=\"title\")"
   ]
  },
  {
   "cell_type": "markdown",
   "id": "f648e438-0280-41f2-9b7f-a4bc0a9543e4",
   "metadata": {},
   "source": [
    "I also discovered this library called \"Bokeh,\" which can make the graphs interactive: https://docs.bokeh.org/en/latest/index.html"
   ]
  },
  {
   "cell_type": "markdown",
   "id": "8283df1e-f6e7-4ba0-9534-ddb34f350b4f",
   "metadata": {},
   "source": [
    "Next steps: \n",
    "1. Use MongoDB query to get list of all tags, (or maybe title-tag pairs), to use as the nodes\n",
    "2. Use the results of the previous section to return a list of tuples of two title-tag pairs, indicating all alignments over a certain score threshold\n",
    "3. Make arc and chord plots\n",
    "4. Interactive: use Bokeh to display the alignment when you hover over an edge"
   ]
  },
  {
   "cell_type": "markdown",
   "id": "fdf69cc7-4afe-40d1-ad48-2363b5fd9233",
   "metadata": {},
   "source": [
    "# GPT Translations"
   ]
  },
  {
   "cell_type": "markdown",
   "id": "1d2e7663-d31a-4e49-bec5-3a08ef57834d",
   "metadata": {},
   "source": [
    "The aim of this section to test the utility of OpenAI's GPT for accelerating the work of translating Greek partristic texts. First, I will run a brief test to confirm that the API works, then set up a script to translate unit by unit from the database and save in a new collection, and finally test the power of fine-tuning the model using translations that I have already proofread."
   ]
  },
  {
   "cell_type": "markdown",
   "id": "091799a6-3422-4a9c-b675-56619dcf4cb3",
   "metadata": {},
   "source": [
    "## Initialize the client"
   ]
  },
  {
   "cell_type": "code",
   "execution_count": 3,
   "id": "de0eb879-88eb-41e6-ab7d-07e2bf837822",
   "metadata": {},
   "outputs": [],
   "source": [
    "from openai import OpenAI\n",
    "\n",
    "with open('api_key.txt','r') as f:\n",
    "    api_key = f.read()\n",
    "client = OpenAI(api_key=api_key)"
   ]
  },
  {
   "cell_type": "markdown",
   "id": "d1b8318e-314b-4fdd-b12c-6680561ce4a6",
   "metadata": {},
   "source": [
    "## Test the API"
   ]
  },
  {
   "cell_type": "code",
   "execution_count": 2,
   "id": "2ed705b8-a3e9-4625-9937-f03189250388",
   "metadata": {},
   "outputs": [],
   "source": [
    "response = client.chat.completions.create(\n",
    "  model=\"gpt-3.5-turbo\",\n",
    "  messages=[\n",
    "    {\"role\": \"user\", \"content\": \"Say this is a test.\"}\n",
    "  ]\n",
    ")"
   ]
  },
  {
   "cell_type": "code",
   "execution_count": 14,
   "id": "07b6a9e3-058c-4b26-8a02-4372ef96ad4a",
   "metadata": {},
   "outputs": [
    {
     "data": {
      "text/plain": [
       "'This is a test.'"
      ]
     },
     "execution_count": 14,
     "metadata": {},
     "output_type": "execute_result"
    }
   ],
   "source": [
    "response.choices[0].message.content"
   ]
  },
  {
   "cell_type": "markdown",
   "id": "adda47c4-18cb-4c8b-9d0d-9c1c1ef1856e",
   "metadata": {},
   "source": [
    "## Test Translation"
   ]
  },
  {
   "cell_type": "markdown",
   "id": "ab4377f1-84ba-4727-8873-86794d592682",
   "metadata": {},
   "source": [
    "First let's load the text I want to use for benchmarking, from Q60 of Ad Thalassium"
   ]
  },
  {
   "cell_type": "code",
   "execution_count": 7,
   "id": "795a4f1b-77fc-4c26-8abf-fb5d5446c74f",
   "metadata": {},
   "outputs": [
    {
     "data": {
      "text/plain": [
       "Unit(text=65280695dbfd2829fe0b2a26, index=66, tags=['2.2'], unit_type=line, tokens=[{'index': 10671, 'display': 'Εἰ', 'features': {'lemmata': [666], 'sound': [], 'semantic': [161, 157], 'semantic + lemmata': [1049, 232, 227], 'form': [916]}}, {'index': 10673, 'display': 'πάντα', 'features': {'lemmata': [93], 'sound': [223, 184, 413], 'semantic': [113], 'semantic + lemmata': [164, 165], 'form': [301]}}, {'index': 10675, 'display': 'τὰ', 'features': {'lemmata': [3, 4], 'sound': [], 'semantic': [3, 4], 'semantic + lemmata': [4, 5, 6, 7], 'form': [63]}}, {'index': 10677, 'display': 'εἴδη', 'features': {'lemmata': [435], 'sound': [281, 1284], 'semantic': [501], 'semantic + lemmata': [696], 'form': [1878]}}, {'index': 10679, 'display': 'τὰ', 'features': {'lemmata': [3, 4], 'sound': [], 'semantic': [3, 4], 'semantic + lemmata': [4, 5, 6, 7], 'form': [63]}}, {'index': 10681, 'display': 'συμπληροῦντα', 'features': {'lemmata': [1465], 'sound': [106, 107, 108, 109, 110, 355, 596, 678, 1183, 413], 'semantic': [1626], 'semantic + lemmata': [2225], 'form': [1879]}}, {'index': 10683, 'display': 'τὸν', 'features': {'lemmata': [3, 4], 'sound': [25], 'semantic': [3, 4], 'semantic + lemmata': [4, 5, 6, 7], 'form': [12]}}, {'index': 10685, 'display': 'κόσμον', 'features': {'lemmata': [263], 'sound': [630, 631, 632, 178], 'semantic': [314], 'semantic + lemmata': [443, 444], 'form': [252]}}, {'index': 10687, 'display': 'ἐν', 'features': {'lemmata': [120], 'sound': [], 'semantic': [77], 'semantic + lemmata': [109, 111], 'form': [117]}}, {'index': 10689, 'display': 'ταῖς', 'features': {'lemmata': [3, 4], 'sound': [189, 408], 'semantic': [3, 4], 'semantic + lemmata': [4, 5, 6, 7], 'form': [151]}}, {'index': 10691, 'display': 'ἓξ', 'features': {'lemmata': [1466], 'sound': [], 'semantic': [1627], 'semantic + lemmata': [2226], 'form': [1880]}}, {'index': 10693, 'display': 'ἡμέραις', 'features': {'lemmata': [1467, 1468], 'sound': [204, 1383, 626, 429, 408], 'semantic': [1628, 1629], 'semantic + lemmata': [2227, 2228, 2229, 2230], 'form': [1881]}}, {'index': 10697, 'display': 'δημιουργὸς', 'features': {'lemmata': [255], 'sound': [621, 318, 622, 623, 491, 492, 598, 21], 'semantic': [305], 'semantic + lemmata': [431, 432], 'form': [1882]}}, {'index': 10699, 'display': 'ἐποίησεν', 'features': {'lemmata': [280], 'sound': [516, 161, 949, 950, 379, 1552], 'semantic': [333], 'semantic + lemmata': [470, 471], 'form': [1883]}}, {'index': 10702, 'display': 'τί', 'features': {'lemmata': [13, 314], 'sound': [], 'semantic': [4, 15], 'semantic + lemmata': [6, 23], 'form': [1884]}}, {'index': 10704, 'display': 'μετὰ', 'features': {'lemmata': [65], 'sound': [168, 169], 'semantic': [78], 'semantic + lemmata': [113], 'form': [64]}}, {'index': 10706, 'display': 'ταῦτα', 'features': {'lemmata': [21], 'sound': [57, 58, 1431], 'semantic': [24], 'semantic + lemmata': [4, 36], 'form': [1782]}}, {'index': 10710, 'display': 'Πατὴρ', 'features': {'lemmata': [569], 'sound': [1134, 105, 1012], 'semantic': [651, 652], 'semantic + lemmata': [903, 904, 905], 'form': [1885]}}, {'index': 10712, 'display': 'ἐργάζεται', 'features': {'lemmata': [1425], 'sound': [597, 454, 1246, 438, 1666, 169, 189], 'semantic': [1582], 'semantic + lemmata': [2164, 2165], 'form': [1886]}}, {'index': 10715, 'display': 'Λέγει', 'features': {'lemmata': [311], 'sound': [467, 200, 611], 'semantic': [365], 'semantic + lemmata': [514, 515], 'form': [387]}}, {'index': 10717, 'display': 'γὰρ', 'features': {'lemmata': [179, 180, 181], 'sound': [456], 'semantic': [215, 216, 217, 218], 'semantic + lemmata': [309, 310, 311, 312, 313, 314], 'form': [169]}}, {'index': 10721, 'display': 'Σωτὴρ', 'features': {'lemmata': [1469], 'sound': [760, 842, 1012], 'semantic': [1630], 'semantic + lemmata': [2231, 2232], 'form': [1887]}}, {'index': 10725, 'display': 'Πατήρ', 'features': {'lemmata': [569], 'sound': [1134, 105, 1012], 'semantic': [651, 652], 'semantic + lemmata': [903, 904, 905], 'form': [1885]}}, {'index': 10727, 'display': 'μου', 'features': {'lemmata': [206], 'sound': [645], 'semantic': [248], 'semantic + lemmata': [352], 'form': [1888]}}, {'index': 10729, 'display': 'ἕως', 'features': {'lemmata': [1470, 1471], 'sound': [44], 'semantic': [1631, 1632], 'semantic + lemmata': [2233, 2234, 2235], 'form': [1889]}}, {'index': 10731, 'display': 'ἄρτι', 'features': {'lemmata': [1472], 'sound': [574, 575], 'semantic': [1278, 1633], 'semantic + lemmata': [1765, 1764, 2236], 'form': [1890]}}, {'index': 10733, 'display': 'ἐργάζεται', 'features': {'lemmata': [1425], 'sound': [597, 454, 1246, 438, 1666, 169, 189], 'semantic': [1582], 'semantic + lemmata': [2164, 2165], 'form': [1886]}}, {'index': 10736, 'display': 'κἀγὼ', 'features': {'lemmata': [206], 'sound': [1955, 1036], 'semantic': [248], 'semantic + lemmata': [352], 'form': [1891]}}, {'index': 10738, 'display': 'ἐργάζομαι', 'features': {'lemmata': [1425], 'sound': [597, 454, 1246, 683, 1278, 1181, 863], 'semantic': [1582], 'semantic + lemmata': [2164, 2165], 'form': [1892]}}, {'index': 10741, 'display': 'Μή', 'features': {'lemmata': [513, 489, 514, 515], 'sound': [], 'semantic': [589, 99, 590, 562], 'semantic + lemmata': [781, 813, 814, 815, 779, 142], 'form': [566]}}, {'index': 10743, 'display': 'τι', 'features': {'lemmata': [314], 'sound': [], 'semantic': [4], 'semantic + lemmata': [6], 'form': [590]}}, {'index': 10745, 'display': 'ἆρα', 'features': {'lemmata': [1473, 1474], 'sound': [534], 'semantic': [1634, 1635], 'semantic + lemmata': [2237, 2238, 2239], 'form': [1893]}}, {'index': 10747, 'display': 'τὴν', 'features': {'lemmata': [4, 3], 'sound': [46], 'semantic': [3, 4], 'semantic + lemmata': [4, 5, 6, 7], 'form': [21]}}, {'index': 10749, 'display': 'τῶν', 'features': {'lemmata': [13, 3, 4], 'sound': [32], 'semantic': [3, 4, 15], 'semantic + lemmata': [4, 7, 5, 6, 23], 'form': [15]}}, {'index': 10751, 'display': 'ἅπαξ', 'features': {'lemmata': [1475], 'sound': [470, 1540], 'semantic': [1074, 1636], 'semantic + lemmata': [2240, 1488, 1489], 'form': [1894]}}, {'index': 10753, 'display': 'γεγονότων', 'features': {'lemmata': [75], 'sound': [199, 340, 26, 554, 555, 1320, 32], 'semantic': [90, 91], 'semantic + lemmata': [129, 130, 131], 'form': [1018]}}, {'index': 10755, 'display': 'εἰδῶν', 'features': {'lemmata': [435, 104], 'sound': [281, 282, 1956], 'semantic': [124, 501, 126], 'semantic + lemmata': [180, 181, 696, 183], 'form': [1895]}}, {'index': 10757, 'display': 'συντήρησιν', 'features': {'lemmata': [1476], 'sound': [37, 1183, 849, 1012, 1125, 940, 150, 71], 'semantic': [1637], 'semantic + lemmata': [2241], 'form': [1896]}}, {'index': 10759, 'display': 'λέγει', 'features': {'lemmata': [311], 'sound': [467, 200, 611], 'semantic': [365], 'semantic + lemmata': [514, 515], 'form': [387]}}], snippet=Εἰ πάντα τὰ εἴδη τὰ συμπληροῦντα τὸν κόσμον ἐν ταῖς ἓξ ἡμέραις ὁ δημιουργὸς ἐποίησεν, τί μετὰ ταῦτα ὁ Πατὴρ ἐργάζεται; Λέγει γὰρ ὁ Σωτὴρ ὁ Πατήρ μου ἕως ἄρτι ἐργάζεται, κἀγὼ ἐργάζομαι. Μή τι ἆρα τὴν τῶν ἅπαξ γεγονότων εἰδῶν συντήρησιν λέγει;)"
      ]
     },
     "execution_count": 7,
     "metadata": {},
     "output_type": "execute_result"
    }
   ],
   "source": [
    "connection.find('units',tags='2.2',text=thal,unit_type='line')[0]"
   ]
  },
  {
   "cell_type": "code",
   "execution_count": 4,
   "id": "58bdada3-d9f6-413a-b15a-32b473d22d43",
   "metadata": {},
   "outputs": [],
   "source": [
    "thal = connection.find('texts',title='ΠΡΟΣ ΘΑΛΑΣΣΙΟΝ')[0].id\n",
    "content = connection.find('units',tags='2.2',text=thal,unit_type='line')[0].snippet"
   ]
  },
  {
   "cell_type": "code",
   "execution_count": 5,
   "id": "f8428df9-aeba-4b49-8f49-91fd547b3e16",
   "metadata": {},
   "outputs": [
    {
     "data": {
      "text/plain": [
       "'Εἰ πάντα τὰ εἴδη τὰ συμπληροῦντα τὸν κόσμον ἐν ταῖς ἓξ ἡμέραις ὁ δημιουργὸς ἐποίησεν, τί μετὰ ταῦτα ὁ Πατὴρ ἐργάζεται; Λέγει γὰρ ὁ Σωτὴρ ὁ Πατήρ μου ἕως ἄρτι ἐργάζεται, κἀγὼ ἐργάζομαι. Μή τι ἆρα τὴν τῶν ἅπαξ γεγονότων εἰδῶν συντήρησιν λέγει;'"
      ]
     },
     "execution_count": 5,
     "metadata": {},
     "output_type": "execute_result"
    }
   ],
   "source": [
    "content"
   ]
  },
  {
   "cell_type": "code",
   "execution_count": 58,
   "id": "e726c4b6-ac69-47c3-b626-b4e75b6b3808",
   "metadata": {},
   "outputs": [],
   "source": [
    "response = client.chat.completions.create(\n",
    "  model=\"gpt-3.5-turbo\",\n",
    "  messages=[\n",
    "    {\"role\": \"system\", \"content\": \"You are a translator from Byzantine Greek to English.\"},\n",
    "    {\"role\": \"user\", \"content\": content}\n",
    "  ]\n",
    ")\n",
    "\n",
    "translation = response.choices[0].message.content"
   ]
  },
  {
   "cell_type": "code",
   "execution_count": 59,
   "id": "03f05ba2-f693-44c9-a17a-ba84827b7dec",
   "metadata": {},
   "outputs": [
    {
     "data": {
      "text/plain": [
       "\"For it was fitting for the poet of all things and by his very nature becoming, by economy, that which he was not and himself, which he was according to nature, and that which became by nature, to remain unchanging. For it is not fitting for God to observe a change, to whom no movement is conceived, regarding which there is a turning for moving things. This is the great and hidden mystery. This is the blessed end for which all things were brought into existence. This is the divine purpose that preconceived the beginning of all things, which we declare to be the preconceived end, for the sake of which all things exist, but it exists for no other reason. For the purpose of this end, God brought forth the essences of beings. This is primarily the purpose of providence and the fulfillment of those who are provided for, through which the created beings clearly recapitulate into God. This is the knowledge that describes all ages and reveals the great, God's plan that transcends and is infinitely prior to the ages, of which the Word of God, the very essence of God, Himself became an angel, becoming human, and, it is permitted to say, manifesting the deepest abyss of paternal goodness, showing the end in Himself, for which He received what was made, clearly the beginning of being. For through Christ, that is, the mystery according to Christ, all the ages and what is in those ages have received the beginning and the end. For the unity of the ages was pre-conceived, as were definiteness and indefiniteness, measure and immeasurability, limit and limitlessness, the created and creation, being and motion. In Christ, in the latter times, this has been revealed, giving fulfillment to God's foreknowledge through Himself, that everything may stand immovable in its essence, while moving according to nature, having completely transcended itself and others, and in experience receiving the actual knowledge of the unchanging and equally timeless being in which they were deemed worthy to stand, and enjoying the enjoyment of the known.\""
      ]
     },
     "execution_count": 59,
     "metadata": {},
     "output_type": "execute_result"
    }
   ],
   "source": [
    "translation"
   ]
  },
  {
   "cell_type": "markdown",
   "id": "03d5260b-3942-4fc8-9e52-1df3477a0337",
   "metadata": {},
   "source": [
    "Errors in first sentence:\n",
    "1. poet --> maker\n",
    "2. \"becoming\" --> \"the one who became\"\n",
    "3. \"and himself...\" --> \"both himself -- what he was according to nature\"\n",
    "4. \"kat oikonomia\" is missing\n",
    "5. \"to remain\" --> \"to preserve\""
   ]
  },
  {
   "cell_type": "markdown",
   "id": "60ac682a-2e34-4452-ab79-e4935c3a3acf",
   "metadata": {},
   "source": [
    "But in general it is pretty good. Probably worth using the free credits to translate as much as I can."
   ]
  },
  {
   "cell_type": "markdown",
   "id": "6dd7b3be-3f83-4eb4-a343-94de808e70c1",
   "metadata": {},
   "source": [
    "## Fine-tuned model"
   ]
  },
  {
   "cell_type": "markdown",
   "id": "8bce67f2-2489-4a4d-bc9b-2f53978249bc",
   "metadata": {},
   "source": [
    "This is only possible on a paid plan. I have created the beginning of a JSON training file in the \"data\" subfolder of the Maximus folder."
   ]
  },
  {
   "cell_type": "markdown",
   "id": "d69e67fd-679c-4e1d-b591-04bde1984897",
   "metadata": {},
   "source": [
    "## Bulk Translation"
   ]
  },
  {
   "cell_type": "code",
   "execution_count": 2,
   "id": "5bd96488-8eb4-4a94-9564-a1dc69394c10",
   "metadata": {},
   "outputs": [],
   "source": [
    "from tesserae.db.entities import Translation\n",
    "from openai import OpenAI\n",
    "import time\n",
    "\n",
    "with open('api_key.txt','r') as f:\n",
    "    api_key = f.read()\n",
    "\n",
    "def translate_chapter(title,chapter,start=0):\n",
    "    text_id = connection.find('texts',title=title)[0].id\n",
    "    result = connection.find('units',unit_type='line',text=text_id)\n",
    "    client = OpenAI(api_key=api_key)\n",
    "    n = 0\n",
    "\n",
    "    for item in result:\n",
    "        if item.tags[0].split('.')[0] == chapter:\n",
    "            if n >= start:\n",
    "                response = client.chat.completions.create(\n",
    "                    model=\"gpt-3.5-turbo\",\n",
    "                    messages=[\n",
    "                        {\"role\": \"system\", \"content\": \"You are a translator from Byzantine Greek to English.\"},\n",
    "                        {\"role\": \"user\", \"content\": item.snippet}\n",
    "                    ]\n",
    "                )\n",
    "                \n",
    "                trans = response.choices[0].message.content\n",
    "                trans_entry = Translation(text=item.text,tags=item.tags,index=item.index,unit_type=item.unit_type,snippet=trans)\n",
    "                res = connection.insert(trans_entry)\n",
    "                time.sleep(15) #Time delay to avoid exceeding rate limit\n",
    "            n += 1\n",
    "            print(n)\n",
    "            \n",
    "\n",
    "    return str(n)+' translations inserted.'"
   ]
  },
  {
   "cell_type": "markdown",
   "id": "635fa361-a38e-4318-b761-2440868bd4fd",
   "metadata": {},
   "source": [
    "Execute the function:"
   ]
  },
  {
   "cell_type": "code",
   "execution_count": 45,
   "id": "956140a3-2ec8-45b5-8d0e-f9d8af3f88f9",
   "metadata": {},
   "outputs": [
    {
     "name": "stdout",
     "output_type": "stream",
     "text": [
      "1\n",
      "2\n",
      "3\n",
      "4\n",
      "5\n",
      "6\n",
      "7\n",
      "8\n",
      "9\n"
     ]
    },
    {
     "data": {
      "text/plain": [
       "'9 translations inserted.'"
      ]
     },
     "execution_count": 45,
     "metadata": {},
     "output_type": "execute_result"
    }
   ],
   "source": [
    "translate_chapter('ΠΡΟΣ ΘΑΛΑΣΣΙΟΝ','36')"
   ]
  },
  {
   "cell_type": "markdown",
   "id": "61bc18c9-0c08-400b-af92-2221404ce905",
   "metadata": {},
   "source": [
    "Print the translation of the whole chapter:"
   ]
  },
  {
   "cell_type": "code",
   "execution_count": 3,
   "id": "0f1a475d-af48-4483-a69d-33c118a9cff0",
   "metadata": {},
   "outputs": [],
   "source": [
    "def print_translation(title,chapter):\n",
    "    text_id = connection.find('texts',title=title)[0].id\n",
    "    result = connection.find('translations',unit_type='line',text=text_id)\n",
    "    trans = {}\n",
    "\n",
    "    for item in result:\n",
    "        if item.tags[0].split('.')[0] == chapter:\n",
    "            trans.update({int(item.tags[0].split('.')[-1]):item.snippet})\n",
    "\n",
    "    trans_list = [trans[k] for k in range(1,len(trans.keys())+1)]\n",
    "\n",
    "    return \"\\n\\n\".join(trans_list)"
   ]
  },
  {
   "cell_type": "code",
   "execution_count": 7,
   "id": "15b18182-5543-4dc0-b2cb-0a0668450e3d",
   "metadata": {},
   "outputs": [],
   "source": [
    "with open('output.txt','w') as f:\n",
    "    f.write(trans)"
   ]
  },
  {
   "cell_type": "code",
   "execution_count": 4,
   "id": "82b56503-7fe7-4deb-99fb-e6831dbc1a88",
   "metadata": {
    "scrolled": true
   },
   "outputs": [
    {
     "name": "stdout",
     "output_type": "stream",
     "text": [
      "Question 65\n",
      "\n",
      "In the second book of Kings it is written: \"And there was a famine in the days of David for three years, year after year. And David sought the face of the Lord. And the Lord said, 'On Saul and on his house is guilt for the blood of the Gibeonites, with whom Saul made a covenant and killed them.' So David called the Gibeonites and said to them, 'What shall I do for you? And how shall I make atonement that you may bless the inheritance of the Lord?' The Gibeonites said to him, 'It is not a matter of silver or gold between us and Saul or his house; neither is it for us to put any man to death in Israel.' And David said to them, 'What shall I do for you?' And they replied to the king, 'The man who consumed us and planned to destroy us, so that we should have no place in all the territory of Israel, let seven of his sons be given to us, that we may hang them before the Lord in Gibeah of Saul.' So the king took the two sons of Rizpah the daughter of Aiah, whom she bore to Saul, Armoni and Mephibosheth; and the five sons of Michal the daughter of Saul, whom she bore to Adriel the son of Barzillai the Meholathite; and he gave them into the hands of the Gibeonites, and they hanged them on the mountain before the Lord. And they all died together in the first days of harvest, in the beginning of barley harvest. Then Rizpah the daughter of Aiah took sackcloth and spread it for herself on the rock, from the beginning of harvest until the rain poured on them from the heavens. And she did not allow the birds of the air to rest on them by day or the wild beasts of the field by night. And David performed all that the king commanded. And God responded to the land after these things.\" \n",
      "\n",
      "After the death of Saul, why did David seek justice, when the land was gripped by famine, until he gave seven men from the descendants of Saul to be put to death by the Gibeonites? What is the power of these words and how can we spiritually understand them?\n",
      "\n",
      "Response.\n",
      "\n",
      "Accurate knowledge of the divine words of the Spirit is naturally revealed only to those who are worthy of the Spirit. These individuals, through great care in cultivating virtues and purifying their minds from the pollution of passions, receive the knowledge of the divine as if reflected in a clear and pure mirror. They receive this knowledge even with the slightest contact, as if imprinting upon them and instantly grasping the understanding of the divine. As for those of us burdened by the disturbances of passions, it is only with great difficulty that we can provide evidence for divine knowledge, even if we manage to form some plausible speculations. It is not that we are lacking in the ability to comprehend and express it accurately, but rather our suffering prevents us from doing so. And I know well that in your own suffering, dear father, you have a greater understanding of divine matters, having attained knowledge through experience that I, voicing my thoughts, possess. You are capable of saying nothing about divine matters based on your suffering. Nevertheless, even the capacity is not rejected, and indeed, you, who have commanded it, have applied this burden to me concerning the difficulty of speaking beyond one's capabilities.\n",
      "\n",
      "So Saul, according to this passage in Scripture, is the one who, by the power of the commandment in the fleshly law of the fleshly Jews, reigns in the place appointed for him. In other words, he who reigns over those who are subject to the law alone, through the physical way of the law or reasoning. For the term \"requested,\" according to a single interpretation, is translated as Saul. For the people of the Jews, having preferred a pleasurable life, rejected the knowledge of God and instead requested Hades, that is, ignorance, to reign. For anyone who has fallen away from divine love holds the law in the flesh, with the rule of pleasure, and is unable or unwilling to keep any divine commandment.\n",
      "\n",
      "In a different way, Saul is interpreted as \"indebted\" or \"loan.\" For the written law was not given to those who received it to acquire property, but rather as a pedagogue of the promised inheritance. Therefore, when God gave the kingdom to Saul in the eternal covenant, he did not withhold the kingdom. For every loan does not result in the recipient obtaining property, but rather a pretext for gathering other possessions through toil and effort. And the concubine of Saul, Rhespha, is interpreted as \"path\" or \"mouth.\" Path, indeed, is the sole oral pronunciation of the law, which is unlawfully implanted by him who practices solely the physical worship of the law, from which no piety and love of God is generated. For one who exercises the lawful practice of the oral pronunciations of the law does not possess the relationship with the logos, namely, the comprehension of the law, which is the way of life. Hence, that which is generated from him is ignoble and rejected. For through his unlawful bed with Rhespha, Hermonti and Memphibosthe are born, which means they are their condemnation and the shame of their mouth. Hermonti, according to one interpretation, means \"their condemnation\" and Memphibosthe means \"the shame of their mouth.\" And their condemnation is the corrupting effect of the actions of the passions through the body, while Memphibosthe is the movement of the mind toward evil, namely, the thought process of the mind in devising evil, the shame of the mouth, that is, of the mind, both in existence and in speech.\n",
      "\n",
      "\"Once again, this present world, which is the place of the reigning curse of nature, is anathema to them. It has become a place of death and corruption due to sin, into which the first man fell after transgressing the divine commandment in Paradise. This world, in its worldly pursuits, generates a cosmos in accordance with the pleasurable relationship of thought, namely the worldly endeavor, which stems solely from the superficial acquisition of knowledge of the law, without entering into the inner spirit of the divine letter, which possesses divine splendor. However, their disgrace lies in the worldly inclination of their minds and their love for the physical. For the world itself, having been naturally engendered according to the visible bodily formation portrayed in the letter of the law, represents the disposition that loves the world, and the worldly inclination of their minds and their love for the physical are reasonably co-generated.\"\n",
      "\n",
      "Again, cursed is the natural and ugly nature of passions and the irrational movement, for it brings forth the shame of the senses and molds the beauty of the intellect into sensual pleasure. Without the imaginative power of the mind to form shapes, passion cannot arise in any way. Therefore, the power to shape through the written word of the divine promise describes a male partner, not a lawful female partner. Hence, such a learning, not by itself but because it is physically received, that is, being united, gives birth to the curse and shame. For the one who, believing that the sacrifices and festivals, both the Sabbaths and the new moons, are commanded by God, everywhere and always falls into the bondage of the activity of passions and the shame of vile thoughts concerning them, and thus corrupts the world and indulges in the study of lustful thoughts, under the material of passions and the form, being able to possess nothing precious other than the corruptible. And for this reason, perhaps, he wickedly begets Merob, who gave birth to five sons to Esdrail. Merob is translated as \"throat's fullness,\" which is gluttony. For only she, taking the permission contrary to the Jewish law, gives birth to Esdrail from the senses, that is, the theoretical part of the soul. Esdrail is translated as \"divine power or strong protector or capable sight,\" which is the intellect that becomes like God in image.\n",
      "\n",
      "But by giving in to gluttony, as a result of obeying the law of the flesh, that is to say, the letter, by cohabiting. For the mind, persuaded that it is a divine commandment, according to the law in the letter, the luxurious living of the flesh, seeks no other relationship except for it alone, considering it to be a divine offspring and a law of the reigning king. And it sets into motion unreasonable ways of perception from it, contrary to reason. For when the contemplative part of the soul embraces, as divine, the luxurious living according to the law in the letter, because of the commandment, it engages in the use of the senses beyond nature, not allowing the use of activity to appear in any way according to nature.\n",
      "\n",
      "Therefore, by practicing the physical aspects of the law, I, who have a concubine but not a lawful wife, have acquired knowledge of divine things through her and have conceived from her the curse of passions and the shame of unclean thoughts concerning them, and from Merob, that is, his daughter Gastrimargia, I have begotten offspring who have the uncontrolled habits of the senses, the natural inclinations, that is, the Gabaonites, whom I have become accustomed to slay with words and reasonings. For Gabaonites are interpreted as 'mountainous or elevated,' clearly indicating that they use higher reasonings according to natural philosophy than the reasonings that pertain to us by nature, which Saul kills, and if another Saul now exists in disposition, he does not dismiss and reject the reasonings by reason of the deception caused solely by the letter of the law. For no one, indulging only in the bodily worship of the law, can ever accept a word or a reasoning beyond what is natural, because the symbols are not by nature the same.\n",
      "\n",
      "But if the symbols are not the same in nature, by nature one can never clearly perceive the genesis of things by adhering solely to the symbols of the law as prototypes, and thus irrationally dismisses the arguments according to nature, not considering that it is necessary to cherish those who were saved by Jesus, for whom he also waged a fearsome war against the rebellious ones with the five kings, in which the heavens themselves fought alongside Jesus against the Gibeonites with hailstones. He appointed them as bearers of wood and carriers of water for the divine tent, that is, for the holy Church prefigured through the tent, the incarnate Word. For this one, this is Jesus who kills those who rise up against him with their sensual hostile attitudes and reasonings. For the Word of God, Jesus, always cherishes the arguments according to natural theory, setting them as bearers of wood and carriers of water for the divine mysteries, such as those for the igniting of divine knowledge and the purging of passions, or for the transmission of vital power in the Spirit. For the power of the mysteries is naturally not preserved in any way or by anyone without the theory of nature.\n",
      "\n",
      "But even if the Gabaonites declare their ethnic destiny, which is united with the inheritance of the divine promises given to Jesus, teaching them to bear and carry the wood and water, that is, the practical and salvific word concerning the Cross and the divine regeneration through water, and to support the divine ark of pious faith, the punishment of the trees, through the death of practical pursuits on earth and the influx of knowledge in the Spirit, like water, it is neither illogical nor foreign to piety.\n",
      "\n",
      "Whether it is in accordance with the natural theory of reason or the portion preserved by faith that the Gabaonites exemplify, those who choose to live according to the Jewish law, which is confined solely to the written code, have an enemy that is hostile to what is preserved. For God, considering the belly as shameful and beautifying only for the sake of glory, knows alone that divine things must be upheld through the diligence of the passions of dishonor. For this reason, He only surrounds mortal things, that is, matter and form, and their fivefold operation through the senses. Some He regards as the children of the concubine Respha, others as the offspring of the dishonorable daughter Merob. When mixed with matter and form, sensation results in both experiencing a passion and causing the natural reason to be completed and fulfilled. For it is not natural for the reason that pertains to nature to be united with passion, just as it is not natural for passion to be united with generation in the process of birth.\n",
      "\n",
      "Therefore, the one who opposes the sole authority of the Scriptures, as Saul did, and rejects the call that is secretly proclaimed to the Gentiles, does not receive the enjoyment of the flesh through the law alone, as he thinks. When this dominance of the physical disposition according to the law, which is perceived solely by the senses of living beings, takes hold, the hunger for divine knowledge is not manifested in the Spirit. For hunger is truly the deprivation of known goods in and of itself, and a complete lack and scarcity of spiritual nourishment that sustains the soul. For how can anyone consider hunger or the loss of those things that are in no way known to him? Therefore, as long as Saul is alive, there is no hunger because it has not been naturalized, as long as the mind of the Jews, ruling through the law, and the thoughts of material things govern and fail to recognize the poverty of spiritual knowledge. But when the light of the Gospel grace shines forth and the mindset of David, who is praised by all, that is, the law according to the Spirit, takes hold after the death of Saul, in other words, after the end of the letter, it is considered \"consumption\" and \"strong visionary.\" The former is called by the Jews when the spirit of the letter is prevalent, and the latter is called by Christians when the letter is conquered by the spirit. At that time, hunger is recognized as the lack of knowledge in the Spirit, commonly in the faithful people and individually in the soul of each person, when it chooses not to prioritize the external manifestation of the mystery through the letter of the Scripture, thus making the soul more honorable than the body, so to speak. For indeed, it truly starves the faithful and those who have come to know the truth when the people and the soul of each individual separate from the spiritual contemplation in grace, becoming enslaved by the typological worship in the letter. It does not nourish the mind with the grandeur of spiritual thoughts, but instead fills the senses with passionate imagination through the physical representation of the scriptural symbols. Therefore, the hunger of divine knowledge lasts for three years, one year within another year. For everyone who does not engage in the spiritual contemplation of the Holy Scripture, rejects both the natural law according to the Jews and the law in grace, through which theosis is given to those who follow it.\n",
      "\n",
      "Therefore, the famine of three years indicates the deficiency in knowledge that arises among those who neglect the laws, both the natural law and the written law and the law of grace, proportionate to the lack of understanding they have in their theory of synthesis. For one who rejects the philosophical discourse concerning the nature of things and restricts themselves only to material symbols, without contemplating any spiritual interpretation, cannot fully understand the intellectual knowledge contained in the Scriptures. Thus, the power of the historical narratives alone did not produce a dominion over temporal and chronological thoughts, but rather the descendants of the deceased Saul, who numbered seven, that is, the bodily worship of the law, still thrive, giving rise to the inherent disposition towards carnal desires among those who are attached to the given cause, with the obvious indication of error demonstrated by these symbols. Therefore, I believe that the cause of the famine did not occur during the days of Saul, that is, during the time of carnal worship according to the law, because the deficiency in the spiritual knowledge was not recognized, but rather during the time of the gospel grace, in which, if we do not spiritually comprehend the entire Scripture after the passing of the dominion of the letter, we are indeed experiencing famine, as we are deprived of the mystical worship that is fitting for Christians according to the Spirit. However, when we receive understanding and seek the face of the Lord, following the example of David, it becomes clear to us that due to the rejection of the natural words as a means to ascend to the mystical contemplation in the Spirit, but still holding on to the bodily reasoning found in the letter of the law, the grace has been taken away from knowledge.\n",
      "\n",
      "\"And he inquired,\" it says, \"of the Lord's face\"; and the Lord said: \"For the injustice of Saul and his household, because of which he killed the Gibeonites.\" David is every mind made clear through Christ, always seeking the face of the Lord. The face of the Lord, however, is established as the true vision and knowledge of divine virtue. By seeking it, one is taught the cause of the need and lack within oneself and is commanded to give to death the two sons of Saul born to Rizpah the concubine, along with the five sons of his daughter Merob. Saul is, as I said, the \"revocable Hades,\" that is, \"ignorance longed for.\" Clearly, the ignorance that is longed for is the legal letter, namely, the bodily domain of worship in the law, which is the bodily expression of the law or the mind alone, supported bodily by the matter of the letter. Rizpah, according to its interpretation, is the \"path of the mouth,\" which is the sole learning of the law through spoken words. The path truly belongs to the mouth, not the mind, as it is foreign to the spiritual vision of the law.\n",
      "\n",
      "The sons of Respha are Hermonti and Memphisoth. Hermonti is \"their curse,\" which is the corruption of the passions' activity through the destruction of the body, or the place, namely the world, in which punishment was given for transgression, that is, the disposition inclined towards pleasure in relation to the world, or perhaps the combined and unrefined movement of the passions, and Memphisoth is \"the shame of their mouth,\" which is the unnatural movement of the mind towards evil, that is, the imaginative remembrance of the passions, or perhaps the worldly study of thoughts and worldly matters, or again, the motion of the mind, bringing forth beauty inclined towards pleasure in sensibility. For it is natural for these sons to be born from the only vocal proficiency in learning, both from the written law and the mind that adheres solely to the letter of the law. Merob, according to its interpretation, is the daughter of Saul, \"the fullness of the throat,\" which signifies the passion of gluttony. She alone knows how to produce the indulgence of the body and the delight of material things, as the law describes those who worship him according to the letter of the symbols, and the mind, defining those who live a life in the flesh according to the letter of the law in the types. However, five sons of Merob, the daughter of Saul, have established themselves, the five hostile ways of the five senses, which Edreel was accustomed to give birth to, that is, the contemplative part of the soul, the only disposition in charge of the body according to the law, through indulgence.\n",
      "\n",
      "These two sons of Saul, namely substance and form, and the five sons of Saul, namely the five modes of the five senses according to accidental disposition, that is, those relating to time and motion, after the death of Saul, that is, after the passing of the bodily worship according to the letter of the law and the transition from ignorance, David the wondrous delivers them to be put to death according to the divine decree to the Gibeonites, that is, to those who excel in natural philosophy through lofty words and reasoning, in other words, to annihilate and put to death the most universal connection of the senses with perception and the body through the height of the mountain called Saul, I mean, the law of spiritual philosophy. For if someone does not naturally, after having contemplated the perception of the divine and intellectual through symbols, desire to come to understanding, completely setting aside sensory perception and directing it towards the beauty of the intellectual, he cannot be completely liberated from bodily diversity. Due to this, until one has overcome the letter, he is rightly not comforted by the perplexity of knowledge, but instead condemns himself to eat the earth of the Scripture, that is, the body, following the deceitful serpent, but not according to Christ, the heaven of the Scripture, that is, the spirit and the soul, namely the heavenly and angelic bread, I mean, the spiritual vision and knowledge in Christ, feasting on which God abundantly supplies those who love Him, as it is written, \"He gave them the bread of heaven; man ate the bread of angels.\"\n",
      "\n",
      "Therefore, it is necessary to understand the sensory perception as the reception of the Scriptural reality, which clearly indicates both the passion of the generative disposition towards temporal and changing things, that is, towards the sensory impressions of the senses, as well as the children and descendants of Saul, who, through their natural ascent to divine wisdom, concealed the contemplation of the divine things, if indeed we have been inspired by divine grace. For if injustice was upon Saul, according to the divine decree, and upon his household, for which he annihilated the Gibeonites, it is evident that whoever relies solely on the literal interpretation of the law and whoever mimics the Jewish people, understanding it in their own way - for this the word recognizes Saul's household to be - he unjustly opposes the truth, since he describes only the power of the law through the letter and does not accept the physical understanding of knowledge hidden mystically within the letter, encompassing both types and truth, leading some away from what should be followed, and opposing that which leads back, as if denying altogether both it and the initiation into divine mysteries.\n",
      "\n",
      "Therefore, it is necessary to kill this bodily aspect of the law and its temporary enactment, which flows and changes over time, through natural contemplation, as on a mountain, to the height of knowledge, the overseers of divine visions. For it says, \"So David called to the Gibeonites and said to them, 'What shall I do for you, and with what shall I make atonement, that you may bless the inheritance of the Lord?' And they said to the king, 'The man who consumed us and planned to destroy us, so that we should have no place in all the territory of Israel, let seven of his sons be given to us, and we will hang them before the Lord on the mountain of Saul.' And the king took the two sons of Rizpah, daughter of Aiah, whom she bore to Saul, Armoni and Mephibosheth, and the five sons of Merab, daughter of Saul, whom she bore to Adriel the son of Barzillai the Meholathite, and he gave them into the hands of the Gibeonites, and they hanged them on the mountain before the Lord. Seven of them perished together; they were put to death in the first days of the harvest, at the beginning of barley harvest.\"\n",
      "\n",
      "Where in history do we find that the Gibeonites made Saul disappear so that he would not be present in all the borders of Israel, the son of Jonathan, son of Saul, Maribaal, having been saved by King David, and many others from the family of Saul, as is recorded in the book of Chronicles? But it seems that the illogical has been mixed with the narrative, so that we may seek the true meaning of the written words. Therefore, the physical mind of Scripture, that is, Saul, is completely eliminated from every border of Israel by the action of natural theory, as certain Gibeonites kill the offspring born from the written law, towards the fickle matter and the flowing soul's delightful and sensual relationship, putting to death, as children of Saul and his descendants, the shameful understanding of the law through the middle of natural theory, as on a mountain, heightening knowledge, and making it manifest before the Lord, through confession, the prior reception towards the body of the law.\n",
      "\n",
      "For this can be understood as \"being enlightened\" by those who are eager for learning in the presence of the Lord. And it says they were enlightened, he says, on the mountain in the presence of the Lord, leading them into light through knowledge, namely the comprehension that surpasses the letter of the law. For anyone who kills the bodily understanding of the law clearly kills and destroys the letter of the law, \"so that it may not stand in any district of Israel,\" that is, in any mystical way and in any spiritual inquiry. For if Israel is interpreted as \"the mind seeing God,\" it is evident that the bodily aspect of the law has not been elevated in any form of spiritual contemplation by those who prefer the spirit over the letter. [For] if \"the Spirit is God,\" as it is written, \"and those who worship Him must worship in Spirit and in Truth,\" but not according to the letter, \"for the letter kills, but the Spirit gives life.\" Therefore, one must kill the naturally murderous tendencies by being killed by the life-giving Spirit. For the bodily aspect of the law and the divine aspect, namely the letter and the spirit, coexist in action together, it is entirely impossible for them to harmonize, since it is not even natural for that which gives life to deprive it.\n",
      "\n",
      "Therefore, according to history, taking this place into consideration, we do not find the Scripture to be true. For where did the Gibeonites disappear Saul from all the borders of Israel, after he was found to have a great relationship with Saul? However, according to speculation, we clearly find that through the midst of natural speculation, at the height of knowledge, the written law completely gives way, or rather, the physical law in the symbols according to the established worship. For where is the circumcision of the flesh still valid, when the law is understood spiritually? Where are the Sabbaths and the beginnings of the months? Where are the celebrations of the feasts? Where is the tradition of sacrifices and the tithing of the land and the rest of the law according to the physical worship? For we know, by naturally analyzing things, that the perfection of nature given by God is not diminished - for nature does not make perfection through craftsmanship by removing what is necessary for it by divine reason - so that we do not introduce the divine craftsmanship as a stronger affirmation of righteousness and make up for the deficiency in the nature that has been thought out, the deficiency of righteousness according to creation, but we are taught to make circumcision of the soul symbolically from the position of the circumcised part, in order to correct the law of enmity of acquired birth, according to which the opinion is regulated in accordance with nature, while correcting the law of enmity of acquired birth.\n",
      "\n",
      "For circumcision is a mysterious operation, which completely removes the corruptible birth of the mind regarding the created bond. And the Sabbath is the complete cessation of passions and absolute cessation of the movement of the mind towards created things, and a perfect transition to the divine. In this state, one who arrives through virtue and knowledge should not contemplate any material for passions like wood, nor should they go beyond the teachings of nature, so that we may not define God, who is pleased with passions or measured by the boundaries of nature, as the Greeks do. Rather, complete silence has proclaimed the only perfect and superior ignorance. But we say that the new moons are various enlightenments of days in the path of virtue and knowledge. By eagerly participating in them, we fulfill the acceptable year of the Lord, adorned with the crown of goodness. The crown of goodness is pure faith, adorned in the spiritual words and teachings of precious stones, and binding the God-loving mind like a head. Or rather, the crown of goodness is the Word of God himself, who, in various ways through providence and judgment, that is, through the control of voluntary actions and the endurance of involuntary passions, describes the mind as the head and makes himself more beautiful through participation in the grace of theosis.\n",
      "\n",
      "The first of the holidays is a symbol of practical philosophy, leading to virtue, as it was transmitted from Egypt, delivering those who are ruled by sin. The second is a representation of natural theory in spirit, having a pious opinion about beings, as the first fruits of summer, offered to God. The third is the mystery of theology, containing the knowledge of all spiritual words that have occurred, and the complete and immortal sinlessness through the grace of the incarnated Word and the perfect and immortal immutability associated with them, as a poetic representation of trumpets, atonement, and tabernacles.\n",
      "\n",
      "I have this thought for now, in applying the concept of the days to the concept of honor. For God, desiring not to be honored by people, commanded the Sabbath and the new moons and the feasts to be honored—thus teaching those who think that the days are naturally holy and therefore worshipers—, but symbolically honored Himself through the days. For He Himself is the Sabbath, as the rest from the toils of the soul in the flesh and the rest from the labors of righteousness. And He is the Passover, as the liberator of those who are held in bitter slavery to sin. And He is Pentecost, as the beginning and end of all things and the Word, in whom all things exist by nature. For if Pentecost is the fiftieth day after the weekly period of the week itself, and clearly the fiftieth day is a pentad, then the nature of things is evidently a pentad, according to its own reason existing as a pentad by the senses. And after the natural passage of time and ages, there will be in God the unity according to nature, not accepting an end in which there is absolutely no separation.\n",
      "\n",
      "For some say that the Logos is a decade, as providence progresses through the progression of the commandments, expanding. But when nature is joined to the Logos by grace, there will be nothing \"without which it cannot be,\" since the movement of things moved by nature will cease, having undergoes transformational motion. For the finite state, in which motion necessarily occurs through the transformation of the things moved, must receive its end in the presence of the infinite state, in which the motion of the things moved naturally ceases. For in that state which has an end by nature, the motion of the things established in it is always transformed. But in a state without a natural end, no transformation of the things in it will be perceived. Therefore, the world is a finite place and has a circumscribed state, while time has become motion circumscribed. Hence, the motion in life has become transformative of the things in it.\n",
      "\n",
      "When nature traverses both time and place in its activity and thought, that is, that which cannot exist without its finite state and movement, it immediately connects with foresight. It discovers that foresight is by nature simple, stable, and without any description everywhere, and therefore completely devoid of movement. Therefore, the nature existing in the world, as it experiences the movement due to the finite state of the world and the variation of time, in God's case, through the natural unity in which it has come into being, will possess an eternal motionless stability and self-motion, always as one and only, which the reason knows to be directly connected to the first cause of the permanent establishment of what has been made by it.\n",
      "\n",
      "Therefore, the mystery of Pentecost is the immediate union of those who are being foreknown with Providence, or rather, the union of nature with the Logos according to the intention of Providence, through which there is no further emphasis on time and birth. However, the Word is again our trumpet, as it resounds in us with divine and unspeakable knowledge, and it is also a propitiation, as it becomes our own and dissolves our crimes, deifying our fallen nature by the gift of grace in the Spirit. It is also a tabernacle, as it is a binding bond for our imitation of God and the fixation of our inclination towards beauty, and the transformative process towards immortality.\n",
      "\n",
      "God does not desire the slaying of irrational animals and the sprinkling of blood, nor does He require the forgiveness of sins as a reward for sacrifices, which are imposed by the Scripture as a natural obligation. We do not believe this in order to avoid attributing animosity to God and, out of respect, to falsely accuse those who zealously pursue these practices. For whenever we see people passionately driven by such things, we regard them as intemperate and lacking self-control. Because we understand that spiritual sacrifices are not only the killing of passions, which is portrayed as the sword of the Spirit, the Word of God, and the shedding of blood, representing the deliberate pouring out of all life in the flesh, but also the offering of all ethical and natural powers according to philosophy, dedicated to God and consumed by the fire of grace in the Spirit, leading to divine perfection.\n",
      "\n",
      "Thus, observing each of the symbols carried by the Scriptures, as if on a mountaintop, with the height of mystical contemplation, we, like the seven sons of Saul, kill the chronological and temporary tradition of the law, and we destroy Saul, that is, the earthly mind that is found only in the literal understanding of the Scripture, \"so that he may not reign in any territory of Israel,\" that is, in the manner of spiritual contemplation. For this person truly fulfills, pursues, and destroys in truth, describing the law only in the flesh, honoring the natural reasoning and thoughts as divine, which the natural reasonings receive permission from the law of the Spirit. They kill and die at the same time, at the beginning of the harvesting of the grains. The beginning of the harvesting of the grains is the collection of virtues according to the practical philosophy with a certain proportion of reasoning, in which the earthly nature of the Scriptures by its very nature tends to be killed, and every earthly motion is completely eradicated. For when one logically proceeds to the philosophy of virtues, at the same time he also naturally receives the reception of the Scriptures towards the Spirit, worshiping God practically through lofty contemplations by the newness of the spirit, and not as an ancient letter by the acceptance of the law, which is more humble towards the body and the senses, being a feeder of passions according to the Jews and a healer of sin.\n",
      "\n",
      "For it is necessary to handle the passionate and bodily understanding of the law through natural reasoning, as the word of Scripture declares, saying: \"And the king took the two sons of Rhespha, daughter of Ea, concubine of Saul, Hermonti and Memphibosthe, and the five sons of Merob, daughter of Saul, whom she bore to Adriel, and he gave them into the hand of the Gibeonites.\" The hand of the Gibeonites is the virtuous action of natural reasoning, through which the sons of Rhespha, Hermonti and Memphibosthe, that is, the bodily teaching of the law generated from the sole pronunciation of the word, are put to death through the activity of passions and the unseemly movement of reasoning. And also the five sons of Merob, that is, those born out of luxury according to the unnatural use of activity, are the five immoral ways of the five senses. It is natural for them to be put to death together, as on a mountain, through the height of spiritual contemplation, in the beginning of the harvest of thorns, which is in the prelude of virtuous action or the naturally pious contemplation. Every intellect, when elevated and suspended towards God, possesses the same activity of suppressing passions and the unseemly movement of reasoning, and also the improper ways of the senses in an unauthorized manner.\n",
      "\n",
      "\"And it happened,\" he says, \"that the seven fell together, and they died at the beginning of the barley harvest. And Rispah, the daughter of Ea, took a sackcloth and spread it out for herself on a rock, from the beginning of the barley harvest until water dropped on them from the sky.\" Rispah, as I said, is translated as 'path of the mouth,' which is the bodily pronunciation of the law's teaching alone. After the death of the passions born from her and the manifestation made in the height of spiritual contemplation in the heart prepared for it, they spread out repentance like a sackcloth on the rock, I mean the word of faith in Christ, which is carried out by the Spirit through repentance according to Christ's ordinances. They have it in front of their eyes day and night through remembrance, as children, the prior physical conduct of the law, until the water of God from heaven drops on them, that is, until the divine knowledge of the Scriptures is sent down from the heights of spiritual contemplation, the knowledge that extinguishes the passions and renews the virtues. For the knowledge of the law, by adhering to Christ, naturally reaches the true and firm rock through repentance, receiving the divine rain of spiritual knowledge of the Scriptures, according to the command of King David, that is, the 'strong in vision' mind. For it is said, \"And he did all that the king commanded. And God listened to the earth afterward.\"\n",
      "\n",
      "But let us also annihilate Saul according to the great David, from every region of Israel, namely the earthly and physical institution of the Law, that is, the Jewish mode of worship, or the more corporeal understanding of the entire Scriptures solely in the literal sense, and let us pursue the spiritual glorification of the intelligible things, and let us acquire the Gabaoth, that is, the natural essences, which the true heir of the divine promises, Jesus, preserved untouched. Through them, when Saul was removed, God bestowed the rain of mystical knowledge, and let us slay these Gabaoth, namely the natural philosophy, as if they were the seven sons of Saul, the passionate and temporal anticipation of the Law, from which Respha, meaning \"a mouth's way,\" gave birth to Memphibosthe and Hermothi, the former being interpreted as \"shame of the mouth,\" and the latter as \"their curse,\" that is, the disposition of passions and their operations. And let us acquire the five sons of Ezra, the intellectual part of the soul, namely the five improper affections of our senses. By removing them through the study of natural philosophy, we appease the angered God, and being transferred to the spiritual realm from the letter, we call ourselves the downpours of divine knowledge, and we enjoy the bountiful fruits of righteousness from it. For, as if they were Saul or the natural anticipation born from the letter, we, as children of Saul and offspring, having led them through the middle of natural philosophy to the height of spiritual mystagogy, let us slay every bodily aspect of the Law and transient understanding. Rather, let us say, let us slay the earthly aspect; if we also have hated Saul with God and rendered him unworthy of reigning over Israel, namely in his visible way in the Scriptures, that is, Judaism, then we have rejected ruling according to the slavery of the fleshly bondage of our intellectual power.\n",
      "\n",
      "For Saul, that is, the physical institution of the law, must be hated and rejected from the kingdom, like King Agag of the Amalekites, and the choicest of the flocks and herds, and the vineyards and olive trees, which I mean are the incitements of anger and desire and the causes of poetical indulgence, all of which he keeps alive, transferring Agag himself to the ground of the promise, that is, the calf, I mean, the carnal mindset of the flesh to the place of divine knowledge, that is, the heart. For ‘calf’ is what Agag is interpreted as; that calf which the foolish and unwise Israel worshipped in the desert and preferred the delight of divine worship to the healing of the divine desires within the belly. This calf is destroyed by both Moses and Samuel, the former reproaching and scattering it beneath the water, and the latter slaughtering it with a spiritual sword, that is, the living and active grace of holy baptism—which is what Moses represents—and the obedience to God's commandments—which is what Samuel represents. For ‘water’ is interpreted as ‘scattering’ and ‘obedience to God’ as Samuel, which is true faith and the godly life.\n",
      "\n",
      "Therefore, the power of sin, or rather, the mentality of the flesh, naturally tends to destroy the grace of holy baptism, and the obedience to the divine commandments, which is carried out in action, tends to kill with the sword of the Spirit, that is, with the word of divine knowledge, secretly crying out against the passion of sin, as the Great One said to Agag, son of Samuel, \"As your sword has made women childless, so shall your mother be childless among women today.\" For the passion of gluttony, like a sword, has brought forth many virtues through the smooth calculation of pleasure; for it kills the seeds of self-control through intemperance, it corrupts equality through greed, and it continually cuts off the natural continuity of philanthropy through selfishness. In short, it can be said that the passion of gluttony is destructive of all virtues. But, as I said, only the grace of baptism and the guidance in obedience to the commandments of God can eliminate this passion.\n",
      "\n",
      "Therefore, the merciful law of this passion, anointed by God as king of Israel, is remorseful and transfers the power of the kingdom and gives it to David, the Gospel and spiritual law, namely his son Jesse. For Jesse is interpreted as the \"creation of God.\" Therefore, the holy Gospel is the product of this creation, that is, the work of God through his incarnation, which has the eternal kingdom and in which we have eternal joy and happiness, like a day that never ends. For it says, \"This is the day that the Lord has made; let us rejoice and be glad in it,\" referring to the gospel grace or the mystery itself of the grace that made this day. In this day of eternal light is Christ, in whom all who have believed in him should live rightly according to the divine Apostle, \"as in a day of knowledge and truth.\" For Christ is the true light of the Gentiles, revealing to them, through true knowledge, those who have closed the eyes of their minds in the darkness of ignorance, and preparing himself, through divine guidance, to guide the faithful people into the fullness of virtue. He became a guide and example of virtue to them, and through him, looking as the leader of our salvation, we are able to achieve virtue through imitation, as is possible for us, through action.\n",
      "\n",
      "But also \"glory of the people of Israel\" is itself the God and Word, as the divine light of knowledge, illuminating the mind through mystical contemplation. Or perhaps the Word refers to the natural principles, while the personification of these principles is the true incorruptible glory concerning the existing things, of which the Word himself as the creator of nature has clearly prepared for knowledge. Nations, on the other hand, are passions contrary to nature, which he reveals in their hiddenness, granting the light of knowledge and entirely repelling nature. However, the Word becomes the glory of Israel, purifying the mind from passions contrary to nature and adorning it with the principles according to nature, and also attaching to the diadem the seal of unwavering godlikeness. For the true glory of Israel exists both in the freedom from passions contrary to nature and the rectification of the principles according to nature, and in the acquisition of goods surpassing nature. Welcoming this intelligible David, even if he is envied by Saul, he is not harmed; on the contrary, out of great philanthropy and impassibility, and being hated, he heals the enemy suffocated by evil spirit with the lyre of the spirit, and he makes him self-controlled, dissolving him, as if snatched away by an evil demon, from the seizure of the evil vulgar mentality. For everyone who hates due to envy and speaks ill of those who possess virtues and the abundance of the word of spiritual knowledge, Saul is more wicked, suffocated by an evil spirit, not bearing the glory of virtue and the knowledge of blessedness, which is superior, and for this reason he becomes more furious because he is unable to handle the benefactor.\n",
      "\n",
      "But many times Jonathan himself is bitterly sent away, the dearest one, speaking sincerely according to conscience, rebuking unjust hatred and lovingly recounting the accomplishments of the hated one, Saul, which were long ago and truly in vain. Regarding whom Samuel says, as a transgressor of divine commandments, \"You have rejected the commandment of the Lord that he commanded you.\" Saul, as I have said, is either the written law or the people of the Jews who govern according to the written law. When the spirit of the Lord, which is spiritual perception and knowledge, departs from both of them intertwined in this human way, an evil spirit, that is, the material mindset, comes upon them, disturbing them with conflicting thoughts and turmoil arising from their origin and corruption, suffocating them with a disturbance of thoughts. For both the law, when understood strictly according to the letter alone, is afflicted, shaken by countless oppositions, and has no harmony within itself. And the mind that is adhered to Judaism, being influenced by the unstable motion of material things, also has an unstable disposition itself. But when David, truly a musician by nature, our Lord Jesus, sings with the spirit of gnosis (knowledge), he transforms both the law and the Jew, making the former spiritual instead of material, and guiding the latter from unbelief to faith. According to Saul, therefore, both the law and the Jewish people are afflicted and temperate. For the law is afflicted, as I have said, when viewed in a human way, and the Jew is afflicted, desiring to worship God in a human way. And again, the law is temperate, understood spiritually, and the Jew is likewise temperate, being transferred from bodily worship to the spiritual service of God.\n",
      "\n",
      "It should be noted that Saul kills those saved by Jesus. For the spirit of the Scripture that he strives to uphold leads him to kill the letter. Therefore, the God who anointed him as king of Israel, the written law, repents when he takes on human form among the Jews, and gives the power of the kingdom to the spirit, which is above the letter and is good beyond the letter. It says, \"And I will give the kingdom to your neighbor, who is better than you.\" Just as David was a neighbor to Saul, so the spirit clearly surpassed the letter of the law; this is what comes to light after the death of the letter.\n",
      "\n",
      "Let us therefore ask the spiritual David to accompany us on the lyre of spiritual contemplation and knowledge, seizing our minds, which are attached to material things, and to drive away the evil spirit of sensory temptation. So that we may be able to understand the law spiritually and discover the hidden mystical word within it, and make it a constant provision for eternal life. Let us not have the borrowed law that is symbolically expressed in letters, being deprived of the knowledge of grace in the Spirit. Let us desire only the divine inquiry, as if we do not see, lacking the full and all-encompassing sight of the mystical teachings. Both are called Saul, being translated into Greek. For they are interpreted as \"borrowed\" and \"inquiry.\" These have become the established law, one as not being most familiar to our nature and not extending fully to its very existence, and the other as moving us to true knowledge and primary wisdom. Those who do not consider the inquiry as the attainment of the sought-after divine archetype, but only as symbols in the law, as it were, through some inquiry, for the sake of the urgent attainment of divine goods, so that we may cease our concern for the inquiry, in which there is often error and wandering, and be transformed by the truth of the divine reality we seek. And let us obtain their blessedness, as it appears unchangeably in us through participation and the form of our knowledge, making our existence known in Christ Jesus our God and Savior, to whom be glory forever. Amen.\n",
      "\n",
      "Σχόλια σημαίνει \"σχόλια\" στα Ελληνικά. Αν έχετε κάποια συγκεκριμένη ερώτηση ή αίτημα σχετικά με τη μετάφραση, παρακαλώ να το αναφέρετε πιο αναλυτικά.\n",
      "\n",
      "The mind, depraved to the extreme through vice, naturally ought to be taught the words of virtue. And by fittingly characterizing the divine knowledge that arises from them, it makes its own face. For the mind, in and of itself, becomes ignorant and formless, having an acquired form either of knowledge arising from virtue in the spirit, or of ignorance resulting from passions.\n",
      "\n",
      "2. Having received the divine knowledge of the form of the intellect derived from virtues in the Spirit, it is said to experience the divine things, not according to its essence, but it has received them according to this participation by grace. However, the one who has not received the knowledge derived from grace, even if he speaks something gnosis-like, does not know the power of what is being said according to the experience. For mere learning does not give knowledge according to disposition.\n",
      "\n",
      "Well, according to this passage from the Scripture, it is rightly said that Saul takes the place. This is because in many other places, ways are taken that closely correspond to the theory revealed in the story.\n",
      "\n",
      "\"As, he says, the one who joins with a concubine does not possess a lawful marriage; so the one who learns through bodily exercise does not have a lawful association with it; he produces illegitimate teachings, corrupted by the desires of the flesh.\"\n",
      "\n",
      "\"The one who receives the knowledge of Scripture, it is said, learns from it the actual sin itself and the study of sin in the mind; indulgence, and intemperance in company, and murders, and the abhorrence of all creation of God are learned from the letter of the law.\"\n",
      "\n",
      "6. Theory according to another imposition. Anathema is said and this world, the condemned place; which by its own nature is born of effort, not understanding the spirit of the law as it should.\n",
      "\n",
      "7. \"That,\" he said, \"is how we relate to it, and to that we have gained knowledge through intellectual inquiry.\"\n",
      "\n",
      "8. According to another theory, that it is a curse, and the movement of passions is imageless. However, shame is the sensation-producing motion of the passion towards the perception of the mind, and it supplies matter suitable to the passion in thoughts.\n",
      "\n",
      "9. According to the summary, he presented the three theories of the text.\n",
      "\n",
      "10. The one who believes that divine commandment is to indulge in bodily pleasure according to the law, receives gluttony as a gift from God with joy for cohabitation; from which, it gives birth to those who corrupt the operation of the senses through misuse.\n",
      "\n",
      "11. Epitomos ton protheōrēthentōn epanalēpsis, di' hēs deiknysin hoti ho sōmatikōs eklambanōn ton nomon, tēn autou pallakeuetai mathēsin; kai genna tēn te tōn pathōn hexin kai tēn energeian; kai hōs theian eisoikizetai tēn gastrimargian, pros genesin tōn rypainontōn tē parachrēsei tas aisthēseis tropōn; eis anairestin tōn en tois ousi physikōn logōn te kai sperma- tōn.\n",
      "\n",
      "12. He says that when the symbols of the law are preserved, one is not able to discern the nature of things according to reason, and the set words are shaped substantively by the Creator for the existing things, due to the difference between the symbols and the nature of things.\n",
      "\n",
      "13. The words of nature carry the material for the knowledge of divine things; they also carry the release from passions, and the transmission of the vital energy in the spirit.\n",
      "\n",
      "14. Another theory concerning the same (matters) presents through the Gabaonites the calling of the nations.\n",
      "\n",
      "\"He spoke of matter and form in theory, both Hermes Trismegistus and Memphistopheles, and the five sons of Merov, with their fivefold abuse of the senses. Having intertwined them with each other, that is, by combining matter and form, he united sensation through the constitution of the law to the flesh, describing only the mind with the letter. While it produces a carnal passion, it corrupts natural reasoning.\"\n",
      "\n",
      "16. That passion and nature, according to their respective essence, in no way coexist with each other.\n",
      "\n",
      "17. \"He who does not believe,\" he says, \"that the Scripture is spiritual, does not perceive his own poverty in understanding.\"\n",
      "\n",
      "18. \"When,\" he says, \"David receives the law, according to the Jews, the letter signifies annulment, because of the carnal tradition of divine ordinances; but according to the Christians, the spirit signifies powerful vision, because of the intellectual contemplation of knowledge.\"\n",
      "\n",
      "19. The soul of Scripture said, the spirit: \"The body is the letter.\"\n",
      "\n",
      "20. He speaks of the three years, the three laws, the written, the natural, and the law of grace, each having a different purpose. Therefore, the one who takes the written law bodily does not nourish the soul with virtues, and the one who does not impose the words of beings does not diligently feed the mind with the various wisdom of God, and the one who does not know the great mystery of the new grace does not rejoice in the hope of the future vision. Therefore, the lack of spiritual contemplation of the written law has accompanying it the deficiency of understanding the diverse wisdom of God according to the natural law, having the ignorance of the forthcoming vision given by the grace of the new mystery entirely.\n",
      "\n",
      "21. One who does not understand the law spiritually, even if they die with the law, does not worship it carnally but possesses the superficial meanings of the law; it encompasses the children of Saul and their descendants; therefore, he is tormented by the hunger of knowledge.\n",
      "\n",
      "22. Just as the face is characteristic of each individual, so too is spiritual knowledge emphatically characteristic of the divine. He who seeks it is said to seek the face of the Lord.\n",
      "\n",
      "As strong in vision as he is, the discerning mind of David is interpreted.\n",
      "\n",
      "24. The one who is of the flesh, according to the letter of the law, desires ignorance, and eagerly awaits only the pleasure of the fleshly commandment through bloody sacrifices.\n",
      "\n",
      "25. He says that the one who worships according to the law bodily, generates in action the whole sin; and as a form, is materially shaped by the consent to it through the pleasurable offerings of the senses. But the one who receives the Scripture spiritually, as matter, the action; and as form, the consent to sin, after the contrary motions towards sensual pleasure of the senses, he puts to death the sons and heirs of the legal code through natural reasoning in the heights of contemplation.\n",
      "\n",
      "26. That without a knowledge of natural philosophy, no one can accurately interpret the divine meanings of legal symbols.\n",
      "\n",
      "27. To exiliasai nenoēken, anti tou phanerōsai kata to ȳpsos tēs theōrias to gram̱ma tou nomou nekrōn, dia tēs en pneumati gnoseōs.\n",
      "\n",
      "Translation: It has been illuminated, instead of revealing in the height of contemplation, the letter of the law dead, through the spirit of knowledge.\n",
      "\n",
      "28. The boundary of Israel has been enlightened, both in terms of discourse and the manner of spiritual contemplation, in which the bodily transmission of the Law is unable to fully stand.\n",
      "\n",
      "29. \"The spirit,\" they say, \"belongs to life as an enhancer; the letter, on the other hand, is a negator of life. Therefore, the letter cannot both do the same as the spirit, just as the life-giving does not coexist with the destructive.\"\n",
      "\n",
      "30. Circumcision is said to be natural; everything natural is a work of divine creation. And the work of divine creation is very beautiful, according to the words, \"God saw everything that he had made, and indeed, it was very good.\" But the law commands the removal, by means of circumcision, of that which it considers unclean, introducing an artificial correction of God's own work. This is an extremely impious notion. Therefore, the one who imposes the symbols of the law knows that God is not corrected by human skill, but rather commands the soul to be passively circumcised by the persuasive power of reason, which is figuratively represented by the bodily part. This is what knowledge has naturally taught us, to lay aside by means of the practice of courage the perception represented by the bodily organ. For the priest who circumcises signifies knowledge, which possesses the strength of reason, like iron, against the passions, through the practice of courage. Therefore, the bodily tradition of the law is destroyed, when the letter is neglected in favor of the spirit.\n",
      "\n",
      "31. \"Boundary of the mystical theory concerning circumcision.\"\n",
      "\n",
      "32. The boundary of the secret legislation concerning the Sabbath, in which it secretly presents what the Sabbath is, and what the spiritual significance is about it, that it is a cessation of passions and of the movement of the intellect concerning the nature of beings.\n",
      "\n",
      "It is clear that God.\n",
      "\n",
      "34. What do the new moons signify?\n",
      "\n",
      "35. The boundary of the crown of kindness.\n",
      "\n",
      "36. Another term even more mysterious.\n",
      "\n",
      "37. Here, it is said that self-control is the work of Providence, as it cleanses one of impure passions. And patience is said to be an accomplishment of judgment, as it opposes temptations that happen unexpectedly.\n",
      "\n",
      "38. The first festival, it is called Pascha.\n",
      "\n",
      "39. It is called the feast of Pentecost.\n",
      "\n",
      "40. He is referring to the third day, which is in the seventh month, the day of Atonement.\n",
      "\n",
      "41. Look how the law destroys those who understand it physically, worshiping the creation instead of the Creator, whom they should obey. And they consider the things that have happened through them, ignoring the one through whom they have come to be, as holy by nature.\n",
      "\n",
      "In English, the translation of \"Πῶς ἐστι Σάββατον ὁ Θεός.\" is \"How is the Sabbath God.\"\n",
      "\n",
      "43. How is God and Passover a mystery?\n",
      "\n",
      "44. The mystery of the feast of Pentecost, in which the power of the Spirit of the revealed mysteries was mysteriously initiated, calling God Pentecost. For just as the unity of the week remains steadfast after the weekly cycle, completing Pentecost; and again, by the approach of the five-fold procession, forming Pentecost and being both its beginning and end. The former because it is prior to all substance and motion, the latter because it is beyond all substance and motion. This is how God, to whom He ascribed the typological unity, is both the beginning and end of all things, and the logic by which all things are composed. He is the beginning in that He is prior to every essence and motion, and the end in that He surpasses every essence and motion. He is the logic by which all things are providentially ordered, as the foundation of the unity in which each being has its existence in His Word. So when the times and ages, to which the week refers, come to an end, God Himself will be the most perfect, without the mediation of place and time, uniting through Himself the true existence of all things in the preserved reality. That is, the created nature that He included in the Pentad, not only through the senses it naturally possesses, but through the universal knowledge that has been established in the comprehension of the intellectual and rational, sensory and living beings, and the imperceptible existence. Therefore, the stationary nature and the temporal motion, as well as the place and time, which have been made beyond it through His mediation, will cease, through the true affinity that has been established in the preserved beings, the essence of nature. For God Himself, by the principle of Providence, through the decade of Commandments, indicated His own nature (that is, the characteristic mark of His grace in theosis), and will be freed from the stationary condition in the place description and the temporal motion, receiving the immovable state, the endless enjoyment of the divine and the desire for eternal motion.\n",
      "\n",
      "45. In the seventh month there are three festivals: the Feast of Trumpets, the Day of Atonement, and the Feast of Tabernacles. The Feast of Trumpets represents the Law and the prophecies, and is a symbol of the knowledge proclaimed through them. The Day of Atonement, on the other hand, is a symbol of reconciliation between God and humanity through the incarnation. For by willingly assuming the condemnation of the condemned, he dissolved the enmity that had been established against him. And the Feast of Tabernacles is a foreshadowing of resurrection and the transformation of all things towards incorruptibility.\n",
      "\n",
      "46. He says that by offering simple and bloodless sacrifices, he takes care to prepare those who offer them so that they may fervently strive for the passions. For he loves to rejoice genuinely in those who worship with reverence, for whom the object of worship is a source of joy.\n",
      "\n",
      "47. The word says that sacrifice is the slaughter of passions, and the bringing of natural powers; of which the image of the word is the lamb; of anger, it bears the symbol, the bull; and of desire, the goat is the declaration.\n",
      "\n",
      "48. The ordinary person clearly lacks the understanding of Scripture, which, holding dominion over the soul, dismisses natural arguments by misusing their inherent power, causing them to vanish.\n",
      "\n",
      "\"He who, it is said, stops to apprehend the Scripture in terms of the body, also runs through the nature of the mind towards the Spirit, accomplishing those things spiritually which the Jew, while being angry with God, has.\"\n",
      "\n",
      "Who is the hand of the Gibeonites, to whom David gives the descendants of Saul?\n",
      "\n",
      "51. The term \"ex-heliasmos\" signifies the manifestation of the sufferings borne by beings, triumphantly understood through the lofty contemplation of the high order of nature.\n",
      "\n",
      "\"The instruction regarding the law, he says, having the dead bodily images of the law in front of it, through repentance, sitting by the word according to Christ, receives the rains of heavenly knowledge enlightenments.\"\n",
      "\n",
      "It is evident by wheat.\n",
      "\n",
      "It is clear by the wine.\n",
      "\n",
      "It is clear with olive oil that...\n",
      "\n",
      "56. He said that grain is the support of the soul, as it is a spiritual knowledge; and wine, on the other hand, is a gladdener of the heart, as it is a creator of the erotic union with God; and oil, it has been said, is the enhancer of the face's cheerfulness, as it is characteristic of the brightness of the mind through the tranquility of spiritual grace.\n",
      "\n",
      "57. The Amalekite is gluttony; its ruler is indulgence, a mindset that is base. Its flocks and herds are the nourishing substances of passions. The vine, on the other hand, is the impulsive movement of the mind. The olive, however, is the smoothness of desire, which is consumed as fire for the enjoyment, and is transferred as if to holy ground, to the disposition of godliness, dwelling in the bodily aspects of the law. For these reasons, it receives divine rejection as a reward.\n",
      "\n",
      "58. The people of the Jews were called foolish as if they were atheistic; and they were also unintelligent, as they were engaged in evil deeds, which is impious and sinful.\n",
      "\n",
      "59. The passion of gluttony, it is said, naturally kills the offspring of divine virtues; whereas, the grace of faith and obedience to divine commandments, through the knowledge, gives life.\n",
      "\n",
      "The sentence \"Πῶς ἐστι φῶς\" translates to \"What is light?\" in English.\n",
      "\n",
      "61. How is the preparation before the face of all nations the Lord?\n",
      "\n",
      "62. How glorious is the Lord, the God of Israel.\n",
      "\n",
      "63. According to another theory, who are the people, and what is their individual preparation for the community?\n",
      "\n",
      "64. Which nations are once again being revealed by the coming Logos?\n",
      "\n",
      "The glory of the Word is called again the Israel.\n",
      "\n",
      "\"Simultaneously,\" he said, \"someone kills the physical mind within the letter of the law, and accepts the spiritual reason reigning within the spirit.\"\n",
      "\n",
      "67. David received it (the Word) and offered it to the Lord, to the Gospel, to the spiritual law, to knowledge, to contemplation, to the so-called action, and to the new people. And in many ways of contemplation, he fittingly adapted it to the appropriate places according to the need presented.\n",
      "\n",
      "68. The one who has the images but not the archetypes of the mysteries, the question but not the knowledge of the enlightenments in the spirit, borrowing the acknowledged trial according to perception in the symbols of the law; hungering in the soul for the spirit, and searching as it were for the guidance of true knowledge.\n",
      "\n",
      "69. Metaxylogia is that which often involves both confusion and error.\n",
      "\n",
      "70. It is clear from the beatitude that those who have been deemed worthy according to its order and are characterized by it, are also made known through it.\n"
     ]
    }
   ],
   "source": [
    "trans = print_translation('ΠΡΟΣ ΘΑΛΑΣΣΙΟΝ','65')\n",
    "print(trans)"
   ]
  },
  {
   "cell_type": "markdown",
   "id": "fd1f91f6-59ba-47b4-8d15-10371a407a7e",
   "metadata": {},
   "source": [
    "# Vector Embeddings"
   ]
  },
  {
   "cell_type": "markdown",
   "id": "54e17a16-57ec-496f-9bff-2f434e52408c",
   "metadata": {},
   "source": [
    "In 2021, Joseph Dexter and his group tried using word2vec as a way of identifying intertextual references, with limited success. In line with word2vec's design, they converted each word into a vector, and compared all possible pairs of bigrams across the two texts.\n",
    "\n",
    "The OpenAI vector embeddings operate on larger chunks of text, and can be used for whole sentences or paragraphs. There are a number of things we can imagine doing with this:\n",
    "1. Identify candidate allusions, by returning verses with cosine scores against the target text a certain number of standard deviations above the mean (or, with less than a given p value).\n",
    "2. Identify main themes by clustering (with embeddings at paragraph level).\n",
    "3. Recommend related content (with embeddings at paragraph level).\n",
    "\n",
    "Ideally, this would also work across languages, enabling search for allusions to Augustine, for instance."
   ]
  },
  {
   "cell_type": "markdown",
   "id": "ad9ee536-59a5-46ec-b82a-91c760f154ba",
   "metadata": {},
   "source": [
    "Steps:\n",
    "1. Test API on a single unit\n",
    "2. Set up mongodb collection for storing embeddings (labeled with all metadata from unit, plus the unit id and the name of the embedding algorithm).\n",
    "3. Write script to embed all units in a given text.\n",
    "4. Write script to read embeddings, compute cosine score matrix, identify significant results, and save the candidate matches.\n",
    "5. Find functions for t-sne and clustering."
   ]
  },
  {
   "cell_type": "markdown",
   "id": "edcd9b9e-c767-4478-a36d-f1eef6f44fe3",
   "metadata": {},
   "source": [
    "## Test API"
   ]
  },
  {
   "cell_type": "markdown",
   "id": "8f784d3b-232a-4189-a9dd-cc4862e88ddf",
   "metadata": {},
   "source": [
    "Anecdotally, the embedding makes all the distinctions I'm interested in surprisingly well. Comparison with the source of a quotation gives a higher score than a control sampled from the same author, and comparison with a translation gives a higher score than a control in the same language as translation. And even a small mistake in the translation reduces the score."
   ]
  },
  {
   "cell_type": "code",
   "execution_count": 2,
   "id": "d9c4a642-7cc4-46b1-b4fc-b714f67ca967",
   "metadata": {},
   "outputs": [],
   "source": [
    "from openai import OpenAI\n",
    "\n",
    "with open('api_key.txt','r') as f:\n",
    "    api_key = f.read()\n",
    "client = OpenAI(api_key=api_key)\n",
    "\n",
    "NT = connection.find('texts',title='New Testament')[0].id\n",
    "source = connection.find('units',tags='John.5.17',text=NT,unit_type='line')[0].snippet\n",
    "same_author = connection.find('units',tags='John.5.16',text=NT,unit_type='line')[0].snippet\n",
    "allusion ='Εἰ πάντα τὰ εἴδη τὰ συμπληροῦντα τὸν κόσμον ἐν ταῖς ἓξ ἡμέραις ὁ δημιουργὸς ἐποίησεν, τί μετὰ ταῦτα ὁ Πατὴρ ἐργάζεται; Λέγει γὰρ ὁ Σωτὴρ ὁ Πατήρ μου ἕως ἄρτι ἐργάζεται, κἀγὼ ἐργάζομαι. Μή τι ἆρα τὴν τῶν ἅπαξ γεγονότων εἰδῶν συντήρησιν λέγει;'\n",
    "translation = 'But he replied to them: My Father is at work until now, and I am at work.'\n",
    "mistranslation = 'But he replied to them: My Father is at work until now, and you are at work.'\n",
    "control = 'Identifying intertextual relationships between authors is of central importance to the study of literature.'\n",
    "\n",
    "result = client.embeddings.create(input = [source,same_author,allusion,translation,mistranslation,control], model=\"text-embedding-ada-002\")"
   ]
  },
  {
   "cell_type": "code",
   "execution_count": 9,
   "id": "b0694bc4-cdad-4eca-8b04-cc234e6114d6",
   "metadata": {},
   "outputs": [
    {
     "data": {
      "text/plain": [
       "array([ 0.00034354, -0.0336565 , -0.02465285, ...,  0.00692022,\n",
       "        0.02048598, -0.0117302 ])"
      ]
     },
     "execution_count": 9,
     "metadata": {},
     "output_type": "execute_result"
    }
   ],
   "source": [
    "import numpy as np\n",
    "np.asarray(result.data[0].embedding)"
   ]
  },
  {
   "cell_type": "code",
   "execution_count": 146,
   "id": "146442d4-3371-412f-affd-4b87125b01d6",
   "metadata": {},
   "outputs": [
    {
     "name": "stdout",
     "output_type": "stream",
     "text": [
      "same_author: 0.854808336397986\n",
      "allusion: 0.8892955815974288\n",
      "translation: 0.835774303456117\n",
      "mistranslation: 0.8263597473912981\n",
      "control: 0.7132370283030396\n"
     ]
    }
   ],
   "source": [
    "import numpy as np\n",
    "M = np.asarray([result.data[k].embedding for k in range(len(result.data))])\n",
    "D = M.dot(M.T)\n",
    "D = D - np.diag(D)*np.eye(np.shape(M)[0])\n",
    "\n",
    "labels = ['same_author','allusion','translation','mistranslation','control']\n",
    "for k in range(len(D)-1):\n",
    "    print(labels[k]+': '+str(D[0,1+k]))"
   ]
  },
  {
   "cell_type": "markdown",
   "id": "edbc9ed2-88c2-4007-ad68-120b37fb9b0b",
   "metadata": {},
   "source": [
    "## Automate embedding"
   ]
  },
  {
   "cell_type": "code",
   "execution_count": 92,
   "id": "9f7593bc-5971-456d-b3f3-6a1c1ae02f64",
   "metadata": {},
   "outputs": [],
   "source": [
    "from tesserae.db.entities import Vector\n",
    "import pandas as pd\n",
    "from openai import OpenAI\n",
    "import time\n",
    "\n",
    "with open('api_key.txt','r') as f:\n",
    "    api_key = f.read()\n",
    "\n",
    "def embed_text(title):\n",
    "    text_id = connection.find('texts',title=title)[0].id\n",
    "    text_df = pd.DataFrame(connection.aggregate('units',[{'$match': {'text': text_id, 'unit_type': 'line'}}, \n",
    "                                               {\"$project\": {\"_id\": 0, \"index\": 1, \"tags\": 1, \"unit_type\": 1, \"snippet\": 1}}],\n",
    "                                              encode=False))\n",
    "    lengths = text_df['snippet'].str.len()\n",
    "    text_df = text_df.loc[lengths>16]\n",
    "    client = OpenAI(api_key=api_key)\n",
    "    embeddings = client.embeddings.create(input = list(text_df['snippet'].values), model=\"text-embedding-ada-002\").data\n",
    "    return connection.insert([Vector(text=text_id,vector=embeddings[k].embedding,**text_df.T.drop('snippet').T.iloc[k]) for k in range(len(text_df))])"
   ]
  },
  {
   "cell_type": "code",
   "execution_count": 93,
   "id": "78b72a32-1d5e-4e1c-a996-99b721ad2939",
   "metadata": {},
   "outputs": [],
   "source": [
    "out = embed_text('ΠΡΟΣ ΘΑΛΑΣΣΙΟΝ')"
   ]
  },
  {
   "cell_type": "markdown",
   "id": "f85f5b05-0ed9-4086-b692-67e810f845cd",
   "metadata": {},
   "source": [
    "## Plot results"
   ]
  },
  {
   "cell_type": "code",
   "execution_count": 95,
   "id": "75c32dfc-6aa7-4caf-b667-598f3d190b73",
   "metadata": {},
   "outputs": [
    {
     "data": {
      "image/png": "[encoded data removed]",
      "text/plain": [
       "<Figure size 640x480 with 1 Axes>"
      ]
     },
     "metadata": {},
     "output_type": "display_data"
    }
   ],
   "source": [
    "import numpy as np\n",
    "import matplotlib.pyplot as plt\n",
    "from sklearn.decomposition import PCA\n",
    "from sklearn.manifold import TSNE\n",
    "from pymongo import MongoClient\n",
    "\n",
    "def load_vectors_from_mongodb(title):\n",
    "    text_id = connection.find('texts',title=title)[0].id\n",
    "    vectors = pd.DataFrame(connection.aggregate('vectors',[{'$match': {'text': text_id, 'unit_type': 'line'}}, \n",
    "                                               {\"$project\": {\"_id\": 0, \"index\": 1, \"tags\": {\"$arrayElemAt\": [\"$tags\", 0]}, \"unit_type\": 1, \"vector\": 1}}],\n",
    "                                              encode=False))\n",
    "    vectors['title'] = title\n",
    "    return vectors\n",
    "\n",
    "def fit_and_transform_pca(data, n_components=50):\n",
    "    pca = PCA(n_components=n_components)\n",
    "    return pca.fit_transform(data)\n",
    "\n",
    "def fit_and_transform_tsne(data, n_components=2):\n",
    "    tsne = TSNE(n_components=n_components)\n",
    "    return tsne.fit_transform(data)\n",
    "\n",
    "def plot_scatter(data, title=\"Scatter Plot\", color = 'k'):\n",
    "    plt.scatter(data[:, 0], data[:, 1], c = color)\n",
    "    plt.title(title)\n",
    "    plt.xlabel(\"Dimension 1\")\n",
    "    plt.ylabel(\"Dimension 2\")\n",
    "\n",
    "\n",
    "# Load vectors from MongoDB\n",
    "vectors = load_vectors_from_mongodb('ΠΡΟΣ ΘΑΛΑΣΣΙΟΝ')\n",
    "\n",
    "# Reduce dimensionality using PCA\n",
    "pca_result = fit_and_transform_pca(np.array([np.array(vector) for vector in vectors['vector']]))\n",
    "\n",
    "# Reduce dimensionality using t-SNE\n",
    "tsne_result = fit_and_transform_tsne(pca_result)\n",
    "\n",
    "# Plot the scatter plot\n",
    "plot_scatter(tsne_result, title=\"t-SNE Scatter Plot\")           \n",
    "plot_scatter(tsne_result[vectors['tags'].str.contains('61.')], color = 'r')\n",
    "             \n",
    "plt.show()"
   ]
  },
  {
   "cell_type": "code",
   "execution_count": 87,
   "id": "f1eab9a9-f0cd-4ad7-936b-a5523d945e21",
   "metadata": {},
   "outputs": [
    {
     "data": {
      "text/plain": [
       "896    1002\n",
       "897    1003\n",
       "Name: index, dtype: int64"
      ]
     },
     "execution_count": 87,
     "metadata": {},
     "output_type": "execute_result"
    }
   ],
   "source": [
    "vectors['index'][vectors['tags'].str.contains('61.')][:2]"
   ]
  },
  {
   "cell_type": "code",
   "execution_count": 89,
   "id": "11fdffdb-a571-4309-9b97-691e755cb1a3",
   "metadata": {},
   "outputs": [],
   "source": [
    "title = 'ΠΡΟΣ ΘΑΛΑΣΣΙΟΝ'\n",
    "text_id = connection.find('texts',title=title)[0].idconnection.find('units',unit_type='line',text=text_id,index=1002)[0].snippet"
   ]
  }
 ],
 "metadata": {
  "kernelspec": {
   "display_name": "Python 3 (ipykernel)",
   "language": "python",
   "name": "python3"
  },
  "language_info": {
   "codemirror_mode": {
    "name": "ipython",
    "version": 3
   },
   "file_extension": ".py",
   "mimetype": "text/x-python",
   "name": "python",
   "nbconvert_exporter": "python",
   "pygments_lexer": "ipython3",
   "version": "3.8.18"
  }
 },
 "nbformat": 4,
 "nbformat_minor": 5
}
